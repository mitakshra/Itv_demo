{
  "cells": [
    {
      "cell_type": "markdown",
      "metadata": {
        "id": "view-in-github",
        "colab_type": "text"
      },
      "source": [
        "<a href=\"https://colab.research.google.com/github/mitakshra/Itv_demo/blob/main/E310_W_RD.ipynb\" target=\"_parent\"><img src=\"https://colab.research.google.com/assets/colab-badge.svg\" alt=\"Open In Colab\"/></a>"
      ]
    },
    {
      "cell_type": "code",
      "execution_count": null,
      "metadata": {
        "id": "oi1zh_-YgcdG"
      },
      "outputs": [],
      "source": [
        "a = 10\n",
        "b = 20\n",
        "a+b"
      ]
    },
    {
      "cell_type": "code",
      "execution_count": null,
      "metadata": {
        "id": "OKBpdvGdir_j"
      },
      "outputs": [],
      "source": [
        "a = 10"
      ]
    },
    {
      "cell_type": "code",
      "execution_count": null,
      "metadata": {
        "id": "7HWsU8iEit_l"
      },
      "outputs": [],
      "source": [
        "b=20"
      ]
    },
    {
      "cell_type": "code",
      "execution_count": null,
      "metadata": {
        "id": "ISttNlofivfL"
      },
      "outputs": [],
      "source": [
        "c=a+b"
      ]
    },
    {
      "cell_type": "code",
      "execution_count": null,
      "metadata": {
        "id": "ydNhjcECi5Ac"
      },
      "outputs": [],
      "source": [
        "x = 3\n",
        "b = 5\n",
        "a = 2\n",
        "y = a*x + b\n",
        "print(y)"
      ]
    },
    {
      "cell_type": "code",
      "execution_count": null,
      "metadata": {
        "id": "O5hz_r6zmKb0"
      },
      "outputs": [],
      "source": [
        "var = \"Rituraj\"\n",
        "_var1 = \"Dixit\"\n",
        "_ = \"learning\""
      ]
    },
    {
      "cell_type": "code",
      "execution_count": null,
      "metadata": {
        "id": "YKltZ0jbmY_o"
      },
      "outputs": [],
      "source": [
        "1var1 = \"rituraj\""
      ]
    },
    {
      "cell_type": "code",
      "execution_count": null,
      "metadata": {
        "id": "BIUe-tH6mkGu"
      },
      "outputs": [],
      "source": [
        "!var = \"dixit\""
      ]
    },
    {
      "cell_type": "code",
      "execution_count": null,
      "metadata": {
        "id": "DE8XgpQQmsb1"
      },
      "outputs": [],
      "source": [
        "var = 10\n",
        "VAR = 20\n",
        "print(var)"
      ]
    },
    {
      "cell_type": "code",
      "execution_count": null,
      "metadata": {
        "id": "U-CXN6O1m7c-"
      },
      "outputs": [],
      "source": [
        "print(VAR)"
      ]
    },
    {
      "cell_type": "markdown",
      "metadata": {
        "id": "BfwnUWCCn8Ah"
      },
      "source": [
        "Numeric Types in Python"
      ]
    },
    {
      "cell_type": "code",
      "execution_count": null,
      "metadata": {
        "id": "dV9cvJoyn_gK"
      },
      "outputs": [],
      "source": [
        "x = 1 # int\n",
        "y = 2.8 # float\n",
        "z = 4 + 5j # complex"
      ]
    },
    {
      "cell_type": "code",
      "execution_count": null,
      "metadata": {
        "id": "tyGvcguhoNXg"
      },
      "outputs": [],
      "source": [
        "print(type(x))"
      ]
    },
    {
      "cell_type": "code",
      "execution_count": null,
      "metadata": {
        "id": "YP2YxLSIoP0w"
      },
      "outputs": [],
      "source": [
        "print(type(y))"
      ]
    },
    {
      "cell_type": "code",
      "execution_count": null,
      "metadata": {
        "id": "MG4e9meIoSfY"
      },
      "outputs": [],
      "source": [
        "print(type(z))"
      ]
    },
    {
      "cell_type": "markdown",
      "metadata": {
        "id": "BzaBTvY9p8DQ"
      },
      "source": [
        "String in Python"
      ]
    },
    {
      "cell_type": "code",
      "execution_count": null,
      "metadata": {
        "id": "fBKv-WNzp7AU"
      },
      "outputs": [],
      "source": [
        "a = \"Hello World\"\n",
        "print(a)\n",
        "print(a[0:12])"
      ]
    },
    {
      "cell_type": "code",
      "execution_count": null,
      "metadata": {
        "id": "SIWjQghBoppC"
      },
      "outputs": [],
      "source": [
        "print(a[3:8])"
      ]
    },
    {
      "cell_type": "code",
      "execution_count": null,
      "metadata": {
        "id": "vIcuJ3MEqnC3"
      },
      "outputs": [],
      "source": [
        "# first character\n",
        "print(a[0])"
      ]
    },
    {
      "cell_type": "code",
      "execution_count": null,
      "metadata": {
        "id": "aa-WRmUJquS4"
      },
      "outputs": [],
      "source": [
        "print(a[0:1])"
      ]
    },
    {
      "cell_type": "code",
      "execution_count": null,
      "metadata": {
        "id": "dNT4aRsrqwsX"
      },
      "outputs": [],
      "source": [
        "# print the values from second character to last\n",
        "print(a[1:])"
      ]
    },
    {
      "cell_type": "code",
      "execution_count": null,
      "metadata": {
        "id": "R2mHCmPuq6Ge"
      },
      "outputs": [],
      "source": [
        "# to reverse a string\n",
        "print(a[::-1])"
      ]
    },
    {
      "cell_type": "code",
      "execution_count": null,
      "metadata": {
        "id": "ryO5wA8zroFA"
      },
      "outputs": [],
      "source": [
        "a[-5:-1]"
      ]
    },
    {
      "cell_type": "code",
      "execution_count": null,
      "metadata": {
        "id": "kCOFQSGIrs3p"
      },
      "outputs": [],
      "source": [
        "a[-1:-5]"
      ]
    },
    {
      "cell_type": "code",
      "execution_count": null,
      "metadata": {
        "id": "ql_SVLlWrwNl"
      },
      "outputs": [],
      "source": [
        "print(a[-9:-2])"
      ]
    },
    {
      "cell_type": "code",
      "execution_count": null,
      "metadata": {
        "id": "GDDP2kgPsqqD"
      },
      "outputs": [],
      "source": [
        "print(len(a))"
      ]
    },
    {
      "cell_type": "code",
      "execution_count": null,
      "metadata": {
        "id": "x2arXQXOsyI7"
      },
      "outputs": [],
      "source": [
        "print(a.lower())"
      ]
    },
    {
      "cell_type": "code",
      "execution_count": null,
      "metadata": {
        "id": "r9SZq-4Os-r9"
      },
      "outputs": [],
      "source": [
        "print(a.upper())"
      ]
    },
    {
      "cell_type": "markdown",
      "metadata": {
        "id": "DqOGtn8PtFbY"
      },
      "source": [
        "String Input from User"
      ]
    },
    {
      "cell_type": "code",
      "execution_count": null,
      "metadata": {
        "id": "QfUB7bJ6tB47"
      },
      "outputs": [],
      "source": [
        "print(\"Enter Your Name\")\n",
        "name = input()\n",
        "print(\"Hello \" + name)"
      ]
    },
    {
      "cell_type": "code",
      "execution_count": null,
      "metadata": {
        "id": "kR15U7-qtps1"
      },
      "outputs": [],
      "source": [
        "name1 = input(\"Enter your first name\")\n",
        "print(\"Hello \"+ name1)"
      ]
    },
    {
      "cell_type": "code",
      "execution_count": null,
      "metadata": {
        "id": "YTFdTCkFvdeb"
      },
      "outputs": [],
      "source": [
        "# if else\n",
        "a,b = 10,20\n",
        "\n",
        "if a>b:\n",
        "  print(\"a is greater than b\")\n",
        "else:\n",
        "  print(\"b is greater than a\")"
      ]
    },
    {
      "cell_type": "code",
      "execution_count": null,
      "metadata": {
        "id": "ET69XyMLw2_1"
      },
      "outputs": [],
      "source": [
        "# using ELIF\n",
        "a = int(input(\"enter value of a\"))\n",
        "b = int(input(\"Enter value of b\"))\n",
        "\n",
        "if a>b:\n",
        "  print(\"a is grater thab b\")\n",
        "elif b>a:\n",
        "  print(\"b is greater than a \")\n",
        "elif a==b:\n",
        "  print(\"a and b are equal\")\n"
      ]
    },
    {
      "cell_type": "code",
      "execution_count": null,
      "metadata": {
        "id": "5sRHRSbxJrp_"
      },
      "outputs": [],
      "source": [
        "# if else\n",
        "a = 10\n",
        "if a>5:\n",
        "  print(\"a is greater than 5\")\n",
        "else:\n",
        "  print(\" a is smaller than 5\")"
      ]
    },
    {
      "cell_type": "code",
      "execution_count": null,
      "metadata": {
        "id": "gQzIMRdFLZol"
      },
      "outputs": [],
      "source": [
        "# taking the input from the user\n",
        "var1 = int(input(\"enter first number\"))\n",
        "var2 = int(input(\"enter second number\"))\n",
        "\n",
        "var3 = var1 + var2\n",
        "print(var3)"
      ]
    },
    {
      "cell_type": "code",
      "execution_count": null,
      "metadata": {
        "id": "K5E5SyfrNlJ6"
      },
      "outputs": [],
      "source": [
        "a = int(input(\"Enter the number\"))\n",
        "if a%2==0:\n",
        "  print('a is even')\n",
        "else:\n",
        "  print(' a is odd')"
      ]
    },
    {
      "cell_type": "code",
      "execution_count": null,
      "metadata": {
        "id": "pLfgdCvfPC8G"
      },
      "outputs": [],
      "source": [
        "b = 10+20)\n",
        "print(b)"
      ]
    },
    {
      "cell_type": "code",
      "execution_count": null,
      "metadata": {
        "id": "__UZySbkPN9G"
      },
      "outputs": [],
      "source": [
        "c = 10 +'Ram'"
      ]
    },
    {
      "cell_type": "markdown",
      "metadata": {
        "id": "p-PW6eQ6P9Xf"
      },
      "source": [
        "# Comparison and Logical Operation"
      ]
    },
    {
      "cell_type": "code",
      "execution_count": null,
      "metadata": {
        "id": "3QH66ucJP044"
      },
      "outputs": [],
      "source": [
        "12>15\n",
        "# the result produced by the comparison is a boolean decision which can be true or false"
      ]
    },
    {
      "cell_type": "code",
      "execution_count": null,
      "metadata": {
        "id": "-Yhe0FUQRwIO"
      },
      "outputs": [],
      "source": [
        "17<12"
      ]
    },
    {
      "cell_type": "code",
      "execution_count": null,
      "metadata": {
        "id": "qIfQKzuQRzV-"
      },
      "outputs": [],
      "source": [
        "10>5"
      ]
    },
    {
      "cell_type": "code",
      "execution_count": null,
      "metadata": {
        "id": "YxqtqqrnR1vd"
      },
      "outputs": [],
      "source": [
        "12==12"
      ]
    },
    {
      "cell_type": "code",
      "execution_count": null,
      "metadata": {
        "id": "lCYd_4mBSSmQ"
      },
      "outputs": [],
      "source": [
        "x = 5\n",
        "y = 10\n",
        "if x>0 and y>0:\n",
        "  print(\"both are greater than zero\")"
      ]
    },
    {
      "cell_type": "code",
      "execution_count": null,
      "metadata": {
        "id": "mJedFMPBSzlf"
      },
      "outputs": [],
      "source": [
        "x = 5\n",
        "y = -8\n",
        "if x>0 or y>0:\n",
        "  print('Either of x or y is greater than zero')"
      ]
    },
    {
      "cell_type": "code",
      "execution_count": null,
      "metadata": {
        "id": "yPyjNPgJUVfc"
      },
      "outputs": [],
      "source": [
        "# Not condition\n",
        "x = True\n",
        "if not x:\n",
        "  print(\" x is false\")\n",
        "else:\n",
        "  print(\"x is True\")"
      ]
    },
    {
      "cell_type": "code",
      "execution_count": null,
      "metadata": {
        "id": "fdwNUxdqWOkx"
      },
      "outputs": [],
      "source": [
        "5==4"
      ]
    },
    {
      "cell_type": "code",
      "execution_count": null,
      "metadata": {
        "id": "mhvZpHacWRHB"
      },
      "outputs": [],
      "source": [
        "not(False)"
      ]
    },
    {
      "cell_type": "code",
      "execution_count": null,
      "metadata": {
        "id": "-Gg_oZsNVrRI"
      },
      "outputs": [],
      "source": [
        "x = 4\n",
        "if not (x==4):\n",
        "  print(\"Twinkle twinkle\")\n",
        "else:\n",
        "  print(\"Little Star\")"
      ]
    },
    {
      "cell_type": "code",
      "execution_count": null,
      "metadata": {
        "id": "LLv_Y3aGWcE0"
      },
      "outputs": [],
      "source": [
        "is_sunny = True\n",
        "if not is_sunny:\n",
        "  print(\"It is Not Sunny\")\n",
        "else:\n",
        "  print(\"It is Sunny\")"
      ]
    },
    {
      "cell_type": "markdown",
      "metadata": {
        "id": "IRInRVGvYrrR"
      },
      "source": [
        "Data Types in Python"
      ]
    },
    {
      "cell_type": "code",
      "execution_count": null,
      "metadata": {
        "id": "TdV4fi4bXHTr"
      },
      "outputs": [],
      "source": [
        "x1 = 7\n",
        "print(type(x1))"
      ]
    },
    {
      "cell_type": "code",
      "execution_count": null,
      "metadata": {
        "id": "pMhHG--qY5CA"
      },
      "outputs": [],
      "source": [
        "x1 = \"7\"\n",
        "print(type(x1))"
      ]
    },
    {
      "cell_type": "code",
      "execution_count": null,
      "metadata": {
        "id": "X4_uLQnPZKBp"
      },
      "outputs": [],
      "source": [
        "y = 41.63\n",
        "print(type(y))"
      ]
    },
    {
      "cell_type": "markdown",
      "metadata": {
        "id": "RSZV4TAOZV2O"
      },
      "source": [
        "# Explicit type Casting"
      ]
    },
    {
      "cell_type": "code",
      "execution_count": null,
      "metadata": {
        "id": "q53Cf2OwZUty"
      },
      "outputs": [],
      "source": [
        "var = 10\n",
        "print(type(var))"
      ]
    },
    {
      "cell_type": "code",
      "execution_count": null,
      "metadata": {
        "id": "-hWqU9YTac1E"
      },
      "outputs": [],
      "source": [
        "# explicit type casting from int to string\n",
        "# here we are using str() to convert integer variable to string\n",
        "var2 = str(var)\n",
        "print(type(var2))"
      ]
    },
    {
      "cell_type": "code",
      "execution_count": null,
      "metadata": {
        "id": "u5kPQuBua8JO"
      },
      "outputs": [],
      "source": [
        "var2+5"
      ]
    },
    {
      "cell_type": "code",
      "execution_count": null,
      "metadata": {
        "id": "5l3baCp6bLxv"
      },
      "outputs": [],
      "source": [
        "# converting a float to integer\n",
        "var_f = 35.623\n",
        "var_i = int(var_f)\n",
        "print(type(var_i))\n",
        "print(var_i)"
      ]
    },
    {
      "cell_type": "code",
      "execution_count": null,
      "metadata": {
        "id": "iaWXX9R7cB5i"
      },
      "outputs": [],
      "source": [
        "x1 = 15\n",
        "y1 = 19\n",
        "print(x1, ',', y1)\n",
        "print(x1, \",\", y1)"
      ]
    },
    {
      "cell_type": "markdown",
      "metadata": {
        "id": "Z4-Av-d9cZWX"
      },
      "source": [
        "Some Basic Arithmetic Operators"
      ]
    },
    {
      "cell_type": "code",
      "execution_count": null,
      "metadata": {
        "id": "gZCK2kkTcday"
      },
      "outputs": [],
      "source": [
        "3/2"
      ]
    },
    {
      "cell_type": "code",
      "execution_count": null,
      "metadata": {
        "id": "t0r3IhNIcq4a"
      },
      "outputs": [],
      "source": [
        "5//2"
      ]
    },
    {
      "cell_type": "code",
      "execution_count": null,
      "metadata": {
        "id": "Xr-HUIb8dEK7"
      },
      "outputs": [],
      "source": [
        "3//2"
      ]
    },
    {
      "cell_type": "code",
      "execution_count": null,
      "metadata": {
        "id": "zj6pD6N8dOE9"
      },
      "outputs": [],
      "source": [
        "3/0"
      ]
    },
    {
      "cell_type": "code",
      "execution_count": null,
      "metadata": {
        "id": "h9iJDZy5dzR2"
      },
      "outputs": [],
      "source": [
        "round(3/2)"
      ]
    },
    {
      "cell_type": "code",
      "execution_count": null,
      "metadata": {
        "id": "OkLYyxiPdptl"
      },
      "outputs": [],
      "source": [
        "15%4 # the reaminder operator s aso called the modulus operator"
      ]
    },
    {
      "cell_type": "markdown",
      "metadata": {
        "id": "7m5aUFCFeWeJ"
      },
      "source": [
        "Arithmetic expressions and functions"
      ]
    },
    {
      "cell_type": "code",
      "execution_count": null,
      "metadata": {
        "id": "DfLDkFmBeBUf"
      },
      "outputs": [],
      "source": [
        "4-5+2"
      ]
    },
    {
      "cell_type": "code",
      "execution_count": null,
      "metadata": {
        "id": "iD05najlegW_"
      },
      "outputs": [],
      "source": [
        "2+3*5"
      ]
    },
    {
      "cell_type": "code",
      "execution_count": null,
      "metadata": {
        "id": "WhzuuVjKekBK"
      },
      "outputs": [],
      "source": [
        "(2+3)*5"
      ]
    },
    {
      "cell_type": "code",
      "execution_count": null,
      "metadata": {
        "id": "QYyoZ62Fep2Q"
      },
      "outputs": [],
      "source": [
        "3**2 # power"
      ]
    },
    {
      "cell_type": "code",
      "execution_count": null,
      "metadata": {
        "id": "R6CgxJoAexWI"
      },
      "outputs": [],
      "source": [
        "5**2"
      ]
    },
    {
      "cell_type": "code",
      "execution_count": null,
      "metadata": {
        "id": "UGDXdyvYfNd5"
      },
      "outputs": [],
      "source": [
        "-3**2"
      ]
    },
    {
      "cell_type": "code",
      "execution_count": null,
      "metadata": {
        "id": "hd8N7dfXfQ3x"
      },
      "outputs": [],
      "source": [
        "-9**.5"
      ]
    },
    {
      "cell_type": "code",
      "execution_count": null,
      "metadata": {
        "id": "lZRVQuzwfURp"
      },
      "outputs": [],
      "source": [
        "9**.5"
      ]
    },
    {
      "cell_type": "markdown",
      "metadata": {
        "id": "9OVj7eLWfcIP"
      },
      "source": [
        "Strings Using python"
      ]
    },
    {
      "cell_type": "code",
      "execution_count": null,
      "metadata": {
        "id": "vYdyQx0-fXuD"
      },
      "outputs": [],
      "source": [
        "wr = \"Wrangle\" + \" \"+\"Every Where\"\n",
        "print(wr)"
      ]
    },
    {
      "cell_type": "code",
      "execution_count": null,
      "metadata": {
        "id": "VlmzA6Q5gPzs"
      },
      "outputs": [],
      "source": [
        "# pair of double quotes are not used for multiplr line of comments\n",
        "sr_name = \"Rituraj Dixit\"\n",
        "\n",
        "print(sr_name)"
      ]
    },
    {
      "cell_type": "code",
      "execution_count": null,
      "metadata": {
        "id": "pBkh6aBEguge"
      },
      "outputs": [],
      "source": [
        "# multi line strings with three double quotes\n",
        "multi_line = \"\"\"line 1, line 2\n",
        "line 3, line 4\"\"\"\n",
        "print(multi_line)"
      ]
    },
    {
      "cell_type": "code",
      "execution_count": null,
      "metadata": {
        "id": "a0PzmJaRhLYP"
      },
      "outputs": [],
      "source": [
        "# new line character \\n in python\n",
        "str1 = \"Rituraj \\nDixit is teaching \\nPython\"\n",
        "print(str1)"
      ]
    },
    {
      "cell_type": "code",
      "execution_count": null,
      "metadata": {
        "id": "6IdNS4L6h2dh"
      },
      "outputs": [],
      "source": [
        "# tab character\n",
        "str3 = \"hi\\tlearn\\tmachine\\tlearning\\twith\\tme\"\n",
        "print(str3)\n"
      ]
    },
    {
      "cell_type": "code",
      "execution_count": null,
      "metadata": {
        "id": "1F7Gt3B6iyx7"
      },
      "outputs": [],
      "source": [
        "batch_code = 'EC'\n",
        "batch_number = 310\n",
        "# EC 310\n",
        "print(batch_code+' '+str(batch_number))"
      ]
    },
    {
      "cell_type": "code",
      "execution_count": null,
      "metadata": {
        "id": "5O3MCmp0lHWC"
      },
      "outputs": [],
      "source": [
        "# we are implementing the equation y = a*x + b\n",
        "# where a=10, b=5 are constants\n",
        "a,b = 10,5\n",
        "x = int(input(\"Enter the value of x\"))\n",
        "y = a*x + b\n",
        "print(y)"
      ]
    },
    {
      "cell_type": "code",
      "execution_count": null,
      "metadata": {
        "id": "oGql5yEtnEYX"
      },
      "outputs": [],
      "source": [
        "# fahreneit = (celsius*(9/5)) + 32\n",
        "# write a program to convert celsius to fahreneit\n",
        "c = int(input(\"celsius\"))\n",
        "f = c*(9/5) + 32\n",
        "print(f)"
      ]
    },
    {
      "cell_type": "markdown",
      "metadata": {
        "id": "JNnnw2PSqiJw"
      },
      "source": [
        "#formatting the output"
      ]
    },
    {
      "cell_type": "code",
      "execution_count": null,
      "metadata": {
        "id": "7sc1bjFOqdqA"
      },
      "outputs": [],
      "source": [
        "m = 15\n",
        "n = 10\n",
        "print(\" the ouput is formatted as {0}/{1}={2}\".format(m,n,m/n))"
      ]
    },
    {
      "cell_type": "code",
      "execution_count": null,
      "metadata": {
        "id": "daSR9R80rE8p"
      },
      "outputs": [],
      "source": [
        "# formatting using f string\n",
        "print(f'{m}/{n} = {m/n}')"
      ]
    },
    {
      "cell_type": "markdown",
      "metadata": {
        "id": "fLboFOX3re7D"
      },
      "source": [
        "# Split and Join Operations"
      ]
    },
    {
      "cell_type": "code",
      "execution_count": null,
      "metadata": {
        "id": "tw_U8J9Frerr"
      },
      "outputs": [],
      "source": [
        "# implementing split and join functions\n",
        "str1 = \"Hi how are you, are you working fine\"\n",
        "str2 = str1.split(\" \")"
      ]
    },
    {
      "cell_type": "code",
      "execution_count": null,
      "metadata": {
        "id": "rBa9X20CVTnq"
      },
      "outputs": [],
      "source": [
        "print(str2)"
      ]
    },
    {
      "cell_type": "code",
      "execution_count": null,
      "metadata": {
        "id": "UQKHx_T2VnyT"
      },
      "outputs": [],
      "source": [
        "str3 = \"I-like-programming-in-python-very-much\"\n",
        "str4 = str3.split(\"-\")\n",
        "print(str4)"
      ]
    },
    {
      "cell_type": "code",
      "execution_count": null,
      "metadata": {
        "id": "OMp5rTtJW_TK"
      },
      "outputs": [],
      "source": [
        "# I@like@programming@in@python@very@much\n",
        "\n",
        "str5 = \"@\".join(str4)\n",
        "print(str5)"
      ]
    },
    {
      "cell_type": "code",
      "execution_count": null,
      "metadata": {
        "id": "_W2-mF-tXY6Q"
      },
      "outputs": [],
      "source": [
        "# Lower case to Upper case by using upper()\n",
        "w = \"rituraj\"\n",
        "print(w.upper())"
      ]
    },
    {
      "cell_type": "code",
      "execution_count": null,
      "metadata": {
        "id": "CbGcA1yJXu-v"
      },
      "outputs": [],
      "source": [
        "w1 = \"PYTHON\"\n",
        "print(w1.lower())"
      ]
    },
    {
      "cell_type": "code",
      "execution_count": null,
      "metadata": {
        "id": "BRanpi_nX4S5"
      },
      "outputs": [],
      "source": [
        "# write a program whihch take a string and convert it into upper case after joinig them\n",
        "# with #\n",
        "# input : we are going for a walk\n",
        "# output: WE#ARE#GOING#FOR#A#WALK\n",
        "str1 = \"we are going for a walk\"\n",
        "str2=str1.split(\" \")\n",
        "\n",
        "str3 = \"#\".join(str2)\n",
        "\n",
        "print(str3.upper())"
      ]
    },
    {
      "cell_type": "markdown",
      "metadata": {
        "id": "5JGhsoV9aiVm"
      },
      "source": [
        "# Condtitional Statements and Identation Error"
      ]
    },
    {
      "cell_type": "code",
      "execution_count": null,
      "metadata": {
        "id": "SK6mIHJGahFG"
      },
      "outputs": [],
      "source": [
        "i = 5\n",
        "if i<10:\n",
        "  print(\"hello\")"
      ]
    },
    {
      "cell_type": "code",
      "execution_count": null,
      "metadata": {
        "id": "mW8RJZASauRW"
      },
      "outputs": [],
      "source": [
        "# Nested if condition\n",
        "if i<10:\n",
        "  print(\"I am in Outer loop\")\n",
        "  if i<6:\n",
        "    print(\"I am in middle loop\")\n",
        "    if i<2:\n",
        "      print(\"I am in inner loop\")\n"
      ]
    },
    {
      "cell_type": "code",
      "execution_count": null,
      "metadata": {
        "id": "LmiKU2kube1A"
      },
      "outputs": [],
      "source": [
        "# if-else condition\n",
        "#syntax\n",
        "# if condition:\n",
        "  # Body of IF\n",
        "# elif condition\n",
        "  # body of elif\n",
        "# else condition\n",
        "  # body of else\n",
        "try:\n",
        "  num = int(input(\"enter a number\"))\n",
        "  if num>0:\n",
        "    print(\"Positive Number\")\n",
        "  elif num<0:\n",
        "    print(\"Negative Number\")\n",
        "  elif num==0:\n",
        "    print(\"number equal to zero\")\n",
        "  else:\n",
        "    print(\"enter the correct number\")\n",
        "except Exception as e:\n",
        "  print(\"enter only numbers\")"
      ]
    },
    {
      "cell_type": "code",
      "execution_count": null,
      "metadata": {
        "id": "YocbZcbTdWTF"
      },
      "outputs": [],
      "source": [
        "# division calulator\n",
        "# marks >= 75 : pass with honurs\n",
        "# marks >= 60 and marks < 75 pass with first division\n",
        "# marks>=50 and marks<60 : second division\n",
        "# else : fail\n",
        "marks = float(input(\"Enter a Number\"))\n",
        "if marks >= 75:\n",
        "  print (\"Pass with honours\")\n",
        "elif 60 <= marks < 75:\n",
        "  print (\"Pass with first division\")\n",
        "elif 50 <= marks < 60:\n",
        "  print(\"Second division\")\n",
        "else:\n",
        "  print (\"Fail\")"
      ]
    },
    {
      "cell_type": "code",
      "execution_count": null,
      "metadata": {
        "id": "RmmpnUAxgSlG"
      },
      "outputs": [],
      "source": [
        "m=int(input(\"Enter your Marks: \"))\n",
        "if m>=75:\n",
        "  print(\"You are passed with Honours\")\n",
        "elif m>=60 and m<75:\n",
        "  print(\"You are passed with first Division\")\n",
        "elif m>=50 and m<60:\n",
        "  print(\"You are passed with Second Division\")\n",
        "else:\n",
        "  print(\"You are Failed\")"
      ]
    },
    {
      "cell_type": "code",
      "execution_count": null,
      "metadata": {
        "id": "VgBgCIS-gVvU"
      },
      "outputs": [],
      "source": [
        "a=9\n",
        "if a>10:\n",
        "  print(\" Hello\")"
      ]
    },
    {
      "cell_type": "code",
      "execution_count": null,
      "metadata": {
        "id": "BfLTFS0Xin0j"
      },
      "outputs": [],
      "source": [
        "# membership operator\n",
        "a = 5\n",
        "if a in [2,4,5,8,9,10]:\n",
        "  print(\"a is member of list\")"
      ]
    },
    {
      "cell_type": "code",
      "execution_count": null,
      "metadata": {
        "id": "zKVYOfKljbhH"
      },
      "outputs": [],
      "source": [
        "a = 5\n",
        "if a not in [2,4,6,8,10]:\n",
        "  print(\"a is not a member of list\")"
      ]
    },
    {
      "cell_type": "markdown",
      "metadata": {
        "id": "YRug6Anxk_Q9"
      },
      "source": [
        "Loops\n",
        "For Loop"
      ]
    },
    {
      "cell_type": "code",
      "execution_count": null,
      "metadata": {
        "id": "PcUBrX7Cj0pG"
      },
      "outputs": [],
      "source": [
        "# range: the range determine how many time loop will run\n",
        "# range function has (start, stop)\n",
        "# start: the iteger value from which loop start\n",
        "# stop: the integer value where we want the loop to stop\n",
        "# step: it determines number of steps to skip\n",
        "\n",
        "for i in range(5):\n",
        "  print(\"the value of i is \",i,\"learning for loop\")"
      ]
    },
    {
      "cell_type": "code",
      "execution_count": null,
      "metadata": {
        "id": "hdkJ8yR-mLOs"
      },
      "outputs": [],
      "source": [
        "for i in range(1,5):\n",
        "  print(\"the value of i is \",i,\"learning for loop\")"
      ]
    },
    {
      "cell_type": "code",
      "execution_count": null,
      "metadata": {
        "id": "CrNmezZhmlXO"
      },
      "outputs": [],
      "source": [
        "for i in range(0,20,2):\n",
        "  print(i, end=\" \")"
      ]
    },
    {
      "cell_type": "code",
      "execution_count": null,
      "metadata": {
        "id": "lIRCfaM-nMBg"
      },
      "outputs": [],
      "source": [
        "for i in range(0,20,3):\n",
        "  print(i, end=\" \")"
      ]
    },
    {
      "cell_type": "code",
      "execution_count": null,
      "metadata": {
        "id": "Yk0j7LimnTnw"
      },
      "outputs": [],
      "source": [
        "# to count number of ones in the list\n",
        "list1 = [1,2,1,4,5,6,1,0,1,2,2,2]\n",
        "# counter intialization\n",
        "counter=0\n",
        "for val in list1:\n",
        "  if val==2:\n",
        "    counter=counter+1\n",
        "    print(\"value 2 is found and counter value is\", counter)\n",
        "\n"
      ]
    },
    {
      "cell_type": "code",
      "execution_count": null,
      "metadata": {
        "id": "wq_RvesIpIld"
      },
      "outputs": [],
      "source": [
        "# declare a list\n",
        "l = [10,5,8,12,15,17,10,6,9]\n",
        "for index in range(len(l)):\n",
        "  print(\"the index is\", index, \"and the value is\",l[index])\n"
      ]
    },
    {
      "cell_type": "code",
      "execution_count": null,
      "metadata": {
        "id": "5e8oVeTttNJp"
      },
      "outputs": [],
      "source": [
        "# tuple\n",
        "t = (\"python\", \"for\", \"programmers\")\n",
        "print(t[0])\n",
        "print(t[1])\n",
        "print(t[2])"
      ]
    },
    {
      "cell_type": "code",
      "execution_count": null,
      "metadata": {
        "id": "AEOOxPQDttqK"
      },
      "outputs": [],
      "source": [
        "l = [\"python\", \"for\", \"programmers\"]\n",
        "print(l[0])\n",
        "print(l[1])\n",
        "print(l[2])"
      ]
    },
    {
      "cell_type": "code",
      "execution_count": null,
      "metadata": {
        "id": "7ZJsJE_jt8TL"
      },
      "outputs": [],
      "source": [
        "# list are mutable in nature\n",
        "l[0] = \"Java\""
      ]
    },
    {
      "cell_type": "code",
      "execution_count": null,
      "metadata": {
        "id": "gmWPzRvquAHq"
      },
      "outputs": [],
      "source": [
        "l"
      ]
    },
    {
      "cell_type": "code",
      "execution_count": null,
      "metadata": {
        "id": "gBhqawWQuB1y"
      },
      "outputs": [],
      "source": [
        "# tuples are immutable in nature\n",
        "t[0]=\"java\""
      ]
    },
    {
      "cell_type": "code",
      "execution_count": null,
      "metadata": {
        "id": "WOL1NeXmvPDW"
      },
      "outputs": [],
      "source": [
        "# how to split the string in characters\n",
        "s = \"pythonprogramming\"\n",
        "\n",
        "for ch in s:\n",
        "  print(ch, end=\" \")"
      ]
    },
    {
      "cell_type": "code",
      "execution_count": null,
      "metadata": {
        "id": "vjAysNcNwDeY"
      },
      "outputs": [],
      "source": [
        "# how to split the string in characters\n",
        "s = \"pythonprogramming\"\n",
        "\n",
        "for ch in s:\n",
        "  print(ch)"
      ]
    },
    {
      "cell_type": "code",
      "execution_count": null,
      "metadata": {
        "id": "Jh_RHUlQwfju"
      },
      "outputs": [],
      "source": [
        "a = \"priyansh\"\n",
        "for i in a:\n",
        "  print(i,end = \" \")"
      ]
    },
    {
      "cell_type": "code",
      "execution_count": null,
      "metadata": {
        "id": "IGmZGQP7zJjY"
      },
      "outputs": [],
      "source": [
        "vow = [\"a\",\"e\",\"i\",\"o\",\"u\"]\n",
        "v = 0\n",
        "c = 0\n",
        "for i in \"priyansh burman\":\n",
        "  if i in vow:\n",
        "    v+=1\n",
        "  else:\n",
        "    c+=1\n",
        "\n",
        "print(v)\n",
        "print(c)"
      ]
    },
    {
      "cell_type": "code",
      "execution_count": null,
      "metadata": {
        "id": "pxncCV3rzMCP"
      },
      "outputs": [],
      "source": [
        "# append(); the append function is used to add an element at the end of the list\n",
        "l = [\"Oranges\",\"Apples\", \"Grapes\"]\n",
        "l.append(\"Banana\")\n",
        "print(l)"
      ]
    },
    {
      "cell_type": "code",
      "execution_count": null,
      "metadata": {
        "id": "ZuOGPh0QM-91"
      },
      "outputs": [],
      "source": [
        "# for loop\n",
        "for i in range(5):\n",
        "  print(i)"
      ]
    },
    {
      "cell_type": "markdown",
      "metadata": {
        "id": "iJI-fYQqR1n0"
      },
      "source": [
        "#Slicing in python"
      ]
    },
    {
      "cell_type": "code",
      "execution_count": null,
      "metadata": {
        "id": "X8clVadlQqE1"
      },
      "outputs": [],
      "source": [
        "l = \"PROGRAMMING\"\n",
        "# when we have only the start index\n",
        "print(l[2:])"
      ]
    },
    {
      "cell_type": "code",
      "execution_count": null,
      "metadata": {
        "id": "BRKWoPsnUuc5"
      },
      "outputs": [],
      "source": [
        "#when we will take both start index and end index\n",
        "print(l[4:10])"
      ]
    },
    {
      "cell_type": "code",
      "execution_count": null,
      "metadata": {
        "id": "jcIrUgWiV_aU"
      },
      "outputs": [],
      "source": [
        "# when we give only the end index\n",
        "print(l[:8])"
      ]
    },
    {
      "cell_type": "code",
      "execution_count": null,
      "metadata": {
        "id": "IT5V6bWnWRnF"
      },
      "outputs": [],
      "source": [
        "# when we don't give any index\n",
        "print(l[:])"
      ]
    },
    {
      "cell_type": "code",
      "execution_count": null,
      "metadata": {
        "id": "gbKJsJC2W8lW"
      },
      "outputs": [],
      "source": [
        "# how we seprate a string of two names which are seprated by space\n",
        "N=\"Python Programming\"\n",
        "L=N.split()\n",
        "s1=L[0]\n",
        "s2=L[1]\n",
        "print(s1)\n",
        "print(s2)"
      ]
    },
    {
      "cell_type": "code",
      "execution_count": null,
      "metadata": {
        "id": "Go_a7t3qaBU3"
      },
      "outputs": [],
      "source": [
        "# reverse of the string\n",
        "s1_r = s1[::-1]\n",
        "s2_r = s2[::-1]"
      ]
    },
    {
      "cell_type": "code",
      "execution_count": null,
      "metadata": {
        "id": "_ZBFPq3Xak8f"
      },
      "outputs": [],
      "source": [
        "print(s1_r)"
      ]
    },
    {
      "cell_type": "code",
      "execution_count": null,
      "metadata": {
        "id": "zLCN_yExan0P"
      },
      "outputs": [],
      "source": [
        "print(s2_r)"
      ]
    },
    {
      "cell_type": "code",
      "execution_count": null,
      "metadata": {
        "id": "qirgM7W_aq0A"
      },
      "outputs": [],
      "source": [
        "n =\"RUTUJA FULZELE\"\n",
        "l = n.split()\n",
        "print(l)\n",
        "\n",
        "s1 = l[0]\n",
        "s2 = l[1]\n",
        "# extract frist string\n",
        "first_string= s1[0:4]\n",
        "# extract second string\n",
        "second_string= s2[0:4]\n",
        "print(first_string)\n",
        "print(second_string)\n",
        "# reverse of string\n",
        "fName_r = first_string[::-1]\n",
        "sName_r = second_string[::-1]\n",
        "\n",
        "# concatenate string\n",
        "concat_str = fName_r+\" \"+sName_r\n",
        "print(\"Reverse String\",concat_str)"
      ]
    },
    {
      "cell_type": "code",
      "execution_count": null,
      "metadata": {
        "id": "T4jwJlkDdeWi"
      },
      "outputs": [],
      "source": [
        "# I/P : ritu raj\n",
        "#O/P : Ritu Raj\n",
        "l = \"padma baranwal\"\n",
        "n = l.split(\" \")\n",
        "\n",
        "s1=n[0]\n",
        "s2=n[1]\n",
        "s11=s1[0]\n",
        "s12=s1[1:]\n",
        "print(s11)\n",
        "print(s12)\n",
        "s11=s11.upper()\n",
        "s1= s11+s12\n",
        "print(s1)\n",
        "\n",
        "s21=s2[0]\n",
        "s22=s2[1:]\n",
        "s21=s21.upper()\n",
        "s2=s21+s22\n",
        "print(s2)\n",
        "m=s1+\" \"+s2\n",
        "print(m)"
      ]
    },
    {
      "cell_type": "code",
      "execution_count": null,
      "metadata": {
        "id": "wgwbgP3XkkaC"
      },
      "outputs": [],
      "source": [
        "# range(start index, end index, step)\n",
        "for i in range(1,10,1):\n",
        "  print(i, end=\" \")"
      ]
    },
    {
      "cell_type": "code",
      "execution_count": null,
      "metadata": {
        "id": "MZI6-nM8lA0b"
      },
      "outputs": [],
      "source": [
        "# range(start index, end index, step)\n",
        "for i in range(1,10,2):\n",
        "  print(i, end=\" \")"
      ]
    },
    {
      "cell_type": "code",
      "execution_count": null,
      "metadata": {
        "id": "MFJYF1fOlFYC"
      },
      "outputs": [],
      "source": [
        "# range(start index, end index, step)\n",
        "for i in range(1,10,3):\n",
        "  print(i, end=\" \")"
      ]
    },
    {
      "cell_type": "code",
      "execution_count": null,
      "metadata": {
        "id": "Y2C9dr79l3ct"
      },
      "outputs": [],
      "source": [
        "#Counter and its implementation\n",
        "list1 = [1,2,1,0,4,5,0,6,1,0,0,1,2,0]\n",
        "counter_1 = 0\n",
        "counter_0 = 0\n",
        "# membership operator 'in'\n",
        "for val in list1:\n",
        "  if val==1:\n",
        "    counter_1 = counter_1+1\n",
        "  elif val==0:\n",
        "    counter_0  = counter_0+1\n",
        "  else:\n",
        "    pass\n",
        "print(\"total number if 0 are {0}, and 1 are {1}\".format(counter_0,counter_1))\n",
        "\n",
        "\n"
      ]
    },
    {
      "cell_type": "code",
      "execution_count": null,
      "metadata": {
        "id": "mFikEkEEnAHJ"
      },
      "outputs": [],
      "source": [
        "firstName = \"Rituraj\"\n",
        "secondName = \"Dixit\"\n",
        "thirdName = \"Bareilly\"\n",
        "print(\"The complete name is {0} {1} {2}\".format(firstName,secondName, thirdName))"
      ]
    },
    {
      "cell_type": "code",
      "execution_count": null,
      "metadata": {
        "id": "lO0-2JKOuji0"
      },
      "outputs": [],
      "source": [
        "list_elt = [12,14,13,25,31,34,56,57,98,88,90,17]\n",
        "# intialize the counter\n",
        "counter_even = 0\n",
        "counter_odd = 0\n",
        "sum_even=0\n",
        "sum_odd=0\n",
        "for elt in list_elt:\n",
        "  if elt%2==0:\n",
        "    sum_even = sum_even + elt\n",
        "    counter_even = counter_even+1\n",
        "  else:\n",
        "    sum_odd = sum_odd+elt\n",
        "    counter_odd = counter_odd+1\n",
        "print(\"Total number of even elements are {0} and their sum is {2} and total odd are {1} and their sum is {3}\".format(counter_even, counter_odd,sum_even,sum_odd))"
      ]
    },
    {
      "cell_type": "markdown",
      "metadata": {
        "id": "BaDT6QdbaomO"
      },
      "source": [
        "Nested Looping"
      ]
    },
    {
      "cell_type": "code",
      "execution_count": null,
      "metadata": {
        "id": "riAUBMQNatqX"
      },
      "outputs": [],
      "source": [
        "# nested looping has normally two types of loops\n",
        "# inner loop and outer loop\n",
        "for i in range(3):\n",
        "  print(\"the outer loop is executing with i=\",i)\n",
        "  for j in range(3):\n",
        "    print(\"the inner loop is executing with i={0}, j={1}\".format(i,j))"
      ]
    },
    {
      "cell_type": "code",
      "execution_count": null,
      "metadata": {
        "id": "Zf4PGMRzdTaL"
      },
      "outputs": [],
      "source": [
        "# WAP to create tables of 2,3,4\n",
        "# take range(2,5) in outer loop\n",
        "for i in range(2,5):\n",
        "  for j in range(1,11):\n",
        "    print(\"{0}*{1}={2}\".format(i,j,i*j))"
      ]
    },
    {
      "cell_type": "code",
      "execution_count": null,
      "metadata": {
        "id": "s_t5Sr4xg0vn"
      },
      "outputs": [],
      "source": [
        "# design a pattern\n",
        "for i in range(5):\n",
        "  for j in range(i+1):\n",
        "    print(\"* \", end=\" \")\n",
        "  print(\"\\n\")\n"
      ]
    },
    {
      "cell_type": "markdown",
      "metadata": {
        "id": "VZYb-Ng-nKUm"
      },
      "source": [
        "Break, Continue and Pass"
      ]
    },
    {
      "cell_type": "code",
      "execution_count": null,
      "metadata": {
        "id": "0caGomO5lHy6"
      },
      "outputs": [],
      "source": [
        "# break statement\n",
        "for i in range(5):\n",
        "  for j in range(5):\n",
        "    if i==j:\n",
        "      break\n",
        "    print(i,j)"
      ]
    },
    {
      "cell_type": "code",
      "execution_count": null,
      "metadata": {
        "id": "5DEeAw0lqoEw"
      },
      "outputs": [],
      "source": [
        "# continue statement\n",
        "for i in range(5):\n",
        "  for j in range(5):\n",
        "    if i==j:\n",
        "      continue\n",
        "    print(i,j)"
      ]
    },
    {
      "cell_type": "code",
      "execution_count": null,
      "metadata": {
        "id": "SHo3J9mksVPj"
      },
      "outputs": [],
      "source": [
        "# pass# continue statement\n",
        "for i in range(5):\n",
        "  for j in range(5):\n",
        "    if i==j:\n",
        "      pass\n",
        "    print(i,j)"
      ]
    },
    {
      "cell_type": "code",
      "execution_count": null,
      "metadata": {
        "id": "K0mja2Bftdb1"
      },
      "outputs": [],
      "source": [
        "fruits = ['apple', 'orange', 'grapes', 'banana', 'grapes', 'guava']\n",
        "# skip the grapes to get printed in the output using continue\n",
        "l=[\"apple\",\"orange\",\"grapes\",\"banana\",\"guava\",\"grapes\"]\n",
        "for i in l:\n",
        "  if i==\"grapes\":\n",
        "    continue\n",
        "  print(i)\n",
        "\n"
      ]
    },
    {
      "cell_type": "code",
      "execution_count": null,
      "metadata": {
        "id": "FmytfU-yvMzr"
      },
      "outputs": [],
      "source": [
        "# add an new element in the list\n",
        "fruits.append(\"avocado\")\n",
        "fruits"
      ]
    },
    {
      "cell_type": "code",
      "execution_count": null,
      "metadata": {
        "id": "01AlrPcYvk7r"
      },
      "outputs": [],
      "source": [
        "# to calulate the length of the list\n",
        "len(fruits)"
      ]
    },
    {
      "cell_type": "code",
      "execution_count": null,
      "metadata": {
        "id": "DphLc7R9vshb"
      },
      "outputs": [],
      "source": [
        "# to count a specific element in the list\n",
        "fruits.count('grapes')"
      ]
    },
    {
      "cell_type": "code",
      "execution_count": null,
      "metadata": {
        "id": "zBSBr2NSxBhn"
      },
      "outputs": [],
      "source": [
        "# reverse the list\n",
        "fruits.reverse()"
      ]
    },
    {
      "cell_type": "code",
      "execution_count": null,
      "metadata": {
        "id": "YKBrE_m6xXXB"
      },
      "outputs": [],
      "source": [
        "fruits"
      ]
    },
    {
      "cell_type": "code",
      "execution_count": null,
      "metadata": {
        "id": "tULSVwj9xaGA"
      },
      "outputs": [],
      "source": [
        "# sorting the list\n",
        "# by default asecending order\n",
        "fruits.sort()"
      ]
    },
    {
      "cell_type": "code",
      "execution_count": null,
      "metadata": {
        "id": "oHbp6jzrxkVQ"
      },
      "outputs": [],
      "source": [
        "fruits"
      ]
    },
    {
      "cell_type": "code",
      "execution_count": null,
      "metadata": {
        "id": "j-LShMdIxmPI"
      },
      "outputs": [],
      "source": [
        "#sorting in reverse order\n",
        "# thus will sort in descending order\n",
        "fruits.sort(reverse=True)"
      ]
    },
    {
      "cell_type": "code",
      "execution_count": null,
      "metadata": {
        "id": "_-sCvNS5x8_i"
      },
      "outputs": [],
      "source": [
        "fruits"
      ]
    },
    {
      "cell_type": "markdown",
      "metadata": {
        "id": "QzpxP-4r2zVI"
      },
      "source": [
        "Dictionary in Python"
      ]
    },
    {
      "cell_type": "code",
      "execution_count": null,
      "metadata": {
        "id": "MxPM5v3qyAmD"
      },
      "outputs": [],
      "source": [
        "FruitDict = {'Apple':'Vitamin A', 'Orange':'Vitamin C', 'Papaya':'Vitamin B', 'Spinach':'Iron','Cabbage':'Vitamin K'}\n"
      ]
    },
    {
      "cell_type": "code",
      "execution_count": null,
      "metadata": {
        "id": "EC7jvnUd3cl5"
      },
      "outputs": [],
      "source": [
        "print(FruitDict)"
      ]
    },
    {
      "cell_type": "code",
      "execution_count": null,
      "metadata": {
        "id": "R8tVnctp3k_5"
      },
      "outputs": [],
      "source": [
        "# key can be used to refered the value in a dictionary\n",
        "print(FruitDict['Apple'])"
      ]
    },
    {
      "cell_type": "code",
      "execution_count": null,
      "metadata": {
        "id": "CrCTbXWs4QGL"
      },
      "outputs": [],
      "source": [
        "# dupliacate values are NOT allowed\n",
        "myBike = {\n",
        "    \"brand\": 'Hero',\n",
        "    \"Model\":  'Passion',\n",
        "    'Year': 1998,\n",
        "    'Year': 2022\n",
        "    }\n",
        "# If there is duplicate key value pair then we will take the latest one\n",
        "print(myBike)"
      ]
    },
    {
      "cell_type": "code",
      "execution_count": null,
      "metadata": {
        "id": "Ki3id0805MqU"
      },
      "outputs": [],
      "source": [
        "# Dictionary length\n",
        "print(len(myBike))"
      ]
    },
    {
      "cell_type": "code",
      "execution_count": null,
      "metadata": {
        "id": "_-lY5s8sQpnV"
      },
      "outputs": [],
      "source": [
        "model_info = {\n",
        "    'Vehicle_type' : \"Bike\",\n",
        "    'model_name':'Passion',\n",
        "    'cost': 94000,\n",
        "    'Year': 2024\n",
        "}"
      ]
    },
    {
      "cell_type": "code",
      "execution_count": null,
      "metadata": {
        "id": "25y2wcPwRyHo"
      },
      "outputs": [],
      "source": [
        "model_info.keys()"
      ]
    },
    {
      "cell_type": "code",
      "execution_count": null,
      "metadata": {
        "id": "GhdTdGP8R3hg"
      },
      "outputs": [],
      "source": [
        "model_info.values()"
      ]
    },
    {
      "cell_type": "code",
      "execution_count": null,
      "metadata": {
        "id": "I3kZbaBbR7C4"
      },
      "outputs": [],
      "source": [
        "model_info.items()"
      ]
    },
    {
      "cell_type": "code",
      "execution_count": null,
      "metadata": {
        "id": "ntRSHZIMTmOt"
      },
      "outputs": [],
      "source": [
        "# how to get the value on the basis of key\n",
        "model_info['Vehicle_type']"
      ]
    },
    {
      "cell_type": "code",
      "execution_count": null,
      "metadata": {
        "id": "moF99En8T569"
      },
      "outputs": [],
      "source": [
        "model_info['color']"
      ]
    },
    {
      "cell_type": "code",
      "execution_count": null,
      "metadata": {
        "id": "lESShkEeUGvG"
      },
      "outputs": [],
      "source": [
        "# best way is to use get()\n",
        "vehicle_typ = model_info.get('Vehicle_type')\n",
        "vehicle_typ"
      ]
    },
    {
      "cell_type": "code",
      "execution_count": null,
      "metadata": {
        "id": "cMekOu9mUaj-"
      },
      "outputs": [],
      "source": [
        "# get function don't give error but instaed give None if there is no value\n",
        "# to corresponding key\n",
        "color = model_info.get('color')\n",
        "print(color)"
      ]
    },
    {
      "cell_type": "code",
      "execution_count": null,
      "metadata": {
        "id": "-6UrS5sYVZhC"
      },
      "outputs": [],
      "source": [
        "# how to add new value into the dictionary\n",
        "model_info['color'] = \"red\""
      ]
    },
    {
      "cell_type": "code",
      "execution_count": null,
      "metadata": {
        "id": "XNYmBCCSVjxR"
      },
      "outputs": [],
      "source": [
        "model_info"
      ]
    },
    {
      "cell_type": "code",
      "execution_count": null,
      "metadata": {
        "id": "E1UjCsFRVydZ"
      },
      "outputs": [],
      "source": [
        "# update the value to a corresponding dictionary\n",
        "model_info.update({'color':'Blue'})"
      ]
    },
    {
      "cell_type": "code",
      "execution_count": null,
      "metadata": {
        "id": "Uhfn-iwtV-q7"
      },
      "outputs": [],
      "source": [
        "model_info"
      ]
    },
    {
      "cell_type": "markdown",
      "metadata": {
        "id": "N_qPvcEwYAOF"
      },
      "source": [
        "# Removing an Item from the dictionary"
      ]
    },
    {
      "cell_type": "code",
      "execution_count": null,
      "metadata": {
        "id": "egQbu-DRWgnl"
      },
      "outputs": [],
      "source": [
        "# there are three ways to remove an element from the dictionary\n",
        "# pop method pop() method removes the item with the specified keyname\n",
        "model_info.pop('color')"
      ]
    },
    {
      "cell_type": "code",
      "execution_count": null,
      "metadata": {
        "id": "lTRBAvCYYhgJ"
      },
      "outputs": [],
      "source": [
        "print(model_info)"
      ]
    },
    {
      "cell_type": "code",
      "execution_count": null,
      "metadata": {
        "id": "uihZ64EZYm6T"
      },
      "outputs": [],
      "source": [
        "model_info['color']=\"Red\""
      ]
    },
    {
      "cell_type": "code",
      "execution_count": null,
      "metadata": {
        "id": "m1yJdkntYw7C"
      },
      "outputs": [],
      "source": [
        "# del keyword removes the item with the specified key name\n",
        "del model_info['color']"
      ]
    },
    {
      "cell_type": "code",
      "execution_count": null,
      "metadata": {
        "id": "dBlSMr9MZBI6"
      },
      "outputs": [],
      "source": [
        "model_info"
      ]
    },
    {
      "cell_type": "code",
      "execution_count": null,
      "metadata": {
        "id": "sRDs1Jl7ZstM"
      },
      "outputs": [],
      "source": [
        "# clear() method empties the dictionary\n",
        "model_info.clear()"
      ]
    },
    {
      "cell_type": "code",
      "execution_count": null,
      "metadata": {
        "id": "itB9ExKrZ2pl"
      },
      "outputs": [],
      "source": [
        "print(model_info)"
      ]
    },
    {
      "cell_type": "code",
      "execution_count": null,
      "metadata": {
        "id": "ukXUv3cQaXL4"
      },
      "outputs": [],
      "source": [
        "myBike = {\n",
        "    \"brand\": 'Hero',\n",
        "    \"Model\":  'Passion',\n",
        "    'Year': 1998,\n",
        "    'Color':'Red'\n",
        "    }"
      ]
    },
    {
      "cell_type": "code",
      "execution_count": null,
      "metadata": {
        "id": "H6loOv-HaB5G"
      },
      "outputs": [],
      "source": [
        "# looping through a dictionary\n",
        "# when we loop on a dictionary we get keys\n",
        "for k in myBike:\n",
        "  print(k)"
      ]
    },
    {
      "cell_type": "code",
      "execution_count": null,
      "metadata": {
        "id": "ByCO2Houany2"
      },
      "outputs": [],
      "source": [
        "# we cn acess the values of the dictionaries in two ways\n",
        "for x in myBike:\n",
        "  print(myBike[x])"
      ]
    },
    {
      "cell_type": "code",
      "execution_count": null,
      "metadata": {
        "id": "96CWh0KjbMIJ"
      },
      "outputs": [],
      "source": [
        "for val in myBike.values():\n",
        "  print(val)"
      ]
    },
    {
      "cell_type": "code",
      "execution_count": null,
      "metadata": {
        "id": "j4MnDYG1byiK"
      },
      "outputs": [],
      "source": [
        "for x,y in myBike.items():\n",
        "  print(x,y)"
      ]
    },
    {
      "cell_type": "code",
      "execution_count": null,
      "metadata": {
        "id": "mRHC3MUpc1-Y"
      },
      "outputs": [],
      "source": [
        "# copy dictionaries\n",
        "myBike1 = myBike.copy()\n",
        "print(myBike1)"
      ]
    },
    {
      "cell_type": "code",
      "execution_count": null,
      "metadata": {
        "id": "ZGKj3cymdIZO"
      },
      "outputs": [],
      "source": [
        "myBike1['engineNo']='K12874M'"
      ]
    },
    {
      "cell_type": "code",
      "execution_count": null,
      "metadata": {
        "id": "wbNRgdwQdU8a"
      },
      "outputs": [],
      "source": [
        "myBike1['engineNo']"
      ]
    },
    {
      "cell_type": "code",
      "execution_count": null,
      "metadata": {
        "id": "aqa34_RTdw3H"
      },
      "outputs": [],
      "source": [
        "# Nested Dictionaries\n",
        "# when we have one or more than one dictionaries in a dictionaries\n",
        "myBike1 = {\n",
        "    'v_type':'Scooty',\n",
        "    'Model_name': 'Mastero',\n",
        "    'Price': 110000\n",
        "}\n",
        "myBike2 = {\n",
        "    'v_type':'Bike',\n",
        "    'Model_name': 'Passion',\n",
        "    'Price': 950000\n",
        "}\n",
        "myBike3 = {\n",
        "    'v_type':'Sports_Bike',\n",
        "    'Model_name': 'RX1',\n",
        "    'Price': 500000\n",
        "}\n",
        "\n",
        "myAutoMobiles = {\n",
        "    \"bike1\":myBike1,\n",
        "    \"bike2\":myBike2,\n",
        "    \"bike3\":myBike3\n",
        "}"
      ]
    },
    {
      "cell_type": "code",
      "execution_count": null,
      "metadata": {
        "id": "KBF7tcN_gceJ"
      },
      "outputs": [],
      "source": [
        "myAutoMobiles"
      ]
    },
    {
      "cell_type": "code",
      "execution_count": null,
      "metadata": {
        "id": "wieNiV1FjG8Y"
      },
      "outputs": [],
      "source": [
        "# to take a specific value from dictionary we will have a two step process\n",
        "#1. select a particular dictionary from set of dictionaries\n",
        "# 2. select a appropiate key to acess the value of that key\n",
        "myAutoMobiles['bike2']['Price']"
      ]
    },
    {
      "cell_type": "code",
      "execution_count": null,
      "metadata": {
        "id": "Sq-o4RIaj1Hw"
      },
      "outputs": [],
      "source": [
        "# write the code to print Model_name RX1\n",
        "myAutoMobiles['bike3']['Model_name']"
      ]
    },
    {
      "cell_type": "markdown",
      "metadata": {
        "id": "GPyD4VEhlWz8"
      },
      "source": [
        "# sets in python"
      ]
    },
    {
      "cell_type": "code",
      "execution_count": null,
      "metadata": {
        "id": "pC37i7CalVjT"
      },
      "outputs": [],
      "source": [
        "set1 = {\"we\", \"are\", \"learning\", \"python\",\"sets\",\"in\",\"python\"}"
      ]
    },
    {
      "cell_type": "code",
      "execution_count": null,
      "metadata": {
        "id": "yUD6j1ZkqyHx"
      },
      "outputs": [],
      "source": []
    },
    {
      "cell_type": "code",
      "execution_count": null,
      "metadata": {
        "id": "RhEhGIGnnm_Z"
      },
      "outputs": [],
      "source": [
        "set1"
      ]
    },
    {
      "cell_type": "code",
      "execution_count": null,
      "metadata": {
        "id": "AOgxbRTQp1DP"
      },
      "outputs": [],
      "source": []
    },
    {
      "cell_type": "code",
      "execution_count": null,
      "metadata": {
        "id": "j83fOAeGk8sy"
      },
      "outputs": [],
      "source": [
        "# we can convert a list into a set\n",
        "l = [\"x\", \"y\",\"z\", \"w\"]\n",
        "set2 = set(l)\n",
        "print(set2)"
      ]
    },
    {
      "cell_type": "code",
      "execution_count": null,
      "metadata": {
        "id": "gAuPAx1jnXvA"
      },
      "outputs": [],
      "source": [
        "set1[0]"
      ]
    },
    {
      "cell_type": "code",
      "execution_count": null,
      "metadata": {
        "id": "Wos2daykotN0"
      },
      "outputs": [],
      "source": [
        "set2[1]"
      ]
    },
    {
      "cell_type": "code",
      "execution_count": null,
      "metadata": {
        "id": "bYfyNNOJoveF"
      },
      "outputs": [],
      "source": [
        "list_w = [\"x\", \"y\",\"z\", \"w\"]"
      ]
    },
    {
      "cell_type": "code",
      "execution_count": null,
      "metadata": {
        "id": "cTnnDCTZozPA"
      },
      "outputs": [],
      "source": [
        "list_w[1]"
      ]
    },
    {
      "cell_type": "code",
      "execution_count": null,
      "metadata": {
        "id": "MHSBNlajpYbF"
      },
      "outputs": [],
      "source": [
        "# we cannot have duplicate elements in sets and also we cannot change the elements in the sets\n",
        "set2[2]='M'\n",
        "# we can see that in set2 we did not able to change the value of y to M"
      ]
    },
    {
      "cell_type": "code",
      "execution_count": null,
      "metadata": {
        "id": "vuszKH8GqlFR"
      },
      "outputs": [],
      "source": [
        "# A program to show that a new element can be added into the set and can be acessed\n",
        "# using loops\n",
        "set1 = {\"we\", \"are\", \"learning\", \"python\",\"sets\",\"in\",\"python\"}\n",
        "# add() to add a new element into the set\n",
        "set1.add(\"Machine\")\n",
        "set1.add(\"Learning\")"
      ]
    },
    {
      "cell_type": "code",
      "execution_count": null,
      "metadata": {
        "id": "ZDRWVjjMrFGh"
      },
      "outputs": [],
      "source": [
        "set1"
      ]
    },
    {
      "cell_type": "code",
      "execution_count": null,
      "metadata": {
        "id": "mg4-FVZqrza1"
      },
      "outputs": [],
      "source": [
        "fruit = {\"Apple\", \"Banana\", \"gauava\",\"Grapes\"}\n",
        "vegetables = {\"Potato\", \"Brinjal\", \"Tomatoes\", \"Onion\"}\n",
        "Salads = {\"Apple\", \"grapes\", \"Onion\", \"Tomatoes\"}\n",
        "\n",
        "# Union using union()\n",
        "union_set1 = fruit.union(vegetables)\n",
        "print(union_set1)"
      ]
    },
    {
      "cell_type": "code",
      "execution_count": null,
      "metadata": {
        "id": "UIBLTPwRtcKJ"
      },
      "outputs": [],
      "source": [
        "# Union using union()\n",
        "union_set2 = fruit.union(Salads)\n",
        "print(union_set2)"
      ]
    },
    {
      "cell_type": "code",
      "execution_count": null,
      "metadata": {
        "id": "mvFFgesvuYTS"
      },
      "outputs": [],
      "source": [
        "# intersection\n",
        "intersection_1 = fruit.intersection(vegetables)\n",
        "print(intersection_1)"
      ]
    },
    {
      "cell_type": "code",
      "execution_count": null,
      "metadata": {
        "id": "a5usbV86uvAk"
      },
      "outputs": [],
      "source": [
        "intersection_2 = fruit.intersection(Salads)\n",
        "print(intersection_2)"
      ]
    },
    {
      "cell_type": "code",
      "execution_count": null,
      "metadata": {
        "id": "8_sHxM7pu4dc"
      },
      "outputs": [],
      "source": [
        "intersection_3 = vegetables.intersection(Salads)\n",
        "print(intersection_3)"
      ]
    },
    {
      "cell_type": "code",
      "execution_count": null,
      "metadata": {
        "id": "9kPAYVRLvEgt"
      },
      "outputs": [],
      "source": [
        "# difference\n",
        "diff1 = vegetables-Salads\n",
        "print(diff1)"
      ]
    },
    {
      "cell_type": "markdown",
      "metadata": {
        "id": "WkFo4ziBVTu8"
      },
      "source": [
        "#Functions in Python"
      ]
    },
    {
      "cell_type": "code",
      "execution_count": null,
      "metadata": {
        "id": "STUhPP4EQpyE"
      },
      "outputs": [],
      "source": [
        "# functions are started by the keyword def\n",
        "def add(x,y):\n",
        "  z = x+y\n",
        "  print(z)"
      ]
    },
    {
      "cell_type": "code",
      "execution_count": null,
      "metadata": {
        "id": "imyGySZCVsJZ"
      },
      "outputs": [],
      "source": [
        "# function calling by values\n",
        "add(15,17)"
      ]
    },
    {
      "cell_type": "code",
      "execution_count": null,
      "metadata": {
        "id": "0fGP8hTFV5FO"
      },
      "outputs": [],
      "source": [
        "# another way to pass a value to a function\n",
        "val1 = int(input(\"enter first value\"))\n",
        "val2 = int(input(\"enter second value\"))\n",
        "add(val1,val2)"
      ]
    },
    {
      "cell_type": "code",
      "execution_count": null,
      "metadata": {
        "id": "7-FqhJ2ZX6sW"
      },
      "outputs": [],
      "source": [
        "def add_r(a,b):\n",
        "  c = a+b\n",
        "  return c"
      ]
    },
    {
      "cell_type": "code",
      "execution_count": null,
      "metadata": {
        "id": "k4Gyv_HgXyCL"
      },
      "outputs": [],
      "source": [
        "# wap where we add 5 into the value return by the function\n",
        "return_val = add_r(10,20)+5\n",
        "print(return_val)"
      ]
    },
    {
      "cell_type": "code",
      "execution_count": null,
      "metadata": {
        "id": "D9xL-xUIZ23f"
      },
      "outputs": [],
      "source": [
        "# WAP to return wether the number is even or odd by passing it into the function\n",
        "# known as even_checker(num)\n",
        "def even_checker(num):\n",
        "  if num%2==0:\n",
        "    return \"The number is even\"\n",
        "  else:\n",
        "    return \"The number is odd\""
      ]
    },
    {
      "cell_type": "code",
      "execution_count": null,
      "metadata": {
        "id": "OX9En5iiblLW"
      },
      "outputs": [],
      "source": [
        "result = even_checker(47)\n",
        "print(result)"
      ]
    },
    {
      "cell_type": "code",
      "execution_count": null,
      "metadata": {
        "id": "yxCzTgUwbozs"
      },
      "outputs": [],
      "source": [
        "def square_fn(num):\n",
        "  return num**2\n",
        "\n",
        "res = square_fn(5)\n",
        "print(res)"
      ]
    },
    {
      "cell_type": "code",
      "execution_count": null,
      "metadata": {
        "id": "cP5PdBRxcjfo"
      },
      "outputs": [],
      "source": [
        "# fibobacci series\n",
        "n = 10\n",
        "last = 0\n",
        "first = 1\n",
        "for i in range(10):\n",
        "  print(last,end=\" \")\n",
        "  next = first+last\n",
        "  last = first\n",
        "  first = next\n"
      ]
    },
    {
      "cell_type": "code",
      "execution_count": null,
      "metadata": {
        "id": "AN_fRqlJguvF"
      },
      "outputs": [],
      "source": [
        "l = [val for val in range(10)]\n",
        "print(l)"
      ]
    },
    {
      "cell_type": "code",
      "execution_count": null,
      "metadata": {
        "id": "SZWyGN4zgMaW"
      },
      "outputs": [],
      "source": [
        "# passing the list to a function\n",
        "def list_inc(l, num):\n",
        "  # we have to iterarte every element of the list and then we return the list\n",
        "  new_list = [val+num for val in l]\n",
        "  return new_list\n"
      ]
    },
    {
      "cell_type": "code",
      "execution_count": null,
      "metadata": {
        "id": "95mtjZlMhJtK"
      },
      "outputs": [],
      "source": [
        "lst = [10,12,14,15,17,4,3]\n",
        "result = list_inc(lst,2)\n",
        "print(result)"
      ]
    },
    {
      "cell_type": "code",
      "execution_count": null,
      "metadata": {
        "id": "pQ_H2KpAiNP6"
      },
      "outputs": [],
      "source": [
        "# Pass a list to a function to reverse the elements of the list\n",
        "# name the function as rev_list(names)\n",
        "# names = [10,20,30,40]\n",
        "# expected output will be [40,30,20,10]\n",
        "# use list comprehension of necesarry\n",
        "\n",
        "l = [40,30,20,10]\n",
        "lst_rev = [l[indx] for indx in reversed(range(len(l)))]\n",
        "print(lst_rev)\n"
      ]
    },
    {
      "cell_type": "code",
      "execution_count": null,
      "metadata": {
        "id": "bSXBZf_tk8Hr"
      },
      "outputs": [],
      "source": [
        "lst_rev2 = l[::-1]\n",
        "lst_rev2"
      ]
    },
    {
      "cell_type": "code",
      "execution_count": null,
      "metadata": {
        "id": "_0maMoECmI37"
      },
      "outputs": [],
      "source": [
        "# list of strings\n",
        "fruits = [\"Apple\", \"Banana\", \"gauava\",\"Grapes\"]\n",
        "# yu have to function which will reverse their orders\n",
        "# using list comprehension\n",
        "# def rev_string(fruit_lst)\n",
        "\n",
        "\n",
        "f_r = fruits[::-1]\n",
        "f_r"
      ]
    },
    {
      "cell_type": "markdown",
      "metadata": {
        "id": "h_nAirsdnAyt"
      },
      "source": [
        "# Sorting Ascending and Descending"
      ]
    },
    {
      "cell_type": "code",
      "execution_count": null,
      "metadata": {
        "id": "WnD2gSi2n_s-"
      },
      "outputs": [],
      "source": [
        "# sorting in python can be done in two ways ascending and descending\n",
        "fruits = [\"Apple\", \"Banana\", \"Oranges\",\"Grapes\"]\n",
        "# by default the sorting is ascending\n",
        "print(sorted(fruits))"
      ]
    },
    {
      "cell_type": "code",
      "execution_count": null,
      "metadata": {
        "id": "k1F--lPlpbQq"
      },
      "outputs": [],
      "source": [
        "print(sorted(fruits, reverse=True))"
      ]
    },
    {
      "cell_type": "code",
      "execution_count": null,
      "metadata": {
        "id": "hD6SnNBtmybS"
      },
      "outputs": [],
      "source": [
        "# enumeration in python\n",
        "alphabets = ['A', 'B', 'C', 'D']\n",
        "e = enumerate(alphabets)\n",
        "print(list(e))\n"
      ]
    },
    {
      "cell_type": "code",
      "execution_count": null,
      "metadata": {
        "id": "OLzzZt1LtODM"
      },
      "outputs": [],
      "source": [
        "def index_of_word(source_str, target):\n",
        "  # split the sentence into tokens\n",
        "  lst_words = source_str.split(\" \")\n",
        "  lst_words_enum = enumerate(lst_words)\n",
        "  #print(list(lst_words_enum))\n",
        "  for idx, word in lst_words_enum:\n",
        "    if word==target:\n",
        "      return idx"
      ]
    },
    {
      "cell_type": "code",
      "execution_count": null,
      "metadata": {
        "id": "mphCfVj0s6QA"
      },
      "outputs": [],
      "source": [
        "news = \"The income tax department uncovered a PAN fraud scheme where individuals misused PANs for house rent allowance claims, leading to the detection of numerous high-value cases\""
      ]
    },
    {
      "cell_type": "code",
      "execution_count": null,
      "metadata": {
        "id": "t7Ey8ZNKtCax"
      },
      "outputs": [],
      "source": [
        "target = \"allowance\""
      ]
    },
    {
      "cell_type": "code",
      "execution_count": null,
      "metadata": {
        "id": "ZeceiAUUuBhu"
      },
      "outputs": [],
      "source": [
        "index = index_of_word(news, target)\n",
        "print(index)"
      ]
    },
    {
      "cell_type": "code",
      "execution_count": null,
      "metadata": {
        "id": "eXhajlVKyiFs"
      },
      "outputs": [],
      "source": [
        "# MAP Lambda functions\n",
        "def square_fn(n):\n",
        "  return n*n\n",
        "numbers = [1,2,3,4,5]\n",
        "result_map = map(square_fn,numbers)\n",
        "print(list(result_map))"
      ]
    },
    {
      "cell_type": "code",
      "execution_count": null,
      "metadata": {
        "id": "bpxPFLjmzdEF"
      },
      "outputs": [],
      "source": [
        "float_lst = [1.5,2.034,1.69,1.58]\n",
        "float_to_int = map(int,float_lst)\n",
        "print(list(float_to_int))"
      ]
    },
    {
      "cell_type": "code",
      "execution_count": null,
      "metadata": {
        "id": "iIgWNthfz2g8"
      },
      "outputs": [],
      "source": [
        "# char to integer\n",
        "num_char = ['5','2','3','9']\n",
        "char_to_num = map(int,num_char)\n",
        "print(list(char_to_num))"
      ]
    },
    {
      "cell_type": "markdown",
      "metadata": {
        "id": "37-sf6UadMNh"
      },
      "source": [
        "# Lambda function"
      ]
    },
    {
      "cell_type": "code",
      "execution_count": null,
      "metadata": {
        "id": "SkMCNqq4dPXo"
      },
      "outputs": [],
      "source": [
        "lst = [2,5,7,9]\n",
        "# writing a lambda function to calculate the square of a number\n",
        "lambda_sq = map(lambda x: x*x, lst)\n",
        "print(list(lambda_sq))"
      ]
    },
    {
      "cell_type": "code",
      "execution_count": null,
      "metadata": {
        "id": "oZf4f1OveO1o"
      },
      "outputs": [],
      "source": [
        "# lambda is a very simplified kind of function use a single line statement\n",
        "lam = lambda a,b:a+b\n",
        "lam(2,3)"
      ]
    },
    {
      "cell_type": "code",
      "execution_count": null,
      "metadata": {
        "id": "1VAbRZT8etoK"
      },
      "outputs": [],
      "source": [
        "(lambda a,b:a+b)(3,4)"
      ]
    },
    {
      "cell_type": "code",
      "execution_count": null,
      "metadata": {
        "id": "XE8dOy3pfSn0"
      },
      "outputs": [],
      "source": [
        "# if we want to divide one index by another index\n",
        "t = (14,7) # we want to divide t[0] by t[1]\n",
        "div_lam  = lambda t: t[0]/t[1]\n",
        "div_lam(t)\n"
      ]
    },
    {
      "cell_type": "code",
      "execution_count": null,
      "metadata": {
        "id": "l3wqNEHDgN34"
      },
      "outputs": [],
      "source": [
        "# lambda is also used for filteration\n",
        "# suppose we want to filter the even values from a list of odd values\n",
        "# for that we will going to use filter function\n",
        "lst = [2,5,7,9,12,14,16,18,23,27,29,30]\n",
        "even_list = filter(lambda x: x%2==0, lst)\n",
        "print(list(even_list))"
      ]
    },
    {
      "cell_type": "code",
      "execution_count": null,
      "metadata": {
        "id": "wFuEwoxZhGJn"
      },
      "outputs": [],
      "source": [
        "# sort the course list\n",
        "courses = ['math250', 'cs210','cs344', 'hut123', 'itm322','phy313']\n",
        "# WAC to sort the list\n",
        "sorted(courses)"
      ]
    },
    {
      "cell_type": "code",
      "execution_count": null,
      "metadata": {
        "id": "HjTF_LLejqVQ"
      },
      "outputs": [],
      "source": [
        "# sort course numerically\n",
        "sorted(courses, key = lambda x:int(x[-3:]))"
      ]
    },
    {
      "cell_type": "markdown",
      "metadata": {
        "id": "jq3_fzIglBCS"
      },
      "source": [
        "# Object Oriented Programming in Python"
      ]
    },
    {
      "cell_type": "code",
      "execution_count": null,
      "metadata": {
        "id": "ppMhEDHglIbx"
      },
      "outputs": [],
      "source": [
        "class ADD:\n",
        "  def __init__(self):\n",
        "    self.a = 10\n",
        "    self.b = 20\n",
        "  def summ(self):\n",
        "    c = self.a+self.b\n",
        "    return c\n",
        "\n"
      ]
    },
    {
      "cell_type": "code",
      "execution_count": null,
      "metadata": {
        "id": "iHxIKrmHmVkM"
      },
      "outputs": [],
      "source": [
        "a=ADD()\n",
        "a.summ()\n"
      ]
    },
    {
      "cell_type": "code",
      "execution_count": null,
      "metadata": {
        "id": "_YtKqaHaoyst"
      },
      "outputs": [],
      "source": [
        "class Person:\n",
        "\n",
        "  def __init__(self, name, age):\n",
        "    # this method init() is a constructor which is used to initailize the data members,\n",
        "\t  # In this example we have taken two data members,\n",
        "    self.name = name\n",
        "    self.age = age\n",
        "  def details(self):\n",
        "    print(\"Hello Mr. {0} your age is {1}\".format(self.name, self.age))\n"
      ]
    },
    {
      "cell_type": "code",
      "execution_count": null,
      "metadata": {
        "id": "6VDv3fzZpTd4"
      },
      "outputs": [],
      "source": [
        "# object of the class\n",
        "p = Person(\"Rituraj\", 25)\n",
        "p.details()"
      ]
    },
    {
      "cell_type": "code",
      "execution_count": null,
      "metadata": {
        "id": "COs0L0w5qyRP"
      },
      "outputs": [],
      "source": [
        "# WAP using class to print the name of your three friends\n",
        "# pass the names via contrutor; which is __init__()\n",
        "class Friends:\n",
        "  def __init__(self,friend1, friend2, friend3):\n",
        "    self.friend1 = friend1\n",
        "    self.friend2 = friend2\n",
        "    self.friend3 = friend3\n",
        "  def printFriends(self):\n",
        "    print(\"My friends are {0}, {1}, {2}\".format(self.friend1, self.friend2, self.friend3))\n",
        "\n",
        "\n",
        "\n"
      ]
    },
    {
      "cell_type": "code",
      "execution_count": null,
      "metadata": {
        "id": "BQNN3YrYsTSH"
      },
      "outputs": [],
      "source": [
        "f1 = Friends(\"Ram\", \"Shyam\",\"Vijay\")\n",
        "f1.printFriends()"
      ]
    },
    {
      "cell_type": "code",
      "execution_count": null,
      "metadata": {
        "id": "BB1U-6BCvikA"
      },
      "outputs": [],
      "source": [
        "# employee class using non paramerized constructor\n",
        "class Employee:\n",
        " def __init__(self):\n",
        "  pass\n",
        " def emp_details(self,emp_name, emp_sal, emp_dept):\n",
        "  print(\"the name of the employee is {0}, salary is {1}, belong to department {2}\".format(emp_name,emp_sal, emp_dept))\n"
      ]
    },
    {
      "cell_type": "code",
      "execution_count": null,
      "metadata": {
        "id": "p2EkBYPbyivN"
      },
      "outputs": [],
      "source": [
        "e1 = Employee()\n",
        "e1.emp_details(\"Rituraj\", 35000, \"Computer Science\")"
      ]
    },
    {
      "cell_type": "code",
      "execution_count": null,
      "metadata": {
        "id": "5WWfjZvGy5wT"
      },
      "outputs": [],
      "source": [
        "class Employeee:\n",
        "  def __init__(self,name,salary,dept):\n",
        "    self.name=name\n",
        "    self.salary=salary\n",
        "    self.dept=dept\n",
        "  def emp_details(self):\n",
        "    print(\"The name of the employee is {0}, salary is {1}, belong to {2} department\".format(self.name,self.salary,self.dept))\n"
      ]
    },
    {
      "cell_type": "code",
      "execution_count": null,
      "metadata": {
        "id": "N6ZB78Pe2SK3"
      },
      "outputs": [],
      "source": [
        "e2=Employeee(\"Tejas\",40000,\"IT\")\n",
        "e2.emp_details()"
      ]
    },
    {
      "cell_type": "markdown",
      "metadata": {
        "id": "sfh15Dvg3IBn"
      },
      "source": [
        "# Inheritance"
      ]
    },
    {
      "cell_type": "code",
      "execution_count": null,
      "metadata": {
        "id": "hIVVxGpn3KAK"
      },
      "outputs": [],
      "source": [
        "# Base Class\n",
        "class Animal:\n",
        "  def animalSpeaking(self):\n",
        "    print(\"Animal Speaking\")"
      ]
    },
    {
      "cell_type": "code",
      "execution_count": null,
      "metadata": {
        "id": "Dqx2ul9843oA"
      },
      "outputs": [],
      "source": [
        "# Derived class\n",
        "class Cat(Animal):\n",
        "\n",
        "  def meow(self):\n",
        "    print(\"Cat do meow\")"
      ]
    },
    {
      "cell_type": "code",
      "execution_count": null,
      "metadata": {
        "id": "uMQ7WOhF5Ntl"
      },
      "outputs": [],
      "source": [
        "c = Cat()\n",
        "c.animalSpeaking()\n",
        "c.meow()"
      ]
    },
    {
      "cell_type": "code",
      "execution_count": null,
      "metadata": {
        "id": "lBZkfaqT55nS"
      },
      "outputs": [],
      "source": [
        "# second derived class to implement multilevel inheritance\n",
        "class Kitten(Cat):\n",
        "  def food(self):\n",
        "    print(\"kitten loves to drink milk\")"
      ]
    },
    {
      "cell_type": "code",
      "execution_count": null,
      "metadata": {
        "id": "Y3s5p_MT6LhK"
      },
      "outputs": [],
      "source": [
        "k = Kitten()\n",
        "k.animalSpeaking()\n",
        "k.meow()\n",
        "k.food()"
      ]
    },
    {
      "cell_type": "markdown",
      "metadata": {
        "id": "DTxUBGoT9qhb"
      },
      "source": [
        "# Multiple Inheritance"
      ]
    },
    {
      "cell_type": "code",
      "execution_count": null,
      "metadata": {
        "id": "3IZds8rR8t4B"
      },
      "outputs": [],
      "source": [
        "class Model_car:\n",
        "  def printAverageSpeed(self):\n",
        "    print(\"Model name and speed of the car\")"
      ]
    },
    {
      "cell_type": "code",
      "execution_count": null,
      "metadata": {
        "id": "JziYftaj98LH"
      },
      "outputs": [],
      "source": [
        "class BMW(Model_car):\n",
        "  def bmwDetails(self, model_name, average):\n",
        "    print(\"The car is BMW  model name {0} and  the average is {1}\".format(model_name, average))\n"
      ]
    },
    {
      "cell_type": "code",
      "execution_count": null,
      "metadata": {
        "id": "IkXvYT6_-kFi"
      },
      "outputs": [],
      "source": [
        "class Audi(Model_car):\n",
        "  def audiDetails(self, model_name, average):\n",
        "    print(\"The car is audi model name {0} and  the average is {1}\".format(model_name, average))"
      ]
    },
    {
      "cell_type": "code",
      "execution_count": null,
      "metadata": {
        "id": "62KPmGBp-t8d"
      },
      "outputs": [],
      "source": [
        "class Thar(Model_car):\n",
        "  def tharDetails(self, model_name, average):\n",
        "    print(\"The car is thar model name {0} and  the average is {1}\".format(model_name, average))"
      ]
    },
    {
      "cell_type": "code",
      "execution_count": null,
      "metadata": {
        "id": "wMe5GtxT-4aT"
      },
      "outputs": [],
      "source": [
        "bmw = BMW()\n",
        "bmw.printAverageSpeed()\n",
        "bmw.bmwDetails(\"BMWX1\", 15.2)"
      ]
    },
    {
      "cell_type": "code",
      "execution_count": null,
      "metadata": {
        "id": "w3iJvB3RaNxs"
      },
      "outputs": [],
      "source": [
        "# code to connect with the drive\n",
        "from google.colab import drive\n",
        "drive.mount('/content/drive')\n"
      ]
    },
    {
      "cell_type": "code",
      "execution_count": null,
      "metadata": {
        "id": "enrUAfs_QgZq"
      },
      "outputs": [],
      "source": [
        "# syntax to open a file\n",
        "path_file1 = '/content/drive/MyDrive/file_scrapping/file_scrapping/e310.txt'\n",
        "f1 = open(path_file1,'r')\n",
        "f1.read()"
      ]
    },
    {
      "cell_type": "code",
      "execution_count": null,
      "metadata": {
        "id": "zLhwsKePkCsr"
      },
      "outputs": [],
      "source": [
        "# we can get rid of \\n by reading one line at a time\n",
        "with open(path_file1,\"r\") as file1:\n",
        "  data = file1.readlines() # it is used to read lines one by one\n",
        "  print(data)\n",
        "  for line in data:\n",
        "    line = line.strip()\n",
        "    print(line)\n",
        "file1.close()"
      ]
    },
    {
      "cell_type": "code",
      "execution_count": null,
      "metadata": {
        "id": "5WlwDBVflSBZ"
      },
      "outputs": [],
      "source": [
        "# open the file in write mode\n",
        "file = open(path_file1,'w')\n",
        "file.write(\"This is write command, it will delete all previous commands \\n\")\n",
        "file.write(\"New data is being created and old get deleted \\n\")\n",
        "file.write(\"if file does not exist then it will create the file and add new data\\n\")\n",
        "file.close()"
      ]
    },
    {
      "cell_type": "code",
      "execution_count": null,
      "metadata": {
        "id": "DQIObH_7oeuV"
      },
      "outputs": [],
      "source": [
        "path_file2 = '/content/drive/MyDrive/file_scrapping/file_scrapping/suvil.txt'"
      ]
    },
    {
      "cell_type": "code",
      "execution_count": null,
      "metadata": {
        "id": "zXa3N6JUoP9Q"
      },
      "outputs": [],
      "source": [
        "# creating a file whoch does not exist\n",
        "file = open(path_file2,'w')\n",
        "file.write(\"A new file 312 is created which does not exist \\n\")\n",
        "file.write(\"We are learning file handling\")\n",
        "file.close()"
      ]
    },
    {
      "cell_type": "markdown",
      "metadata": {
        "id": "lV_4zoWjqAN1"
      },
      "source": []
    },
    {
      "cell_type": "code",
      "execution_count": null,
      "metadata": {
        "id": "_Yg1QVIpr69I"
      },
      "outputs": [],
      "source": [
        "# to open the file file1.txt in read mode\n",
        "# step1: set up the path\n",
        "path_file3 = '/content/drive/MyDrive/file_scrapping/file_scrapping/file1.txt'\n",
        "f3 = open(path_file3, 'r')\n",
        "f3.read()\n",
        "f3.close()"
      ]
    },
    {
      "cell_type": "code",
      "execution_count": null,
      "metadata": {
        "id": "GAqkB1QrsLq-"
      },
      "outputs": [],
      "source": [
        "# open the file in a+ mode\n",
        "f4 = open(path_file3,'a+')\n",
        "f4.write(\"We are learning python\")\n",
        "f4.close()"
      ]
    },
    {
      "cell_type": "code",
      "execution_count": null,
      "metadata": {
        "id": "oqeXUTPxuHxC"
      },
      "outputs": [],
      "source": [
        "f5 = open(path_file3,'r')\n",
        "f5.read()"
      ]
    },
    {
      "cell_type": "code",
      "execution_count": null,
      "metadata": {
        "id": "06uFfqhWuY-o"
      },
      "outputs": [],
      "source": [
        "file = open(path_file3,'w')\n",
        "file.write(\"We are changing the file\\n\")\n",
        "file.write(\"New changes are welcome\")\n",
        "file.close()"
      ]
    },
    {
      "cell_type": "code",
      "execution_count": null,
      "metadata": {
        "id": "kq-PaSZeupV7"
      },
      "outputs": [],
      "source": [
        "file = open(path_file3,'r')\n",
        "file.read()"
      ]
    },
    {
      "cell_type": "markdown",
      "metadata": {
        "id": "MaZBYDULwARN"
      },
      "source": [
        "IRIS DATA SET AND ITS CLEANING"
      ]
    },
    {
      "cell_type": "code",
      "execution_count": null,
      "metadata": {
        "id": "sDm7E9iBzN7s"
      },
      "outputs": [],
      "source": [
        "# description of iris data is like this\n",
        "# it is a iris messy data which contain 5 columns\n",
        "# sepal length, sepal width, petal length, petal width\n",
        "import csv"
      ]
    },
    {
      "cell_type": "code",
      "execution_count": null,
      "metadata": {
        "id": "kMhsykcw0KMu"
      },
      "outputs": [],
      "source": [
        "path_iris = '/content/drive/MyDrive/file_scrapping/file_scrapping/iris-messy.csv'"
      ]
    },
    {
      "cell_type": "code",
      "execution_count": null,
      "metadata": {
        "id": "scxtU4p10TYY"
      },
      "outputs": [],
      "source": [
        "#to open the file we will use file handling\n",
        "file_iris = open(path_iris)"
      ]
    },
    {
      "cell_type": "code",
      "execution_count": null,
      "metadata": {
        "id": "DUwf2YX00d10"
      },
      "outputs": [],
      "source": [
        "# to read a csv file we will use csv reader\n",
        "csvreader = csv.reader(file_iris)"
      ]
    },
    {
      "cell_type": "code",
      "execution_count": null,
      "metadata": {
        "id": "YGtu6ihu0r2k"
      },
      "outputs": [],
      "source": [
        "# to extract the header information of csv file we need next()\n",
        "header = []\n",
        "header = next(csvreader)"
      ]
    },
    {
      "cell_type": "code",
      "execution_count": null,
      "metadata": {
        "id": "YcFwUuLW17tb"
      },
      "outputs": [],
      "source": [
        "header"
      ]
    },
    {
      "cell_type": "code",
      "execution_count": null,
      "metadata": {
        "id": "hTQ93Auv23hw"
      },
      "outputs": [],
      "source": [
        "print(\",\".join(header))"
      ]
    },
    {
      "cell_type": "code",
      "execution_count": null,
      "metadata": {
        "id": "IzwpTrlp3UNB"
      },
      "outputs": [],
      "source": [
        "rows = [row for row in csvreader]"
      ]
    },
    {
      "cell_type": "code",
      "execution_count": null,
      "metadata": {
        "id": "VAtO27Wu3F_U"
      },
      "outputs": [],
      "source": [
        "rows = []\n",
        "for row in csvreader:\n",
        "  rows.append(row)"
      ]
    },
    {
      "cell_type": "code",
      "execution_count": null,
      "metadata": {
        "id": "sBX0uK2E3da3"
      },
      "outputs": [],
      "source": [
        "rows"
      ]
    },
    {
      "cell_type": "code",
      "execution_count": null,
      "metadata": {
        "id": "SfyUyfLv4pKe"
      },
      "outputs": [],
      "source": [
        "# create a file which will hold the clean iris file\n",
        "outfile = '/content/drive/MyDrive/file_scrapping/file_scrapping/iris_clean310.csv'"
      ]
    },
    {
      "cell_type": "code",
      "execution_count": null,
      "metadata": {
        "id": "1p66S1VS4_aE"
      },
      "outputs": [],
      "source": [
        "# code to clean the files\n",
        "# since the outfile is not exsiting so we will open it in write mode\n",
        "with open(outfile,'w') as of:\n",
        "  with open(path_iris) as ir:\n",
        "    reader = csv.reader(ir)\n",
        "    # header for use in new file therefore we will extract header\n",
        "    header = next(reader)\n",
        "    of.write(\",\".join(header))\n",
        "    of.write('\\n')\n",
        "    for num, row in enumerate(reader):\n",
        "      if len(row)!=5:\n",
        "        # this means we have to ignore this row because it contains error\n",
        "        continue\n",
        "      else:\n",
        "        out_row = []\n",
        "        for val in row[:-1]:\n",
        "          try:\n",
        "            float(val)\n",
        "            out_row.append(val)\n",
        "          except:\n",
        "            out_row.append('0.0')\n",
        "        out_row.append(row[-1])\n",
        "        of.write(','.join(out_row))\n",
        "        of.write('\\n')\n",
        "  of.close()"
      ]
    },
    {
      "cell_type": "markdown",
      "metadata": {
        "id": "xMfv5Ma1fCJM"
      },
      "source": [
        "# Exception Handling"
      ]
    },
    {
      "cell_type": "code",
      "execution_count": null,
      "metadata": {
        "id": "45XTlM4KfBzC"
      },
      "outputs": [],
      "source": [
        "strr = '10'\n",
        "val = float(strr)\n",
        "val"
      ]
    },
    {
      "cell_type": "code",
      "execution_count": null,
      "metadata": {
        "id": "0a0tvW1jftDu"
      },
      "outputs": [],
      "source": [
        "str2 = '$#'\n",
        "try:\n",
        "  val = float(str2)\n",
        "except:\n",
        "  print(\"enter the right value\")\n"
      ]
    },
    {
      "cell_type": "code",
      "execution_count": null,
      "metadata": {
        "id": "q7YrQgcAhS1L"
      },
      "outputs": [],
      "source": [
        "c = ((10+20))*25"
      ]
    },
    {
      "cell_type": "code",
      "execution_count": null,
      "metadata": {
        "id": "u_AaRzPEiBCx"
      },
      "outputs": [],
      "source": [
        "var1 = 10 + \"avr2\""
      ]
    },
    {
      "cell_type": "code",
      "execution_count": null,
      "metadata": {
        "id": "y3AKNpslivs0"
      },
      "outputs": [],
      "source": [
        "try:\n",
        "  var1 = 10 + \"avr2\"\n",
        "except:\n",
        "  print(\"add same or compatible data types\")\n",
        "\n",
        "\n"
      ]
    },
    {
      "cell_type": "code",
      "execution_count": null,
      "metadata": {
        "id": "s7j6CGeZjJgP"
      },
      "outputs": [],
      "source": [
        "# Name Error\n",
        "try:\n",
        "  learn_exception()\n",
        "except:\n",
        "  print(\"Define the function in the scope before calling\")"
      ]
    },
    {
      "cell_type": "code",
      "execution_count": null,
      "metadata": {
        "id": "gbhC01upk5e0"
      },
      "outputs": [],
      "source": [
        "# Index Error\n",
        "try:\n",
        "  l = [2,4,6,8]\n",
        "  print(l[4])\n",
        "except:\n",
        "  print(\"Keep the values in the range\")"
      ]
    },
    {
      "cell_type": "code",
      "execution_count": null,
      "metadata": {
        "id": "vKY0oow-nE5z"
      },
      "outputs": [],
      "source": [
        "try:\n",
        " d = {'holi':'march', 'diwali':'oct'}\n",
        " print(d['dusherra'])\n",
        "except:\n",
        " print(\"out of dictionary\")"
      ]
    },
    {
      "cell_type": "code",
      "execution_count": null,
      "metadata": {
        "id": "4b0Q83pWpT-S"
      },
      "outputs": [],
      "source": [
        "# when we try to divide a number by zero zero division error occurs\n",
        "a = 12/0\n",
        "print(a)"
      ]
    },
    {
      "cell_type": "code",
      "execution_count": null,
      "metadata": {
        "id": "qFhyQJsCqF9R"
      },
      "outputs": [],
      "source": [
        "try:\n",
        "  a = 12/0\n",
        "  print(a)\n",
        "except ZeroDivisionError as e:\n",
        "  print(\"Nuumber has been divied by zero\")\n",
        "\n"
      ]
    },
    {
      "cell_type": "code",
      "execution_count": null,
      "metadata": {
        "id": "UBUNKRI2tBF8"
      },
      "outputs": [],
      "source": [
        "float('as')"
      ]
    },
    {
      "cell_type": "code",
      "execution_count": null,
      "metadata": {
        "id": "M3ysh-IMq2wD"
      },
      "outputs": [],
      "source": [
        "l = [10,12,14] # there are three elemnts in the list\n",
        "try:\n",
        "  c = l[4]+var3\n",
        "  print(c)\n",
        "except IndexError:\n",
        "  print(\"You are acessing out of index values\")\n",
        "except ValueError:\n",
        "  print(\"use valid values\")\n",
        "except NameError:\n",
        "  print(\"Please intialize or define a variable or function\")\n"
      ]
    },
    {
      "cell_type": "code",
      "execution_count": null,
      "metadata": {
        "id": "XoPCtFDctadf"
      },
      "outputs": [],
      "source": [
        "# Try with else clause\n",
        "def DemoFunc(x,y):\n",
        "  try:\n",
        "    z = (x+y)/(x-y)\n",
        "  except ZeroDivisionError:\n",
        "    print(\"Do not enter equal values of x and y\")\n",
        "  else:\n",
        "    print(\"the answer is \", z)"
      ]
    },
    {
      "cell_type": "code",
      "execution_count": null,
      "metadata": {
        "id": "jEI_ZYyYwMoo"
      },
      "outputs": [],
      "source": [
        "DemoFunc(14,10)"
      ]
    },
    {
      "cell_type": "code",
      "execution_count": null,
      "metadata": {
        "id": "cBRds4b7we6g"
      },
      "outputs": [],
      "source": [
        "DemoFunc(10,10)"
      ]
    },
    {
      "cell_type": "code",
      "execution_count": null,
      "metadata": {
        "id": "YNPmyLe7w1m8"
      },
      "outputs": [],
      "source": [
        "try:\n",
        "  z = 5/0\n",
        "except ZeroDivisionError:\n",
        "  print(\"Don't divide by zero\")\n",
        "else:\n",
        "  print(\" Sorry i will NOT execute\")\n",
        "finally:\n",
        "  print(\"I will always execute wether exception occurs or not\")"
      ]
    },
    {
      "cell_type": "code",
      "execution_count": null,
      "metadata": {
        "id": "h1ed-ePxz2I4"
      },
      "outputs": [],
      "source": [
        "# Import the re module\n",
        "import re"
      ]
    },
    {
      "cell_type": "code",
      "execution_count": null,
      "metadata": {
        "id": "9cWqUXrl99Dl"
      },
      "outputs": [],
      "source": [
        "# 'caa' is the search pattern\n",
        "# syntax search(pattern, string in which to be search)\n",
        "res = re.search('caa', 'dcaaat')\n",
        "print(res)"
      ]
    },
    {
      "cell_type": "code",
      "execution_count": null,
      "metadata": {
        "id": "Jr1jkEKR-w9-"
      },
      "outputs": [],
      "source": [
        "res = re.search('a', 'dog')\n",
        "print(res)"
      ]
    },
    {
      "cell_type": "code",
      "execution_count": null,
      "metadata": {
        "id": "bCvwVb04-8t2"
      },
      "outputs": [],
      "source": [
        "print('matched') if re.search('a', 'dog') else print('not matched')"
      ]
    },
    {
      "cell_type": "code",
      "execution_count": null,
      "metadata": {
        "id": "weyuaa_P_bIU"
      },
      "outputs": [],
      "source": [
        "res = re.search('ar', 'barbarians')\n",
        "print(res)"
      ]
    },
    {
      "cell_type": "code",
      "execution_count": null,
      "metadata": {
        "id": "musDKjEsACgA"
      },
      "outputs": [],
      "source": [
        "# we can also make a function to perform these searches\n",
        "def searchit(pattern, astr):\n",
        "  if re.search(pattern, astr):\n",
        "    return True\n",
        "  else:\n",
        "    return False\n",
        "print(searchit('a', 'cat'))\n",
        "print(searchit('ra', 'rituraj'))\n",
        "print(searchit('ma','mamambaa'))"
      ]
    },
    {
      "cell_type": "code",
      "execution_count": null,
      "metadata": {
        "id": "GG848ErqYlzf"
      },
      "outputs": [],
      "source": [
        "# search for any sequence that starts with a and ends with t,\n",
        "# and has any number of letters or digits (zero included) between them\n",
        "while True:\n",
        "  astr = input(\"string? ('quit' to stop)\")\n",
        "  if astr == 'quit':\n",
        "    break\n",
        "  res = re.search('[0-9][a-zA-Z0-9]*t', astr) # we have used [] and * metacharcters\n",
        "  print('match') if res else print('Not matched')"
      ]
    },
    {
      "cell_type": "code",
      "execution_count": null,
      "metadata": {
        "id": "f1CX37UYdgLY"
      },
      "outputs": [],
      "source": [
        "# # search for any sequence that starts with a and ends with t,\n",
        "# and has any number of letters or digits (zero included) between them\n",
        "while True:\n",
        "  astr = input(\"string? ('quit' to stop)\")\n",
        "  if astr == 'quit':\n",
        "    break\n",
        "  res = re.search('[0-9][a-zA-Z0-9]+t', astr) # we have used [] and * metacharcters\n",
        "  print('match') if res else print('Not matched')"
      ]
    },
    {
      "cell_type": "code",
      "execution_count": null,
      "metadata": {
        "id": "HPn1ivzqeLs3"
      },
      "outputs": [],
      "source": [
        "# # search for any sequence that starts with a and ends with t,\n",
        "# and has any number of letters or digits (zero included) between them\n",
        "while True:\n",
        "  astr = input(\"string? ('quit' to stop)\")\n",
        "  if astr == 'quit':\n",
        "    break\n",
        "  res = re.search('ar[a-z]+t', astr) # we have used [] and * metacharcters\n",
        "  print('match') if res else print('Not matched')"
      ]
    },
    {
      "cell_type": "code",
      "execution_count": null,
      "metadata": {
        "id": "L-qze0t9gKy7"
      },
      "outputs": [],
      "source": [
        "# ^ : stands for beigning of the string\n",
        " # search for any sequence that starts with a and ends with t,\n",
        "# and has any number of letters or digits (zero included) between them\n",
        "while True:\n",
        "  astr = input(\"string? ('quit' to stop)\")\n",
        "  if astr == 'quit':\n",
        "    break\n",
        "  res = re.search('^ar[a-z]+t', astr) # we have used [] and * metacharcters\n",
        "  print('match') if res else print('Not matched')\n"
      ]
    },
    {
      "cell_type": "code",
      "execution_count": null,
      "metadata": {
        "id": "vzj7NiCShK-Y"
      },
      "outputs": [],
      "source": [
        "# use of | component in regular expressions\n",
        "# it searches for airport or airplane\n",
        "res = re.search('air(port|plane)', 'the air is cool')\n",
        "print(res)"
      ]
    },
    {
      "cell_type": "code",
      "execution_count": null,
      "metadata": {
        "id": "l7Hw_OOmh7Z3"
      },
      "outputs": [],
      "source": [
        "res = re.search('air(port|plane)', 'the airplane flies very fast ')\n",
        "print(res)"
      ]
    },
    {
      "cell_type": "code",
      "execution_count": null,
      "metadata": {
        "id": "rjy7Txp0iKUh"
      },
      "outputs": [],
      "source": [
        "res = re.search('air(plane|port)', 'the airplane stops at airport')\n",
        "print(res)"
      ]
    },
    {
      "cell_type": "code",
      "execution_count": null,
      "metadata": {
        "id": "FG5wWDeGiX0d"
      },
      "outputs": [],
      "source": [
        "res = re.search('air(plane|port)', 'the airport of new delhi is very big')\n",
        "print(res)"
      ]
    },
    {
      "cell_type": "code",
      "execution_count": null,
      "metadata": {
        "id": "RoNYPcXai0u7"
      },
      "outputs": [],
      "source": [
        "# '$': indicate the end of the\n",
        "# matches all the strings that start with ar, end with t\n",
        "# and donot have and other string procedding or precedding it\n",
        "while True:\n",
        "  astr = input(\"string? ('quit' to stop)\")\n",
        "  if astr == 'quit':\n",
        "    break\n",
        "  res = re.search('^ar[a-z]+t$', astr) # we have used [] and * metacharcters\n",
        "  print('match') if res else print('Not matched')"
      ]
    },
    {
      "cell_type": "markdown",
      "metadata": {
        "id": "P7Ohylyoilnm"
      },
      "source": [
        "#WebScrapping"
      ]
    },
    {
      "cell_type": "code",
      "execution_count": null,
      "metadata": {
        "id": "1qB9-qb0in4C"
      },
      "outputs": [],
      "source": [
        "from google.colab import drive\n",
        "drive.mount('/content/drive')"
      ]
    },
    {
      "cell_type": "code",
      "execution_count": null,
      "metadata": {
        "id": "RF7p7bcIi54G"
      },
      "outputs": [],
      "source": [
        "!pip install beautifulsoup4"
      ]
    },
    {
      "cell_type": "code",
      "execution_count": null,
      "metadata": {
        "id": "H_FH5YnwjHJX"
      },
      "outputs": [],
      "source": [
        "!pip install lxml"
      ]
    },
    {
      "cell_type": "code",
      "execution_count": null,
      "metadata": {
        "id": "JJ55u3WOjlNP"
      },
      "outputs": [],
      "source": [
        "!pip install html5lib"
      ]
    },
    {
      "cell_type": "code",
      "execution_count": null,
      "metadata": {
        "id": "4hKrJ418j4tf"
      },
      "outputs": [],
      "source": [
        "path_html = '/content/drive/MyDrive/file_scrapping/file_scrapping/simple.html'"
      ]
    },
    {
      "cell_type": "code",
      "execution_count": null,
      "metadata": {
        "id": "aE5CF09Pj4qA"
      },
      "outputs": [],
      "source": [
        "from bs4 import BeautifulSoup\n",
        "import requests"
      ]
    },
    {
      "cell_type": "code",
      "execution_count": null,
      "metadata": {
        "id": "wfpnv4YBj4mH"
      },
      "outputs": [],
      "source": [
        "# beautiful soup uses lxml as a parser to extarct the data from the html file\n",
        "with open(path_html) as htmlfile:\n",
        "  soup = BeautifulSoup(htmlfile,'lxml')\n",
        "print(soup)"
      ]
    },
    {
      "cell_type": "code",
      "execution_count": null,
      "metadata": {
        "id": "BxbWaq88j4iK"
      },
      "outputs": [],
      "source": [
        "# to get the clear file we use prettify function\n",
        "print(soup.prettify())"
      ]
    },
    {
      "cell_type": "code",
      "execution_count": null,
      "metadata": {
        "id": "EboInGpoj4YF"
      },
      "outputs": [],
      "source": [
        "# soup variable to acess the data\n",
        "first_header = soup.h1\n",
        "print(first_header)"
      ]
    },
    {
      "cell_type": "code",
      "execution_count": null,
      "metadata": {
        "id": "KYk-SG4lj4T3"
      },
      "outputs": [],
      "source": [
        "#if tyou dont want headers\n",
        "print(first_header.text)"
      ]
    },
    {
      "cell_type": "code",
      "execution_count": null,
      "metadata": {
        "id": "ToLT1ZkxmDOo"
      },
      "outputs": [],
      "source": [
        "# an object of div tag\n",
        "first_div = soup.div\n",
        "print(soup.div)"
      ]
    },
    {
      "cell_type": "code",
      "execution_count": null,
      "metadata": {
        "id": "LnWxH6_FmDTv"
      },
      "outputs": [],
      "source": [
        "# to get trid of div tags\n",
        "print(first_div.text)"
      ]
    },
    {
      "cell_type": "code",
      "execution_count": null,
      "metadata": {
        "id": "wDFslKDCmDYU"
      },
      "outputs": [],
      "source": [
        "print(soup.div.h2.text)"
      ]
    },
    {
      "cell_type": "code",
      "execution_count": null,
      "metadata": {
        "id": "lx-kMxg7j4Qb"
      },
      "outputs": [],
      "source": [
        "print(soup.div.p.text)"
      ]
    },
    {
      "cell_type": "code",
      "execution_count": null,
      "metadata": {
        "id": "F2_TlR2Lj4L7"
      },
      "outputs": [],
      "source": [
        "# it is easy to acess the div tags with different classes\n",
        "# but how we will acess the div tag with same class\n",
        "footer = soup.find('div', class_='footer')\n",
        "print(footer.p.text)"
      ]
    },
    {
      "cell_type": "code",
      "execution_count": null,
      "metadata": {
        "id": "BjbeNN5hoQlV"
      },
      "outputs": [],
      "source": [
        "# by defaut if two div tags have same class name\n",
        "# then find function return the information regarding the first one\n",
        "article = soup.find('div', class_='article')\n",
        "article.h2.text"
      ]
    },
    {
      "cell_type": "code",
      "execution_count": null,
      "metadata": {
        "id": "PIqC8ABSpH1H"
      },
      "outputs": [],
      "source": [
        "# we have to use find all function to acess the second or any other div tags\n",
        "# of the same name\n",
        "article_lst = soup.find_all('div', class_='article')\n",
        "article_lst"
      ]
    },
    {
      "cell_type": "code",
      "execution_count": null,
      "metadata": {
        "id": "1zjANbWzpkvf"
      },
      "outputs": [],
      "source": [
        "article2 = article_lst[1]\n",
        "article2.h2.text\n"
      ]
    },
    {
      "cell_type": "markdown",
      "metadata": {
        "id": "JK3K02J_rp5P"
      },
      "source": [
        "# scrapping the data from the real website"
      ]
    },
    {
      "cell_type": "code",
      "execution_count": null,
      "metadata": {
        "id": "Ye25suqMruK3"
      },
      "outputs": [],
      "source": [
        "import pandas as pd"
      ]
    },
    {
      "cell_type": "code",
      "execution_count": null,
      "metadata": {
        "id": "j_YVnNo2rzzv"
      },
      "outputs": [],
      "source": [
        "url_1 = 'https://en.wikipedia.org/wiki/List_of_largest_companies_in_the_United_States_by_revenue'"
      ]
    },
    {
      "cell_type": "code",
      "execution_count": null,
      "metadata": {
        "id": "HOJxcQEqrz4X"
      },
      "outputs": [],
      "source": [
        "# to check the url\n",
        "webpage = requests.get(url_1)\n",
        "print(webpage.url)"
      ]
    },
    {
      "cell_type": "code",
      "execution_count": null,
      "metadata": {
        "id": "gZ3rwhgcrz-e"
      },
      "outputs": [],
      "source": [
        "webpage.status_code"
      ]
    },
    {
      "cell_type": "code",
      "execution_count": null,
      "metadata": {
        "id": "Rumz_yVSr0DO"
      },
      "outputs": [],
      "source": [
        "# create a soup with html as parser to extract the extract the text of the website\n",
        "soup_web = BeautifulSoup(webpage.text,'html')\n",
        "print(soup_web)"
      ]
    },
    {
      "cell_type": "code",
      "execution_count": null,
      "metadata": {
        "id": "LGM0jWsZr0Hz"
      },
      "outputs": [],
      "source": [
        "# pretiffy the code\n",
        "print(soup_web.prettify())"
      ]
    },
    {
      "cell_type": "code",
      "execution_count": null,
      "metadata": {
        "id": "wewr9Eq7r0PL"
      },
      "outputs": [],
      "source": [
        "# Title of the table\n",
        "soup_web.title.text"
      ]
    },
    {
      "cell_type": "code",
      "execution_count": null,
      "metadata": {
        "id": "FMde3eaGtXwA"
      },
      "outputs": [],
      "source": [
        "# list of all tables\n",
        "lst_tables = soup_web.find_all('table')"
      ]
    },
    {
      "cell_type": "code",
      "execution_count": null,
      "metadata": {
        "id": "NxYXQsLxtX00"
      },
      "outputs": [],
      "source": [
        "table1 = lst_tables[1]\n",
        "# extract the rows from there\n",
        "table_rows = table1.tr.text.strip().split('\\n')\n",
        "print(table_rows)"
      ]
    },
    {
      "cell_type": "code",
      "execution_count": null,
      "metadata": {
        "id": "5aJYRJOCtX7-"
      },
      "outputs": [],
      "source": [
        "# finding the table by using classes\n",
        "tablee = soup_web.find('table', class_='wikitable sortable')\n",
        "tablee.tr.text.strip().split('\\n')"
      ]
    },
    {
      "cell_type": "code",
      "execution_count": null,
      "metadata": {
        "id": "ejbhV-k_x3jY"
      },
      "outputs": [],
      "source": [
        "# another way is to use title\n",
        "headers_table = tablee.find_all('th')\n",
        "headers_table"
      ]
    },
    {
      "cell_type": "code",
      "execution_count": null,
      "metadata": {
        "id": "kiHg1aOZtYAU"
      },
      "outputs": [],
      "source": [
        "word_table_header = [title.text for title in headers_table]\n",
        "word_table_header"
      ]
    },
    {
      "cell_type": "code",
      "execution_count": null,
      "metadata": {
        "id": "eN5_WGvetYFJ"
      },
      "outputs": [],
      "source": [
        "word_table_header = [title.text.strip() for title in headers_table]\n",
        "word_table_header"
      ]
    },
    {
      "cell_type": "code",
      "execution_count": null,
      "metadata": {
        "id": "o0Y_61QNtYJY"
      },
      "outputs": [],
      "source": [
        "# create a data framw with these names as columns\n",
        "df = pd.DataFrame(columns=word_table_header)\n",
        "df"
      ]
    },
    {
      "cell_type": "code",
      "execution_count": null,
      "metadata": {
        "id": "lK0FgfKtzvya"
      },
      "outputs": [],
      "source": [
        "column_data = tablee.find_all('tr')"
      ]
    },
    {
      "cell_type": "code",
      "execution_count": null,
      "metadata": {
        "id": "vADFuUNttYN3"
      },
      "outputs": [],
      "source": [
        "row_no = 0\n",
        "for row in column_data[1:]:\n",
        "  # find the data for filling the rows of data frame\n",
        "  row_data = row.find_all('td')\n",
        "  indivisual_row = [data.text.strip() for data in row_data]\n",
        "  df.loc[row_no]=indivisual_row\n",
        "  row_no=row_no+1\n"
      ]
    },
    {
      "cell_type": "code",
      "execution_count": null,
      "metadata": {
        "id": "1l2nYuiPtYSX"
      },
      "outputs": [],
      "source": [
        "df.head(5)"
      ]
    },
    {
      "cell_type": "code",
      "execution_count": null,
      "metadata": {
        "id": "X_fhS0tytYWZ"
      },
      "outputs": [],
      "source": [
        "df.to_csv('/content/drive/MyDrive/file_scrapping/file_scrapping/companies_e310.csv')"
      ]
    },
    {
      "cell_type": "code",
      "execution_count": null,
      "metadata": {
        "id": "ocbdjbGjtYbB"
      },
      "outputs": [],
      "source": []
    },
    {
      "cell_type": "code",
      "execution_count": null,
      "metadata": {
        "id": "QJ_dGPfWtYhC"
      },
      "outputs": [],
      "source": []
    },
    {
      "cell_type": "markdown",
      "metadata": {
        "id": "ZbjGHlbDnHJh"
      },
      "source": [
        "#NumPy : Numerical Python"
      ]
    },
    {
      "cell_type": "code",
      "execution_count": null,
      "metadata": {
        "cellView": "form",
        "id": "DkA0U4ainMM7"
      },
      "outputs": [],
      "source": [
        "#@title Libraries\n",
        "import numpy as np\n",
        "import pandas as pd"
      ]
    },
    {
      "cell_type": "code",
      "execution_count": null,
      "metadata": {
        "id": "wFUVfQDhnF4n"
      },
      "outputs": [],
      "source": [
        "# raw array\n",
        "data1 = [1.6,1.2,2.3,1.5]\n",
        "arr1 = np.array(data1)\n",
        "arr1"
      ]
    },
    {
      "cell_type": "code",
      "execution_count": null,
      "metadata": {
        "id": "QLOgaRTYnyuR"
      },
      "outputs": [],
      "source": [
        "# we can check the dimesion of the arrary by using\n",
        "arr1.ndim"
      ]
    },
    {
      "cell_type": "code",
      "execution_count": null,
      "metadata": {
        "id": "ahVc05uBoCiq"
      },
      "outputs": [],
      "source": [
        "data2 = [[1,2,3,4],[4,5,6,7],[5,3,4,5]]\n",
        "arr2 = np.array(data2)\n",
        "print(arr2)"
      ]
    },
    {
      "cell_type": "code",
      "execution_count": null,
      "metadata": {
        "id": "pldSKBPIoXTY"
      },
      "outputs": [],
      "source": [
        "arr2.ndim"
      ]
    },
    {
      "cell_type": "code",
      "execution_count": null,
      "metadata": {
        "id": "fi9LCcajoZtY"
      },
      "outputs": [],
      "source": [
        "type(arr2)"
      ]
    },
    {
      "cell_type": "code",
      "execution_count": null,
      "metadata": {
        "id": "78Hvd6xFokn0"
      },
      "outputs": [],
      "source": [
        "# shape of the array\n",
        "arr2.shape"
      ]
    },
    {
      "cell_type": "code",
      "execution_count": null,
      "metadata": {
        "id": "6RAHxc3Uo0xO"
      },
      "outputs": [],
      "source": [
        "# np.zeros(10)\n",
        "arr3 = np.zeros(10)\n",
        "arr3"
      ]
    },
    {
      "cell_type": "code",
      "execution_count": null,
      "metadata": {
        "id": "RwmTSG03pLqX"
      },
      "outputs": [],
      "source": [
        "# creating an two dimesional array of zeros having 4 rows and 6 columns\n",
        "arr4 = np.zeros((4,6))\n",
        "arr4"
      ]
    },
    {
      "cell_type": "code",
      "execution_count": null,
      "metadata": {
        "id": "0_Tp5jNppd5Y"
      },
      "outputs": [],
      "source": [
        "# np.arange()\n",
        "range1 = np.arange(20)\n",
        "print(range1)"
      ]
    },
    {
      "cell_type": "code",
      "execution_count": null,
      "metadata": {
        "id": "-sNBiKwBqjgX"
      },
      "outputs": [],
      "source": [
        "range2 = range(20)\n",
        "print(range2)"
      ]
    },
    {
      "cell_type": "code",
      "execution_count": null,
      "metadata": {
        "id": "vU1KCfhjq4Z9"
      },
      "outputs": [],
      "source": [
        "# astype\n",
        "# suppose you have an array of float\n",
        "arr5 = np.array([3.7,-1.2,-2.6,3.6,1.5])\n",
        "arr6 = arr5.astype(np.int32)\n",
        "print(arr6)"
      ]
    },
    {
      "cell_type": "code",
      "execution_count": null,
      "metadata": {
        "id": "0yYjriKdrtKo"
      },
      "outputs": [],
      "source": [
        "arr7 = np.array(['2','3','4','5'])\n",
        "arr7.dtype"
      ]
    },
    {
      "cell_type": "code",
      "execution_count": null,
      "metadata": {
        "id": "X8V4xVxJsAHY"
      },
      "outputs": [],
      "source": [
        "type(arr7)"
      ]
    },
    {
      "cell_type": "code",
      "execution_count": null,
      "metadata": {
        "id": "Q1dzgpG3sEGJ"
      },
      "outputs": [],
      "source": [
        "arr8 = arr7.astype(np.int32)\n",
        "arr8"
      ]
    },
    {
      "cell_type": "code",
      "execution_count": null,
      "metadata": {
        "id": "QT1S2qxTt0Jv"
      },
      "outputs": [],
      "source": [
        "# np.random.randint # generates values between lower and upper bound\n",
        "# np.random.rand() # generated values between 0 and 1\n",
        "# np.random.randn() # generates values from normal distribution\n",
        "arr_randint = np.random.randint(4,40,10)\n",
        "arr_randint"
      ]
    },
    {
      "cell_type": "code",
      "execution_count": null,
      "metadata": {
        "id": "Sn8T7XymuqqS"
      },
      "outputs": [],
      "source": [
        "# values are in the range of 0 to 1 (1 is not included)\n",
        "arr_random = np.random.rand(10)\n",
        "arr_random"
      ]
    },
    {
      "cell_type": "code",
      "execution_count": null,
      "metadata": {
        "id": "seWkxViVuzPf"
      },
      "outputs": [],
      "source": [
        "# values are coming from normal distributions\n",
        "arr_randn = np.random.randn(10)\n",
        "arr_randn"
      ]
    },
    {
      "cell_type": "code",
      "execution_count": null,
      "metadata": {
        "id": "im80uoHKuDCB"
      },
      "outputs": [],
      "source": [
        "np.random.rand()"
      ]
    },
    {
      "cell_type": "code",
      "execution_count": null,
      "metadata": {
        "id": "80hPmdh5tR4v"
      },
      "outputs": [],
      "source": [
        "# broadcasting in numpy\n",
        "arr9 = np.random.randint(1,4,size=(3,4))\n",
        "print(arr9)\n",
        "# broadcast multiplication operator\n",
        "arr10 = arr9*2\n",
        "print(arr10)"
      ]
    },
    {
      "cell_type": "code",
      "execution_count": null,
      "metadata": {
        "id": "PCqs_479v_kq"
      },
      "outputs": [],
      "source": [
        "arr11 = arr9+5\n",
        "print(arr11)"
      ]
    },
    {
      "cell_type": "code",
      "execution_count": null,
      "metadata": {
        "id": "90AW0ZQlwnIF"
      },
      "outputs": [],
      "source": [
        "# element wise multiplication\n",
        "arr12 = np.random.randint(1,4,(2,3))\n",
        "print(arr12)"
      ]
    },
    {
      "cell_type": "code",
      "execution_count": null,
      "metadata": {
        "id": "_4f9FQo7xR2b"
      },
      "outputs": [],
      "source": [
        "# multiply two arrays element wise\n",
        "arr13 = arr12*arr12\n",
        "print(arr13)"
      ]
    },
    {
      "cell_type": "code",
      "execution_count": null,
      "metadata": {
        "id": "vop8_JNoyEjx"
      },
      "outputs": [],
      "source": [
        "# indexing and slicing\n",
        "arr14 = np.random.randint(10,20,15)\n",
        "arr14"
      ]
    },
    {
      "cell_type": "markdown",
      "metadata": {
        "id": "mg0iKba72GNk"
      },
      "source": []
    },
    {
      "cell_type": "code",
      "execution_count": null,
      "metadata": {
        "id": "b-Dv0avh0i-X"
      },
      "outputs": [],
      "source": [
        "# to see a specific element\n",
        "arr14[5]"
      ]
    },
    {
      "cell_type": "code",
      "execution_count": null,
      "metadata": {
        "id": "kH5-CMJs000R"
      },
      "outputs": [],
      "source": [
        "# slice the array to get 5,6 and 7 element\n",
        "arr14[5:8]"
      ]
    },
    {
      "cell_type": "code",
      "execution_count": null,
      "metadata": {
        "id": "GYd-ntxt2HNx"
      },
      "outputs": [],
      "source": [
        "arr15 = arr14[0:3]+arr14[-3:]"
      ]
    },
    {
      "cell_type": "code",
      "execution_count": null,
      "metadata": {
        "id": "5ArNE_lL2Qor"
      },
      "outputs": [],
      "source": [
        "arr15"
      ]
    },
    {
      "cell_type": "code",
      "execution_count": null,
      "metadata": {
        "id": "pMpv81mp2Xjc"
      },
      "outputs": [],
      "source": [
        "# slicing on two dimesional array\n",
        "arr2d = np.random.randint(10,20,(4,4))\n",
        "arr2d"
      ]
    },
    {
      "cell_type": "code",
      "execution_count": null,
      "metadata": {
        "id": "Gz1d9WOV2xJh"
      },
      "outputs": [],
      "source": [
        "# to acess a particular element row wise\n",
        "arr2d[0]"
      ]
    },
    {
      "cell_type": "code",
      "execution_count": null,
      "metadata": {
        "id": "FNExh3z528l3"
      },
      "outputs": [],
      "source": [
        "arr2d[1]"
      ]
    },
    {
      "cell_type": "code",
      "execution_count": null,
      "metadata": {
        "id": "THb96vLD2-ox"
      },
      "outputs": [],
      "source": [
        "arr2d[0:2,1:3]"
      ]
    },
    {
      "cell_type": "code",
      "execution_count": null,
      "metadata": {
        "id": "HnVfINQG6WF-"
      },
      "outputs": [],
      "source": [
        "#@title Time\n",
        "!pip install ipython-autotime\n",
        "\n",
        "%load_ext autotime"
      ]
    },
    {
      "cell_type": "code",
      "execution_count": null,
      "metadata": {
        "id": "pqhaYP0W6K6G"
      },
      "outputs": [],
      "source": [
        "# vectorization\n",
        "arr = np.arange(15).reshape(3,5)\n",
        "arr.shape"
      ]
    },
    {
      "cell_type": "code",
      "execution_count": null,
      "metadata": {
        "id": "Kwd1jBsk6uIn"
      },
      "outputs": [],
      "source": [
        "# Transpose of an array\n",
        "arr.T.shape"
      ]
    },
    {
      "cell_type": "code",
      "execution_count": null,
      "metadata": {
        "id": "i_m0TZuy65-v"
      },
      "outputs": [],
      "source": [
        "# matrix multiplication\n",
        "arr1 = np.array([[1,1,2],[2,1,3]])\n",
        "arr2 = np.array([[1,1,0],[1,0,1],[1,1,0]])\n",
        "arr3 = np.dot(arr1,arr2)\n",
        "arr3"
      ]
    },
    {
      "cell_type": "code",
      "execution_count": null,
      "metadata": {
        "id": "pDwQImRTleab"
      },
      "outputs": [],
      "source": [
        "# reshape : it is used extensively in creating arrays of different shapes\n",
        "arr_3d = np.arange(16).reshape(2,2,4)\n",
        "arr_3d"
      ]
    },
    {
      "cell_type": "code",
      "execution_count": null,
      "metadata": {
        "id": "8ld15Juhp2MM"
      },
      "outputs": [],
      "source": [
        "# create a random array of size 4*4\n",
        "arr_rand = np.random.randn(4,4)\n",
        "arr_rand"
      ]
    },
    {
      "cell_type": "markdown",
      "metadata": {
        "id": "IU3BzVlHqV0l"
      },
      "source": [
        "# Statistical Methods"
      ]
    },
    {
      "cell_type": "code",
      "execution_count": null,
      "metadata": {
        "id": "Pu9L3priqac3"
      },
      "outputs": [],
      "source": [
        "arr_num = np.random.randint(1,5,(4,4))\n",
        "arr_num"
      ]
    },
    {
      "cell_type": "code",
      "execution_count": null,
      "metadata": {
        "id": "qET0GL9uqkbS"
      },
      "outputs": [],
      "source": [
        "# mean\n",
        "mean1 = np.mean(arr_num)\n",
        "mean1\n"
      ]
    },
    {
      "cell_type": "code",
      "execution_count": null,
      "metadata": {
        "id": "8yQOhxbbrDEq"
      },
      "outputs": [],
      "source": [
        "# axis=0, axis=1\n",
        "arr_num.mean(axis=0)"
      ]
    },
    {
      "cell_type": "code",
      "execution_count": null,
      "metadata": {
        "id": "Br1Gnd3nramD"
      },
      "outputs": [],
      "source": [
        "# axis=0, axis=1\n",
        "arr_num.mean(axis=1)"
      ]
    },
    {
      "cell_type": "code",
      "execution_count": null,
      "metadata": {
        "id": "fpP0ZEwntVvm"
      },
      "outputs": [],
      "source": [
        "# sorting\n",
        "arr_sort = np.random.randn(10)\n",
        "arr_sort.sort()\n",
        "arr_sort"
      ]
    },
    {
      "cell_type": "markdown",
      "metadata": {
        "id": "9zR1RM-0xMpF"
      },
      "source": []
    },
    {
      "cell_type": "code",
      "execution_count": null,
      "metadata": {
        "id": "i0Ywnwvjt5y9"
      },
      "outputs": [],
      "source": [
        "#@title Series\n",
        "obj = pd.Series([4,-7,-5,3,2])\n",
        "obj"
      ]
    },
    {
      "cell_type": "code",
      "execution_count": null,
      "metadata": {
        "id": "Zm1O1DgrxaQ3"
      },
      "outputs": [],
      "source": [
        "# we can also acess the elements using series\n",
        "obj[0:4]"
      ]
    },
    {
      "cell_type": "code",
      "execution_count": null,
      "metadata": {
        "id": "9sB3CG4ixszK"
      },
      "outputs": [],
      "source": [
        "# we can also acess the indexes seprately\n",
        "obj.index"
      ]
    },
    {
      "cell_type": "code",
      "execution_count": null,
      "metadata": {
        "id": "6Gblw_k8yhgq"
      },
      "outputs": [],
      "source": [
        "obj.values"
      ]
    },
    {
      "cell_type": "code",
      "execution_count": null,
      "metadata": {
        "id": "5ixQ4Mg9ykZB"
      },
      "outputs": [],
      "source": [
        "# we can also decide the indexes from our side also\n",
        "obj2 = pd.Series([4,7,-5,3,2,0,5,1],index=['d','e','a','z','f','g','h','i'])\n",
        "obj2"
      ]
    },
    {
      "cell_type": "code",
      "execution_count": null,
      "metadata": {
        "id": "yPhN7_K9zAwE"
      },
      "outputs": [],
      "source": [
        "# custom selection on the basis of indexes\n",
        "obj2[['a','z']]"
      ]
    },
    {
      "cell_type": "code",
      "execution_count": null,
      "metadata": {
        "id": "H2jb8GM9zhmq"
      },
      "outputs": [],
      "source": [
        "# we can also perform filtering process of NumPy\n",
        "obj2[obj2>2]"
      ]
    },
    {
      "cell_type": "code",
      "execution_count": null,
      "metadata": {
        "id": "yexDzg4o0NHh"
      },
      "outputs": [],
      "source": [
        "obj3 = obj2*2\n",
        "obj3"
      ]
    },
    {
      "cell_type": "code",
      "execution_count": null,
      "metadata": {
        "id": "Fe_tSCCb0TuE"
      },
      "outputs": [],
      "source": [
        "# see the behaviour of series on dictionaries\n",
        "sdata = {'Ohio':70000, 'Texas':84000, 'Chicago':92000, 'Oregon':68000}\n",
        "obj4 = pd.Series(sdata)\n",
        "obj4"
      ]
    },
    {
      "cell_type": "code",
      "execution_count": null,
      "metadata": {
        "id": "KDF_ApWW1BvL"
      },
      "outputs": [],
      "source": [
        "# after converting dictionary into series the key becomes index\n",
        "obj4.index"
      ]
    },
    {
      "cell_type": "code",
      "execution_count": null,
      "metadata": {
        "id": "EbP-ZJOf1RZI"
      },
      "outputs": [],
      "source": [
        "obj4.values"
      ]
    },
    {
      "cell_type": "code",
      "execution_count": null,
      "metadata": {
        "id": "FV830aqb1cxd"
      },
      "outputs": [],
      "source": [
        "#@title DataFrame\n",
        "data = {'state':['Ohio','Texas','Chicago','Oregon'],\n",
        "        'income':[70000,84000,92000,68000],\n",
        "        'pop':[1.5,1.7,1.6,2.4]}"
      ]
    },
    {
      "cell_type": "code",
      "execution_count": null,
      "metadata": {
        "id": "oXE4Ylii3tAS"
      },
      "outputs": [],
      "source": [
        "frame = pd.DataFrame(data)\n",
        "frame"
      ]
    },
    {
      "cell_type": "code",
      "execution_count": null,
      "metadata": {
        "id": "WZjZOrk94C1a"
      },
      "outputs": [],
      "source": [
        "# to get the list columns\n",
        "frame.columns"
      ]
    },
    {
      "cell_type": "code",
      "execution_count": null,
      "metadata": {
        "id": "QGEPSTFq4Utm"
      },
      "outputs": [],
      "source": [
        "# recreate the data frame with custom indexing\n",
        "frame2 = pd.DataFrame(np.random.randint(1,10,(4,3)),columns=['States','Avg Income','Population'], index=['one','two','three','four'])\n",
        "frame2"
      ]
    },
    {
      "cell_type": "code",
      "execution_count": null,
      "metadata": {
        "id": "dnsM5HGg5RjE"
      },
      "outputs": [],
      "source": [
        "# loc, iloc\n",
        "frame2.iloc[:,0:2]"
      ]
    },
    {
      "cell_type": "code",
      "execution_count": null,
      "metadata": {
        "id": "1Tv8V3PN6oyX"
      },
      "outputs": [],
      "source": [
        "frame2.loc[:,['States','Avg Income']]"
      ]
    },
    {
      "cell_type": "code",
      "execution_count": null,
      "metadata": {
        "id": "_DNgrb6J7mJD"
      },
      "outputs": [],
      "source": [
        "# some advance concepts\n",
        "df1 = pd.DataFrame(np.arange(12).reshape((3,4)), columns=list('abcd'))\n",
        "df2 = pd.DataFrame(np.arange(20).reshape((4,5)),columns=list('abcde'))"
      ]
    },
    {
      "cell_type": "code",
      "execution_count": null,
      "metadata": {
        "id": "W3KzesaC-Rf0"
      },
      "outputs": [],
      "source": [
        "df1"
      ]
    },
    {
      "cell_type": "code",
      "execution_count": null,
      "metadata": {
        "id": "r1vfFMww-TFn"
      },
      "outputs": [],
      "source": [
        "df2"
      ]
    },
    {
      "cell_type": "code",
      "execution_count": null,
      "metadata": {
        "id": "dQPjGKFl-cd_"
      },
      "outputs": [],
      "source": [
        "df3 = df1+df2\n",
        "df3"
      ]
    },
    {
      "cell_type": "code",
      "execution_count": null,
      "metadata": {
        "id": "BJt-BE4Y-syA"
      },
      "outputs": [],
      "source": [
        "df3.fillna(0)"
      ]
    },
    {
      "cell_type": "markdown",
      "metadata": {
        "id": "5QZWN5MnbpWV"
      },
      "source": [
        "Functions in Pandas"
      ]
    },
    {
      "cell_type": "code",
      "execution_count": null,
      "metadata": {
        "id": "X5WjkCu4cJtD"
      },
      "outputs": [],
      "source": [
        "import numpy as np\n",
        "import pandas as pd"
      ]
    },
    {
      "cell_type": "code",
      "execution_count": null,
      "metadata": {
        "id": "P43jGclk-wJ8"
      },
      "outputs": [],
      "source": [
        "data_1 = pd.DataFrame(np.arange(16).reshape(4,4), index=['A','B','C','D'], columns=['X','Y','Z','W'])\n",
        "data_1"
      ]
    },
    {
      "cell_type": "code",
      "execution_count": null,
      "metadata": {
        "id": "W2VWfihgc8H3"
      },
      "outputs": [],
      "source": [
        "# selection\n",
        "data_1[['X','Y']]"
      ]
    },
    {
      "cell_type": "code",
      "execution_count": null,
      "metadata": {
        "id": "h3gp_9spdiDb"
      },
      "outputs": [],
      "source": [
        "data.loc[:,['X','Y']]"
      ]
    },
    {
      "cell_type": "code",
      "execution_count": null,
      "metadata": {
        "id": "sTOLQSZ3dthe"
      },
      "outputs": [],
      "source": [
        "# filter on some values of Y\n",
        "# if data is multi-dimensional then filtering is on the basis of columns\n",
        "data_1[data_1['X']>5]"
      ]
    },
    {
      "cell_type": "code",
      "execution_count": null,
      "metadata": {
        "id": "lkn-i7tCeHhP"
      },
      "outputs": [],
      "source": [
        "# arithmetic to fill the na values\n",
        "df1 = pd.DataFrame(np.arange(12).reshape(3,4), columns = list('abcd'))\n",
        "df1"
      ]
    },
    {
      "cell_type": "code",
      "execution_count": null,
      "metadata": {
        "id": "f6i0Zjoze1XF"
      },
      "outputs": [],
      "source": [
        "df2 = pd.DataFrame(np.arange(20).reshape((4,5)),columns=list('abcde'))\n",
        "df2"
      ]
    },
    {
      "cell_type": "code",
      "execution_count": null,
      "metadata": {
        "id": "mOrMxLr9fGZm"
      },
      "outputs": [],
      "source": [
        "df2 = df1+df2"
      ]
    },
    {
      "cell_type": "code",
      "execution_count": null,
      "metadata": {
        "id": "O2pdXvfJfpyF"
      },
      "outputs": [],
      "source": [
        "df2"
      ]
    },
    {
      "cell_type": "code",
      "execution_count": null,
      "metadata": {
        "id": "ZgK-buFmfr--"
      },
      "outputs": [],
      "source": [
        "df2.fillna(0.0,inplace=True)"
      ]
    },
    {
      "cell_type": "code",
      "execution_count": null,
      "metadata": {
        "id": "_ZV16dBJf0CY"
      },
      "outputs": [],
      "source": [
        "df2"
      ]
    },
    {
      "cell_type": "code",
      "execution_count": null,
      "metadata": {
        "id": "yEhP3xTLgYkG"
      },
      "outputs": [],
      "source": [
        "# Descriptive statistics on DataFrame\n",
        "df = pd.DataFrame([[1.4,np.nan,12],[1.7,12,np.nan],[np.nan,16,np.nan],[19,10,15]], columns=list('XYZ'),index=['a','b','c','d'])"
      ]
    },
    {
      "cell_type": "code",
      "execution_count": null,
      "metadata": {
        "id": "4mUfG05Vh3Sq"
      },
      "outputs": [],
      "source": [
        "df"
      ]
    },
    {
      "cell_type": "code",
      "execution_count": null,
      "metadata": {
        "id": "Fke5Er75h5sE"
      },
      "outputs": [],
      "source": [
        "df3 = df.fillna(method='bfill')"
      ]
    },
    {
      "cell_type": "code",
      "execution_count": null,
      "metadata": {
        "id": "ygZeUxLtihAw"
      },
      "outputs": [],
      "source": [
        "df3"
      ]
    },
    {
      "cell_type": "code",
      "execution_count": null,
      "metadata": {
        "id": "kRnW228JjCjU"
      },
      "outputs": [],
      "source": [
        "df4 = df.fillna(method='ffill')"
      ]
    },
    {
      "cell_type": "code",
      "execution_count": null,
      "metadata": {
        "id": "uwtYuFo7kBzG"
      },
      "outputs": [],
      "source": [
        "df4"
      ]
    },
    {
      "cell_type": "code",
      "execution_count": null,
      "metadata": {
        "id": "UFa6vkm1lBrT"
      },
      "outputs": [],
      "source": [
        "df5 = df4.fillna(method='bfill')"
      ]
    },
    {
      "cell_type": "code",
      "execution_count": null,
      "metadata": {
        "id": "qkuV4A5xlIY8"
      },
      "outputs": [],
      "source": [
        "df5"
      ]
    },
    {
      "cell_type": "code",
      "execution_count": null,
      "metadata": {
        "id": "ATR1_41ylRQw"
      },
      "outputs": [],
      "source": [
        "# clean data frame: a clean data frame is that which does not contain any null value\n",
        "# we will run describe function\n",
        "df5.describe()"
      ]
    },
    {
      "cell_type": "code",
      "execution_count": null,
      "metadata": {
        "id": "S7xIGhF4qd14"
      },
      "outputs": [],
      "source": [
        "# importing the file from google drive\n",
        "from google.colab import drive\n",
        "drive.mount('/content/drive')"
      ]
    },
    {
      "cell_type": "code",
      "execution_count": null,
      "metadata": {
        "id": "0hycZkZdrHqR"
      },
      "outputs": [],
      "source": [
        "# create the path for the drive\n",
        "path_tip = '/content/drive/MyDrive/MachineLearning/tips.csv'"
      ]
    },
    {
      "cell_type": "code",
      "execution_count": null,
      "metadata": {
        "id": "pKaS_UeFrPoK"
      },
      "outputs": [],
      "source": [
        "df_tips = pd.read_csv(path_tip)"
      ]
    },
    {
      "cell_type": "code",
      "execution_count": null,
      "metadata": {
        "id": "f94yX9HRrh6D"
      },
      "outputs": [],
      "source": [
        "df_tips.head()"
      ]
    },
    {
      "cell_type": "code",
      "execution_count": null,
      "metadata": {
        "id": "pnuAnpgksb92"
      },
      "outputs": [],
      "source": [
        "# shape of the data\n",
        "df_tips.shape"
      ]
    },
    {
      "cell_type": "code",
      "execution_count": null,
      "metadata": {
        "id": "n0m0hYGWs024"
      },
      "outputs": [],
      "source": [
        "# info() the info function will return the properties of every column\n",
        "df_tips.info()"
      ]
    },
    {
      "cell_type": "code",
      "execution_count": null,
      "metadata": {
        "id": "pWS5tF84stms"
      },
      "outputs": [],
      "source": [
        "# describe function\n",
        "# describe function will generate the statistical information for int and float values\n",
        "df_tips.describe()"
      ]
    },
    {
      "cell_type": "code",
      "execution_count": null,
      "metadata": {
        "id": "vv9WWAL2uAv4"
      },
      "outputs": [],
      "source": [
        "# Data Visualization\n",
        "# Scatter plot : The scatter plot is used to observe the relationship between variables and\n",
        "# it uses dot to represents the relation ship between them\n",
        "# the scatter() method in matplotlib is used to build the graphs\n",
        "# scatterplot() is a method in seaborn library\n",
        "import pandas as pd\n",
        "import matplotlib.pyplot as plt\n",
        "plt.rcParams[\"figure.figsize\"] = (8,4)"
      ]
    },
    {
      "cell_type": "code",
      "execution_count": null,
      "metadata": {
        "id": "4zrohoia7s4m"
      },
      "outputs": [],
      "source": [
        "plt.scatter(df_tips['total_bill'], df_tips['tip'])\n",
        "plt.title(\"Scatter plt to determine the correlation between Bill amount and tip\")\n",
        "# setting the x and y axis\n",
        "plt.xlabel('Total Bill')\n",
        "plt.ylabel('Tip')"
      ]
    },
    {
      "cell_type": "code",
      "execution_count": null,
      "metadata": {
        "id": "ZsH3enjCxf81"
      },
      "outputs": [],
      "source": [
        "plt.scatter(df_tips['day'],df_tips['tip'],c=df_tips['size'],s=df_tips['total_bill'])\n",
        "plt.title('Colorbar for relation between day and tips')\n",
        "plt.xlabel(\"Day\")\n",
        "plt.ylabel(\"Tip\")\n",
        "plt.colorbar()\n",
        "plt.show()"
      ]
    },
    {
      "cell_type": "code",
      "execution_count": null,
      "metadata": {
        "id": "7akIDmt7zBOS"
      },
      "outputs": [],
      "source": [
        "# A bar plot or bar chart is a graph that represents the data in\n",
        "# rectangular bars with length and height are in propotion to the values\n",
        "# which they represents\n",
        "# bar() method whic we use to represents the data\n",
        "plt.bar(df_tips['sex'], df_tips['tip'])\n",
        "plt.title(\"Barchart for describing the tips given by gender wise\")\n",
        "plt.xlabel(\"Gender\")\n",
        "plt.ylabel(\"Tips\")\n",
        "plt.show()"
      ]
    },
    {
      "cell_type": "code",
      "execution_count": null,
      "metadata": {
        "id": "BgdxBBXH1YKt"
      },
      "outputs": [],
      "source": [
        "#Line chart\n",
        "plt.plot(df_tips['tip'])\n",
        "plt.plot(df_tips['size'])\n",
        "# adding title to the plot\n",
        "plt.title(\"Line Plot for tip and size\")\n",
        "plt.show()"
      ]
    },
    {
      "cell_type": "code",
      "execution_count": null,
      "metadata": {
        "id": "Dt0DAfKD2l4S"
      },
      "outputs": [],
      "source": [
        "# histogram\n",
        "# histogram are used to represent singular data and it represents the distribution of\n",
        "# the data\n",
        "# Histogram of total bills\n",
        "plt.hist(df_tips['total_bill'])\n",
        "plt.title(\"Histogram\")\n",
        "plt.show()"
      ]
    },
    {
      "cell_type": "code",
      "execution_count": null,
      "metadata": {
        "id": "tBwuFnkm3nlc"
      },
      "outputs": [],
      "source": [
        "# line plot\n",
        "wheat_crop = np.random.rand(20)\n",
        "wheat_crop"
      ]
    },
    {
      "cell_type": "code",
      "execution_count": null,
      "metadata": {
        "id": "fA96RSJj39qH"
      },
      "outputs": [],
      "source": [
        "years = [2004,2005,2006,2007,2008,2009,2010,2011,2012,2013,2014,2015,2016,2017,2018,2019,2020,2021,2022,2023]"
      ]
    },
    {
      "cell_type": "code",
      "execution_count": null,
      "metadata": {
        "id": "G4lbtpYU4bIO"
      },
      "outputs": [],
      "source": [
        "plt.plot(years,wheat_crop)"
      ]
    },
    {
      "cell_type": "code",
      "execution_count": null,
      "metadata": {
        "id": "19y0VoBg8KIM"
      },
      "outputs": [],
      "source": [
        "rice = np.random.rand(20)\n",
        "rice"
      ]
    },
    {
      "cell_type": "code",
      "execution_count": null,
      "metadata": {
        "id": "1n_Qsy0A8Pat"
      },
      "outputs": [],
      "source": [
        "plt.plot(years,wheat_crop)\n",
        "plt.plot(years,rice)\n",
        "plt.title(\"Crop yield of rice and wheat\")\n",
        "plt.legend(['Wheat', 'Rice'])\n",
        "plt.show()"
      ]
    },
    {
      "cell_type": "markdown",
      "metadata": {
        "id": "bIWtFFCLmEHr"
      },
      "source": [
        "# car data and will do Data Visualization and analysis on it"
      ]
    },
    {
      "cell_type": "code",
      "execution_count": null,
      "metadata": {
        "id": "-aO5nBqumC-q"
      },
      "outputs": [],
      "source": [
        "from google.colab import drive\n",
        "drive.mount('/content/drive')"
      ]
    },
    {
      "cell_type": "code",
      "execution_count": null,
      "metadata": {
        "id": "v9sfi0wJm1x7"
      },
      "outputs": [],
      "source": [
        "car_path = '/content/drive/MyDrive/MachineLearning/mtcars.csv'\n"
      ]
    },
    {
      "cell_type": "code",
      "execution_count": null,
      "metadata": {
        "id": "3KOCm18RnK1E"
      },
      "outputs": [],
      "source": [
        "# Libraries\n",
        "import pandas as pd\n",
        "import numpy as np\n",
        "import seaborn as sns\n",
        "import matplotlib.pyplot as plt\n"
      ]
    },
    {
      "cell_type": "code",
      "execution_count": null,
      "metadata": {
        "id": "fOgPFQP0rgEP"
      },
      "outputs": [],
      "source": [
        "plt.rcParams[\"figure.figsize\"] = (6,4)"
      ]
    },
    {
      "cell_type": "code",
      "execution_count": null,
      "metadata": {
        "id": "PnYLzUienclQ"
      },
      "outputs": [],
      "source": [
        "# import the data\n",
        "df_car = pd.read_csv(car_path)\n",
        "df_car.shape"
      ]
    },
    {
      "cell_type": "code",
      "execution_count": null,
      "metadata": {
        "id": "ps8IBtPPpA79"
      },
      "outputs": [],
      "source": [
        "# we will use info function to check the data types of every\n",
        "df_car.info()"
      ]
    },
    {
      "cell_type": "code",
      "execution_count": null,
      "metadata": {
        "id": "cI0Yn8ikqb9Z"
      },
      "outputs": [],
      "source": [
        "# Barplot\n",
        "#A barplot gives an estimation of the mean value of different categorical values\n",
        "#along with height of the rectangle\n",
        "res = sns.barplot(x=df_car['cyl'],y=df_car['carb'])\n",
        "plt.show()"
      ]
    },
    {
      "cell_type": "code",
      "execution_count": null,
      "metadata": {
        "id": "5y8g2z-xsBH8"
      },
      "outputs": [],
      "source": [
        "res = sns.barplot(x=df_car['cyl'],y=df_car['carb'],color='yellow')\n",
        "plt.show()"
      ]
    },
    {
      "cell_type": "code",
      "execution_count": null,
      "metadata": {
        "id": "nC2WDOlYsRMf"
      },
      "outputs": [],
      "source": [
        "# CountPlot the count plot is used to return the total values of\n",
        "# each category using  bars\n",
        "sns.countplot(x = 'cyl', data=df_car, palette='Set1')"
      ]
    },
    {
      "cell_type": "code",
      "execution_count": null,
      "metadata": {
        "id": "YRyOX9Res7UJ"
      },
      "outputs": [],
      "source": [
        "df_car['cyl'].value_counts()"
      ]
    },
    {
      "cell_type": "code",
      "execution_count": null,
      "metadata": {
        "id": "0d_wLMq1tIlj"
      },
      "outputs": [],
      "source": [
        "# show total number of cars for different carburators\n",
        "# 'carb'\n",
        "sns.countplot(x='carb', data=df_car, palette=\"Set1\")\n",
        "plt.show()"
      ]
    },
    {
      "cell_type": "code",
      "execution_count": null,
      "metadata": {
        "id": "xqPT_d0buwyp"
      },
      "outputs": [],
      "source": [
        "# number of cars for different gear systems\n",
        "sns.countplot(x='gear', data=df_car, palette='Set1')\n",
        "plt.show()"
      ]
    },
    {
      "cell_type": "code",
      "execution_count": null,
      "metadata": {
        "id": "MAUX8BgPvWh-"
      },
      "outputs": [],
      "source": [
        "# use value_counts()\n",
        "df_car['gear'].value_counts()"
      ]
    },
    {
      "cell_type": "code",
      "execution_count": null,
      "metadata": {
        "id": "SAsnpH-YvhyV"
      },
      "outputs": [],
      "source": [
        "# you have to count cars for each category of gears but they have to be\n",
        "# grouped on basis of cylinders\n",
        "sns.countplot(x='gear', hue='cyl',data=df_car, palette=\"Set1\")\n",
        "plt.show()"
      ]
    },
    {
      "cell_type": "code",
      "execution_count": null,
      "metadata": {
        "id": "h8aJSCQMw6pD"
      },
      "outputs": [],
      "source": [
        "# Distribution Plots\n",
        "# In Seaborn library we have distplot() function that creates\n",
        "# the distribution of any continuos data\n",
        "df_car.info()"
      ]
    },
    {
      "cell_type": "code",
      "execution_count": null,
      "metadata": {
        "id": "Gd2L1jePyGZy"
      },
      "outputs": [],
      "source": [
        "# we will going to build the normal distribution plots\n",
        "# for miles per gallon\n",
        "sns.distplot(df_car['mpg'], bins=10, color='r')\n",
        "plt.show()"
      ]
    },
    {
      "cell_type": "code",
      "execution_count": null,
      "metadata": {
        "id": "ppQBnW5qzkkR"
      },
      "outputs": [],
      "source": [
        "df_car.corr()"
      ]
    },
    {
      "cell_type": "code",
      "execution_count": null,
      "metadata": {
        "id": "uOlaP2S5yn4K"
      },
      "outputs": [],
      "source": [
        "# Heat Map\n",
        "# heat maps in seaborn library let us visualize matrix like data structures, where\n",
        "# the values in the matrix are represented as colors\n",
        "sns.heatmap(df_car.iloc[:,1:].corr(), cbar=True, linewidths=0.5)\n"
      ]
    },
    {
      "cell_type": "code",
      "execution_count": null,
      "metadata": {
        "id": "UTzEMlDZ0LlQ"
      },
      "outputs": [],
      "source": [
        "# scatter plot\n",
        "# the scatter plot is used to create plots which can draw relatioship between\n",
        "# two continuos variables\n",
        "path_iris = '/content/drive/MyDrive/file_scrapping/file_scrapping/iris-cleann.csv'\n",
        "df_iris = pd.read_csv(path_iris)\n",
        "df_iris.head()\n"
      ]
    },
    {
      "cell_type": "code",
      "execution_count": null,
      "metadata": {
        "id": "c4poHovS1MD2"
      },
      "outputs": [],
      "source": [
        "df_iris.shape"
      ]
    },
    {
      "cell_type": "code",
      "execution_count": null,
      "metadata": {
        "id": "nQTGZ1IX2Z2p"
      },
      "outputs": [],
      "source": [
        "# scatter plot between sepal length and petal length\n",
        "sns.scatterplot(x='sepal_length', y='petal_length', data=df_iris)"
      ]
    },
    {
      "cell_type": "code",
      "execution_count": null,
      "metadata": {
        "id": "5w14ib7P3FeF"
      },
      "outputs": [],
      "source": [
        "# draw the scatter plot for sepal width and petal width\n",
        "sns.scatterplot(x='sepal_width', y='petal_width', data=df_iris, hue='iris_type')"
      ]
    },
    {
      "cell_type": "code",
      "execution_count": null,
      "metadata": {
        "id": "cDUzgN-D6jjh"
      },
      "outputs": [],
      "source": [
        "# Box plot\n",
        "# A box plot also known as box and whiskers plot depicts the distribution of the\n",
        "# quantitaive data. this is the best graph for outliers\n",
        "sns.boxplot(x='iris_type', y='sepal_width', data=df_iris,palette=\"Set1\")"
      ]
    },
    {
      "cell_type": "code",
      "execution_count": null,
      "metadata": {
        "id": "Q-h0RH5p7hmG"
      },
      "outputs": [],
      "source": [
        "sns.boxplot(x='iris_type', y='sepal_length', data=df_iris,palette=\"Set1\")"
      ]
    },
    {
      "cell_type": "code",
      "execution_count": null,
      "metadata": {
        "id": "eM9_pRSP7t-H"
      },
      "outputs": [],
      "source": [
        "# quantitaive data. this is the best graph for outliers\n",
        "sns.boxplot(x='iris_type', y='petal_width', data=df_iris,palette=\"Set1\")"
      ]
    },
    {
      "cell_type": "code",
      "execution_count": null,
      "metadata": {
        "id": "ODHuztuI79jl"
      },
      "outputs": [],
      "source": [
        "# quantitaive data. this is the best graph for outliers\n",
        "sns.boxplot(x='iris_type', y='petal_length', data=df_iris,palette=\"Set1\")"
      ]
    },
    {
      "cell_type": "code",
      "execution_count": null,
      "metadata": {
        "colab": {
          "background_save": true
        },
        "id": "fAl-qLRl9h67"
      },
      "outputs": [],
      "source": [
        "# Handling the missing values which are garbage values\n",
        "data_sal = {'Salary': [10000,20000,15000,'##',16000,25000,22000,11200,'?'],\n",
        "            \"Cibil\":[58,69,74,96,48,52,16,'@@','#'],\n",
        "            \"City\":[\"Mum\",\"Rai\",\"Rai\",\"Ujn\",\"Ujn\",\"Ujn\",\"Mum\",\"Mum\",\"Rai\"],\n",
        "            \"Marital\":['M','S','M','M','S','M','S','M','M']}\n"
      ]
    },
    {
      "cell_type": "code",
      "execution_count": null,
      "metadata": {
        "id": "t3j2vV1I_Ehx"
      },
      "outputs": [],
      "source": [
        "df_sal = pd.DataFrame(data_sal)"
      ]
    },
    {
      "cell_type": "code",
      "execution_count": null,
      "metadata": {
        "id": "nhIXv7Kw_KCO"
      },
      "outputs": [],
      "source": [
        "df_sal"
      ]
    },
    {
      "cell_type": "code",
      "execution_count": null,
      "metadata": {
        "id": "rdI_3Rha_WMS"
      },
      "outputs": [],
      "source": [
        "# we can't directly replace '##' values with other valid values\n",
        "# we first convert these values to NaN\n",
        "df_sal['Salary'] = df_sal['Salary'].replace('##', np.NaN)"
      ]
    },
    {
      "cell_type": "code",
      "execution_count": null,
      "metadata": {
        "id": "Ms7iuNdm_4a3"
      },
      "outputs": [],
      "source": [
        "df_sal"
      ]
    },
    {
      "cell_type": "code",
      "execution_count": null,
      "metadata": {
        "id": "K1T15V6P_-c2"
      },
      "outputs": [],
      "source": [
        "df_sal['Salary'] = df_sal['Salary'].replace('?',np.NaN)"
      ]
    },
    {
      "cell_type": "code",
      "execution_count": null,
      "metadata": {
        "id": "kJXKRoQ6AMoY"
      },
      "outputs": [],
      "source": [
        "df_sal"
      ]
    },
    {
      "cell_type": "code",
      "execution_count": null,
      "metadata": {
        "id": "FTW0SAN8ARNJ"
      },
      "outputs": [],
      "source": [
        "df_sal['Salary'] = df_sal['Salary'].fillna(df_sal['Salary'].mean())"
      ]
    },
    {
      "cell_type": "code",
      "execution_count": null,
      "metadata": {
        "id": "w4zC-LuAAktZ"
      },
      "outputs": [],
      "source": [
        "df_sal"
      ]
    },
    {
      "cell_type": "code",
      "execution_count": null,
      "metadata": {
        "id": "AeiI6MzgAvyr"
      },
      "outputs": [],
      "source": [
        "df_sal['Cibil'] = df_sal['Cibil'].replace('#',np.NaN)\n",
        "df_sal\n"
      ]
    },
    {
      "cell_type": "code",
      "execution_count": null,
      "metadata": {
        "id": "6B-grrWbCVtS"
      },
      "outputs": [],
      "source": [
        "df_sal['Cibil'] = df_sal['Cibil'].replace('@@',np.NaN)\n",
        "df_sal"
      ]
    },
    {
      "cell_type": "markdown",
      "source": [
        "#Linear Regression and Regularization\n"
      ],
      "metadata": {
        "id": "ughrCcBD9epI"
      }
    },
    {
      "cell_type": "code",
      "execution_count": null,
      "metadata": {
        "id": "Tf7UriqvCa-X"
      },
      "outputs": [],
      "source": [
        "# Libraries\n",
        "import numpy as np\n",
        "import seaborn as sns\n",
        "import pandas as pd\n",
        "import matplotlib.pyplot as plt\n",
        "import statsmodels.api as sm\n",
        "from sklearn.linear_model import LinearRegression\n",
        "from sklearn.preprocessing import StandardScaler\n",
        "from sklearn.linear_model import ridge_regression, RidgeCV, LassoCV\n",
        "plt.rcParams[\"figure.figsize\"] = (6,4)\n"
      ]
    },
    {
      "cell_type": "code",
      "source": [
        "# Weight prediction regression model\n",
        "# independent variable(x) will be height\n",
        "X = np.random.randint(160,180,size=100)\n",
        "y = np.random.randint(60,95,size=100)\n"
      ],
      "metadata": {
        "id": "JZghirJn-4hv"
      },
      "execution_count": null,
      "outputs": []
    },
    {
      "cell_type": "code",
      "source": [
        "df = pd.DataFrame()\n",
        "df['Height']=X\n",
        "df['weight']=y\n",
        "df.head()"
      ],
      "metadata": {
        "id": "ttIzm_kz_hnL"
      },
      "execution_count": null,
      "outputs": []
    },
    {
      "cell_type": "code",
      "source": [
        "# plotting of the data\n",
        "plt.scatter(X,y)"
      ],
      "metadata": {
        "id": "cYtPfKMf_4K4"
      },
      "execution_count": null,
      "outputs": []
    },
    {
      "cell_type": "code",
      "source": [
        "# first add the bias\n",
        "x1 = sm.add_constant(X)"
      ],
      "metadata": {
        "id": "gjZWaIJSAeZ0"
      },
      "execution_count": null,
      "outputs": []
    },
    {
      "cell_type": "code",
      "source": [
        "model_reg = sm.OLS(y,x1)"
      ],
      "metadata": {
        "id": "kzSdB4KlBK5I"
      },
      "execution_count": null,
      "outputs": []
    },
    {
      "cell_type": "code",
      "source": [
        "# results and their summary\n",
        "result = model_reg.fit()"
      ],
      "metadata": {
        "id": "aFhLIocFBceS"
      },
      "execution_count": null,
      "outputs": []
    },
    {
      "cell_type": "code",
      "source": [
        "print(result.summary())"
      ],
      "metadata": {
        "id": "QDfis3GOBlmj"
      },
      "execution_count": null,
      "outputs": []
    },
    {
      "cell_type": "code",
      "source": [
        "lr_clf = LinearRegression()"
      ],
      "metadata": {
        "id": "UpJCiw_5EUfU"
      },
      "execution_count": null,
      "outputs": []
    },
    {
      "cell_type": "code",
      "source": [
        "X = X.reshape(-1,1)\n",
        "y = y.reshape(-1,1)"
      ],
      "metadata": {
        "id": "ESY2ys_1EnNY"
      },
      "execution_count": null,
      "outputs": []
    },
    {
      "cell_type": "code",
      "source": [
        "lr_clf.fit(X,y)"
      ],
      "metadata": {
        "id": "npBfXWJtExjo"
      },
      "execution_count": null,
      "outputs": []
    },
    {
      "cell_type": "code",
      "source": [
        "print(f'the coefficent id {lr_clf.coef_} and the bias is {lr_clf.intercept_}')"
      ],
      "metadata": {
        "id": "sm7c6hIyE-XR"
      },
      "execution_count": null,
      "outputs": []
    },
    {
      "cell_type": "code",
      "source": [
        "test_x = X[80:100]\n",
        "test_y = y[80:100]"
      ],
      "metadata": {
        "id": "7egbPQbkFOcj"
      },
      "execution_count": null,
      "outputs": []
    },
    {
      "cell_type": "code",
      "source": [
        "predict_y = lr_clf.predict(test_x)"
      ],
      "metadata": {
        "id": "Pb4nOHw9Fp3s"
      },
      "execution_count": null,
      "outputs": []
    },
    {
      "cell_type": "code",
      "source": [
        "predict_y"
      ],
      "metadata": {
        "id": "Mve7aKbkFxy4"
      },
      "execution_count": null,
      "outputs": []
    },
    {
      "cell_type": "code",
      "source": [
        "test_y"
      ],
      "metadata": {
        "id": "24-3wfl0F08y"
      },
      "execution_count": null,
      "outputs": []
    },
    {
      "cell_type": "code",
      "source": [
        "test_y = test_y.reshape(1,-1)\n",
        "test_y = test_y.flatten()\n",
        "test_y"
      ],
      "metadata": {
        "id": "1sUENkSrGYOy"
      },
      "execution_count": null,
      "outputs": []
    },
    {
      "cell_type": "code",
      "source": [
        "predict_y = predict_y.reshape(1,-1)\n",
        "predict_y = predict_y.flatten()\n",
        "predict_y"
      ],
      "metadata": {
        "id": "0p9Hb_23F7fU"
      },
      "execution_count": null,
      "outputs": []
    },
    {
      "cell_type": "code",
      "source": [
        "mse = np.mean([(predict_y[i]-test_y[i])**2 for i in range(len(test_y))])"
      ],
      "metadata": {
        "id": "IheETHC_Gjdf"
      },
      "execution_count": null,
      "outputs": []
    },
    {
      "cell_type": "code",
      "source": [
        "mse"
      ],
      "metadata": {
        "id": "t5ancvrSHCiI"
      },
      "execution_count": null,
      "outputs": []
    },
    {
      "cell_type": "code",
      "source": [
        "X = np.array([165,162,156,170,172,168]).reshape(-1,1)\n",
        "y = np.array([71,63,50,69,74,70]).reshape(-1,1)"
      ],
      "metadata": {
        "id": "yGR6XTZAVbvs"
      },
      "execution_count": null,
      "outputs": []
    },
    {
      "cell_type": "code",
      "source": [
        "lr_hw = LinearRegression()\n",
        "lr_hw.fit(X,y)"
      ],
      "metadata": {
        "id": "tMJvcqMssf2o"
      },
      "execution_count": null,
      "outputs": []
    },
    {
      "cell_type": "code",
      "source": [
        "print(f'the coefficent pr weight is {lr_hw.coef_} and the bias is {lr_hw.intercept_}')"
      ],
      "metadata": {
        "id": "AmTiu6pXsPET"
      },
      "execution_count": null,
      "outputs": []
    },
    {
      "cell_type": "code",
      "source": [
        "y_pred = [1.373*x-160 for x in X]\n",
        "y_pred"
      ],
      "metadata": {
        "id": "7j5JSUYDtWFA"
      },
      "execution_count": null,
      "outputs": []
    },
    {
      "cell_type": "code",
      "source": [
        "y"
      ],
      "metadata": {
        "id": "Dk4hZu0EuOEL"
      },
      "execution_count": null,
      "outputs": []
    },
    {
      "cell_type": "code",
      "source": [
        "y_predd = [66.54,62.426,54.188,73.141,76.156,70.66]\n"
      ],
      "metadata": {
        "id": "02tI3epRtriw"
      },
      "execution_count": null,
      "outputs": []
    },
    {
      "cell_type": "code",
      "source": [
        "y = y.reshape(1,-1).flatten()\n",
        "y"
      ],
      "metadata": {
        "id": "Ev0YY43uvHDp"
      },
      "execution_count": null,
      "outputs": []
    },
    {
      "cell_type": "code",
      "source": [
        "mse = sum([(y[i]-y_predd[i])**2 for i in range(len(y))])/6\n",
        "mse"
      ],
      "metadata": {
        "id": "er3Ab1MBvO4y"
      },
      "execution_count": null,
      "outputs": []
    },
    {
      "cell_type": "markdown",
      "source": [
        "Regression Plots"
      ],
      "metadata": {
        "id": "545K9dtAyGic"
      }
    },
    {
      "cell_type": "code",
      "source": [
        "from google.colab import drive\n",
        "drive.mount('/content/drive')"
      ],
      "metadata": {
        "id": "QCOFJU92x4yn"
      },
      "execution_count": null,
      "outputs": []
    },
    {
      "cell_type": "code",
      "source": [
        "import numpy as np\n",
        "import pandas as pd\n",
        "import seaborn as sns\n",
        "import matplotlib.pyplot as plt\n",
        "import statsmodels.api as sm\n",
        "plt.rcParams[\"figure.figsize\"]=(6,4)"
      ],
      "metadata": {
        "id": "qlz35wiqySOA"
      },
      "execution_count": null,
      "outputs": []
    },
    {
      "cell_type": "code",
      "source": [
        "path_tips='/content/drive/MyDrive/MachineLearning/tips.csv'"
      ],
      "metadata": {
        "id": "pvT8oKbYykWf"
      },
      "execution_count": null,
      "outputs": []
    },
    {
      "cell_type": "code",
      "source": [
        "# load the data set\n",
        "df_tips = pd.read_csv(path_tips)"
      ],
      "metadata": {
        "id": "f1qxB9Jnys5J"
      },
      "execution_count": null,
      "outputs": []
    },
    {
      "cell_type": "code",
      "source": [
        "# first five entries\n",
        "df_tips.head()"
      ],
      "metadata": {
        "id": "LlG7qMEhy3Nt"
      },
      "execution_count": null,
      "outputs": []
    },
    {
      "cell_type": "code",
      "source": [
        "# Simple Linear Regression Plot\n",
        "sns.set_style('whitegrid')\n",
        "#lmplot() stands for linear model plot\n",
        "sns.lmplot(x='total_bill', y='tip', data=df_tips)"
      ],
      "metadata": {
        "id": "RE_0X4omzdL8"
      },
      "execution_count": null,
      "outputs": []
    },
    {
      "cell_type": "code",
      "source": [
        "# design the line of best fit\n",
        "# extract the values of x and y\n",
        "x = df_tips['total_bill'].values\n",
        "y = df_tips['tip'].values"
      ],
      "metadata": {
        "id": "mZLEztAM1MBK"
      },
      "execution_count": null,
      "outputs": []
    },
    {
      "cell_type": "code",
      "source": [
        "x"
      ],
      "metadata": {
        "id": "6aQYQDBO1nSV"
      },
      "execution_count": null,
      "outputs": []
    },
    {
      "cell_type": "code",
      "source": [
        "y"
      ],
      "metadata": {
        "id": "PVs6RHxr1oyJ"
      },
      "execution_count": null,
      "outputs": []
    },
    {
      "cell_type": "code",
      "source": [
        "# we will build the linear regression model using OLS\n",
        "x_tips = sm.add_constant(x)"
      ],
      "metadata": {
        "id": "NvnayLdB1ucA"
      },
      "execution_count": null,
      "outputs": []
    },
    {
      "cell_type": "code",
      "source": [
        "# build the linear regression model\n",
        "model_tip = sm.OLS(y,x_tips)\n",
        "results = model_tip.fit()"
      ],
      "metadata": {
        "id": "pthqD0WC2Icu"
      },
      "execution_count": null,
      "outputs": []
    },
    {
      "cell_type": "code",
      "source": [
        "results.summary()"
      ],
      "metadata": {
        "id": "5K4rMzWb2jql"
      },
      "execution_count": null,
      "outputs": []
    },
    {
      "cell_type": "code",
      "source": [
        "X_t = x.reshape(-1,1)\n",
        "y_t = y.reshape(-1,1)"
      ],
      "metadata": {
        "id": "zAKbq8kk2_Qo"
      },
      "execution_count": null,
      "outputs": []
    },
    {
      "cell_type": "code",
      "source": [
        "lr_tips = LinearRegression()\n",
        "lr_tips.fit(X_t,y_t)\n"
      ],
      "metadata": {
        "id": "ksed5oC027c7"
      },
      "execution_count": null,
      "outputs": []
    },
    {
      "cell_type": "code",
      "source": [
        "lr_tips.coef_"
      ],
      "metadata": {
        "id": "ir52Ksq43PAm"
      },
      "execution_count": null,
      "outputs": []
    },
    {
      "cell_type": "code",
      "source": [
        "lr_tips.intercept_"
      ],
      "metadata": {
        "id": "D9uQ1vyY3Rv6"
      },
      "execution_count": null,
      "outputs": []
    },
    {
      "cell_type": "code",
      "source": [
        "df_tips.head()"
      ],
      "metadata": {
        "id": "pYrHtSxs462Q"
      },
      "execution_count": null,
      "outputs": []
    },
    {
      "cell_type": "code",
      "source": [
        "# we can categorize the data on the basis of categorical values\n",
        "sns.set_style('whitegrid')\n",
        "sns.lmplot(x='total_bill', y='tip', data=df_tips,hue='smoker')"
      ],
      "metadata": {
        "id": "KsYDMeFn4v-7"
      },
      "execution_count": null,
      "outputs": []
    },
    {
      "cell_type": "markdown",
      "source": [
        "# Project : Car Price Prediction using Linear Regression Models"
      ],
      "metadata": {
        "id": "uYoIAZqp6GUD"
      }
    },
    {
      "cell_type": "code",
      "source": [
        "import numpy as np\n",
        "import pandas as pd\n",
        "import seaborn as sns\n",
        "import matplotlib.pyplot as plt\n",
        "import statsmodels.api as sm\n",
        "import warnings\n",
        "from sklearn.model_selection import train_test_split, KFold, cross_val_score\n",
        "from sklearn.linear_model import LinearRegression\n",
        "from sklearn.metrics import mean_squared_error,r2_score\n",
        "warnings.simplefilter(\"ignore\")\n",
        "plt.rcParams[\"figure.figsize\"]=(6,4)"
      ],
      "metadata": {
        "id": "4tJ0wyUp6bk7"
      },
      "execution_count": null,
      "outputs": []
    },
    {
      "cell_type": "code",
      "source": [
        "from google.colab import drive\n",
        "drive.mount('/content/drive')"
      ],
      "metadata": {
        "id": "cOC3CkHRrv7H"
      },
      "execution_count": null,
      "outputs": []
    },
    {
      "cell_type": "code",
      "source": [
        "path_car = '/content/drive/MyDrive/MachineLearning/CarPrice_Assignment.csv'"
      ],
      "metadata": {
        "id": "muXxg7dn8D_f"
      },
      "execution_count": null,
      "outputs": []
    },
    {
      "cell_type": "code",
      "source": [
        "df_car = pd.read_csv(path_car)"
      ],
      "metadata": {
        "id": "dAytJNxo8LEF"
      },
      "execution_count": null,
      "outputs": []
    },
    {
      "cell_type": "code",
      "source": [
        "df_car.head()"
      ],
      "metadata": {
        "id": "3iF5cTeL8TBt"
      },
      "execution_count": null,
      "outputs": []
    },
    {
      "cell_type": "code",
      "source": [
        "df_car.shape"
      ],
      "metadata": {
        "id": "oR64EF6j8x5e"
      },
      "execution_count": null,
      "outputs": []
    },
    {
      "cell_type": "code",
      "source": [
        "df_car.info()"
      ],
      "metadata": {
        "id": "j49SmNGX84TS"
      },
      "execution_count": null,
      "outputs": []
    },
    {
      "cell_type": "code",
      "source": [
        "# check for the NULL values\n",
        "df_car.isnull().sum()\n"
      ],
      "metadata": {
        "id": "K9TqryEx8_47"
      },
      "execution_count": null,
      "outputs": []
    },
    {
      "cell_type": "code",
      "source": [
        "# check for the duplicate columns\n",
        "df_car.duplicated().sum()"
      ],
      "metadata": {
        "id": "ZwW_cbS-9Qzp"
      },
      "execution_count": null,
      "outputs": []
    },
    {
      "cell_type": "code",
      "source": [
        "# we will drop some non useful columns\n",
        "df_car.drop(columns=['car_ID'],inplace=True)"
      ],
      "metadata": {
        "id": "xukevHgh9aik"
      },
      "execution_count": null,
      "outputs": []
    },
    {
      "cell_type": "code",
      "source": [
        "df_car.head()"
      ],
      "metadata": {
        "id": "krzRWf8q9yj6"
      },
      "execution_count": null,
      "outputs": []
    },
    {
      "cell_type": "code",
      "source": [
        "# unique values in engline location\n",
        "df_car['enginelocation'].unique().tolist()"
      ],
      "metadata": {
        "id": "gRB_aEtd93-b"
      },
      "execution_count": null,
      "outputs": []
    },
    {
      "cell_type": "code",
      "source": [
        "# split the car name having alfa in two parts\n",
        "df_car.CarName.iloc[0].split()"
      ],
      "metadata": {
        "id": "9v4NrhNN-UiR"
      },
      "execution_count": null,
      "outputs": []
    },
    {
      "cell_type": "code",
      "source": [
        "# split the car name having alfa in two parts\n",
        "df_car.CarName.iloc[0].split()[0]"
      ],
      "metadata": {
        "id": "rURe0hz8-s-A"
      },
      "execution_count": null,
      "outputs": []
    },
    {
      "cell_type": "code",
      "source": [
        "# now we will desgn the lambda function for this\n",
        "df_car['CarCompanyName'] = df_car['CarName'].apply(lambda x: x.split()[0])"
      ],
      "metadata": {
        "id": "MeozEV78-zll"
      },
      "execution_count": null,
      "outputs": []
    },
    {
      "cell_type": "code",
      "source": [
        "df_car['CarCompanyName'].unique().tolist()"
      ],
      "metadata": {
        "id": "iOEYYq-x_Kpm",
        "collapsed": true
      },
      "execution_count": null,
      "outputs": []
    },
    {
      "cell_type": "code",
      "source": [
        "# count total number of cars per company\n",
        "df_car['CarCompanyName'].value_counts()"
      ],
      "metadata": {
        "id": "Mn4_mzVG_YEY"
      },
      "execution_count": null,
      "outputs": []
    },
    {
      "cell_type": "code",
      "source": [
        "# drop the car name\n",
        "df_car.drop(columns=['CarName'], inplace=True)\n",
        "df_car.head()"
      ],
      "metadata": {
        "id": "90tsWZIp_qbD"
      },
      "execution_count": null,
      "outputs": []
    },
    {
      "cell_type": "code",
      "source": [
        "df_car[\"CarCompanyName\"].replace(\"alfa-romero\",\"alfa-romeo\", inplace=True)\n",
        "df_car[\"CarCompanyName\"].replace(\"maxda\",\"mazda\", inplace=True)\n",
        "df_car[\"CarCompanyName\"].replace(\"Nissan\",\"nissan\", inplace=True)\n",
        "df_car[\"CarCompanyName\"].replace(\"porcshce\",\"porsche\", inplace=True)\n",
        "df_car[\"CarCompanyName\"].replace(\"toyouta\",\"toyota\", inplace=True)\n",
        "df_car[\"CarCompanyName\"].replace(\"porcshce\",\"porsche\", inplace=True)\n",
        "df_car[\"CarCompanyName\"].replace(\"vokswagen\",\"volkswagen\", inplace=True)\n",
        "df_car[\"CarCompanyName\"].replace(\"vw\",\"volkswagen\", inplace=True)"
      ],
      "metadata": {
        "id": "6uZeo66yAC0x"
      },
      "execution_count": null,
      "outputs": []
    },
    {
      "cell_type": "code",
      "source": [
        "df_car['CarCompanyName'].unique().tolist()"
      ],
      "metadata": {
        "id": "jdNLJFZPALPz"
      },
      "execution_count": null,
      "outputs": []
    },
    {
      "cell_type": "code",
      "source": [
        "plt.figure(figsize=(20,8))\n",
        "\n",
        "plt.subplot(1,2,1)\n",
        "plt.title('Car Price Distribution Plot')\n",
        "sns.distplot(df_car.price)\n",
        "\n",
        "plt.subplot(1,2,2)\n",
        "plt.title('Car Price Spread')\n",
        "sns.boxplot(y=df_car.price)\n",
        "\n",
        "plt.show()"
      ],
      "metadata": {
        "id": "vLsB89ALQMF9"
      },
      "execution_count": null,
      "outputs": []
    },
    {
      "cell_type": "code",
      "source": [
        "print(df_car.price.describe(percentiles = [0.25,0.50,0.75,0.85,0.90,1]))"
      ],
      "metadata": {
        "id": "B7gtcVitQaPk"
      },
      "execution_count": null,
      "outputs": []
    },
    {
      "cell_type": "code",
      "source": [
        "df_car.info()"
      ],
      "metadata": {
        "id": "PipCPflZQ6kR"
      },
      "execution_count": null,
      "outputs": []
    },
    {
      "cell_type": "code",
      "source": [
        "plt.figure(figsize=(25, 6))\n",
        "\n",
        "plt.subplot(1,3,1)\n",
        "plt1 = df_car.CarCompanyName.value_counts().plot(kind='bar')\n",
        "plt.title('Companies Histogram')\n",
        "plt1.set(xlabel = 'Car company', ylabel='Frequency of company')\n",
        "\n",
        "plt.subplot(1,3,2)\n",
        "plt1 = df_car.fueltype.value_counts().plot(kind='bar')\n",
        "plt.title('Fuel Type Histogram')\n",
        "plt1.set(xlabel = 'Fuel Type', ylabel='Frequency of fuel type')\n",
        "\n",
        "plt.subplot(1,3,3)\n",
        "plt1 = df_car.carbody.value_counts().plot(kind='bar')\n",
        "plt.title('Car Type Histogram')\n",
        "plt1.set(xlabel = 'Car Type', ylabel='Frequency of Car type')\n",
        "\n",
        "plt.show()"
      ],
      "metadata": {
        "id": "RTx8BmZ0QhLt"
      },
      "execution_count": null,
      "outputs": []
    },
    {
      "cell_type": "code",
      "source": [
        "plt.figure(figsize=(20,8))\n",
        "\n",
        "plt.subplot(1,2,1)\n",
        "plt.title('Symboling Histogram')\n",
        "sns.countplot(df_car.symboling, palette=(\"cubehelix\"))\n",
        "\n",
        "plt.subplot(1,2,2)\n",
        "plt.title('Symboling vs Price')\n",
        "sns.boxplot(x=df_car.symboling, y=df_car.price, palette=(\"cubehelix\"))\n",
        "\n",
        "plt.show()"
      ],
      "metadata": {
        "id": "R3UxaeGMRMzo"
      },
      "execution_count": null,
      "outputs": []
    },
    {
      "cell_type": "code",
      "source": [
        "plt.figure(figsize=(20,8))\n",
        "\n",
        "plt.subplot(1,2,1)\n",
        "plt.title('Engine Type Histogram')\n",
        "sns.countplot(df_car.enginetype, palette=(\"Blues_d\"))\n",
        "\n",
        "plt.subplot(1,2,2)\n",
        "plt.title('Engine Type vs Price')\n",
        "sns.boxplot(x=df_car.enginetype, y=df_car.price, palette=(\"PuBuGn\"))\n",
        "\n",
        "plt.show()\n",
        "\n",
        "df = pd.DataFrame(df_car.groupby(['enginetype'])['price'].mean().sort_values(ascending = False))\n",
        "df.plot.bar(figsize=(8,6))\n",
        "plt.title('Engine Type vs Average Price')\n",
        "plt.show()"
      ],
      "metadata": {
        "id": "VUwv8rSmRYuj"
      },
      "execution_count": null,
      "outputs": []
    },
    {
      "cell_type": "code",
      "source": [
        "plt.figure(figsize=(25, 6))\n",
        "\n",
        "df = pd.DataFrame(df_car.groupby(['CarCompanyName'])['price'].mean().sort_values(ascending = False))\n",
        "df.plot.bar()\n",
        "plt.title('Company Name vs Average Price')\n",
        "plt.show()\n",
        "\n",
        "df = pd.DataFrame(df_car.groupby(['fueltype'])['price'].mean().sort_values(ascending = False))\n",
        "df.plot.bar()\n",
        "plt.title('Fuel Type vs Average Price')\n",
        "plt.show()\n",
        "\n",
        "df = pd.DataFrame(df_car.groupby(['carbody'])['price'].mean().sort_values(ascending = False))\n",
        "df.plot.bar()\n",
        "plt.title('Car Type vs Average Price')\n",
        "plt.show()"
      ],
      "metadata": {
        "id": "y53ITBG1Rl7E"
      },
      "execution_count": null,
      "outputs": []
    },
    {
      "cell_type": "code",
      "source": [
        "df_car.info()"
      ],
      "metadata": {
        "id": "6MlPlbMvSP8K"
      },
      "execution_count": null,
      "outputs": []
    },
    {
      "cell_type": "code",
      "source": [
        "plt.figure(figsize=(15,5))\n",
        "\n",
        "plt.subplot(1,2,1)\n",
        "plt.title('Peak rpm Histogram')\n",
        "sns.countplot(df_car.peakrpm, palette=(\"plasma\"))\n",
        "\n",
        "plt.subplot(1,2,2)\n",
        "plt.title('Peak rpm vs Price')\n",
        "sns.boxplot(x=df_car.peakrpm, y=df_car.price, palette=(\"plasma\"))\n",
        "\n",
        "plt.show()\n",
        "\n"
      ],
      "metadata": {
        "id": "5VRFv0ZyR6AH"
      },
      "execution_count": null,
      "outputs": []
    },
    {
      "cell_type": "code",
      "source": [
        "def plot_count(x,fig):\n",
        "    plt.subplot(4,2,fig)\n",
        "    plt.title(x+' Histogram')\n",
        "    sns.countplot(df_car[x],palette=(\"magma\"))\n",
        "    plt.subplot(4,2,(fig+1))\n",
        "    plt.title(x+' vs Price')\n",
        "    sns.boxplot(x=df_car[x], y=df_car.price, palette=(\"magma\"))\n",
        "\n",
        "plt.figure(figsize=(15,20))\n",
        "\n",
        "plot_count('enginelocation', 1)\n",
        "plot_count('cylindernumber', 3)\n",
        "plot_count('fuelsystem', 5)\n",
        "plot_count('drivewheel', 7)\n",
        "\n",
        "plt.tight_layout()"
      ],
      "metadata": {
        "id": "3muRUjS7R58I"
      },
      "execution_count": null,
      "outputs": []
    },
    {
      "cell_type": "code",
      "source": [
        "def scatter(x,fig):\n",
        "    plt.subplot(5,2,fig)\n",
        "    plt.scatter(df_car[x],df_car['price'])\n",
        "    plt.title(x+' vs Price')\n",
        "    plt.ylabel('Price')\n",
        "    plt.xlabel(x)\n",
        "\n",
        "plt.figure(figsize=(10,20))\n",
        "\n",
        "scatter('carlength', 1)\n",
        "scatter('carwidth', 2)\n",
        "scatter('carheight', 3)\n",
        "scatter('curbweight', 4)\n",
        "\n",
        "plt.tight_layout()"
      ],
      "metadata": {
        "id": "ynFhCKm2R53f"
      },
      "execution_count": null,
      "outputs": []
    },
    {
      "cell_type": "code",
      "source": [
        "def pp(x,y,z):\n",
        "    sns.pairplot(df_car, x_vars=[x,y,z], y_vars='price',size=4, aspect=1, kind='scatter')\n",
        "    plt.show()\n",
        "\n",
        "pp('enginesize', 'boreratio', 'stroke')\n",
        "pp('compressionratio', 'horsepower', 'peakrpm')\n",
        "pp('wheelbase', 'citympg', 'highwaympg')"
      ],
      "metadata": {
        "id": "jdYlcJ8JR5oh"
      },
      "execution_count": null,
      "outputs": []
    },
    {
      "cell_type": "code",
      "source": [
        "# seprate the categorical value and continuos values\n",
        "categorical_features = df_car.dtypes== object\n",
        "list_cat_features = df_car.columns[categorical_features].tolist()"
      ],
      "metadata": {
        "id": "rLOtAcUjAjdA"
      },
      "execution_count": null,
      "outputs": []
    },
    {
      "cell_type": "code",
      "source": [
        "list_cat_features"
      ],
      "metadata": {
        "id": "LvbFYWhFBHJ7"
      },
      "execution_count": null,
      "outputs": []
    },
    {
      "cell_type": "code",
      "source": [
        "numerical_features = df_car.dtypes!=object\n",
        "list_numerical_features = df_car.columns[numerical_features].tolist()\n",
        "list_numerical_features"
      ],
      "metadata": {
        "id": "NMl50UgsBQHe"
      },
      "execution_count": null,
      "outputs": []
    },
    {
      "cell_type": "code",
      "source": [
        "list_numerical_features"
      ],
      "metadata": {
        "id": "Ut6Ecdv9BfzV"
      },
      "execution_count": null,
      "outputs": []
    },
    {
      "cell_type": "code",
      "source": [
        "# see the data frames\n",
        "df_car[list_cat_features]"
      ],
      "metadata": {
        "id": "wbhUFs-oBkZn"
      },
      "execution_count": null,
      "outputs": []
    },
    {
      "cell_type": "code",
      "source": [
        "# data frame containing only continuos features\n",
        "df_car[list_numerical_features]"
      ],
      "metadata": {
        "id": "SvsiPyAlB65E"
      },
      "execution_count": null,
      "outputs": []
    },
    {
      "cell_type": "code",
      "source": [
        "list_cat_features = df_car.columns[categorical_features].tolist()\n",
        "list_cat_features"
      ],
      "metadata": {
        "id": "agOtCu3isIIB"
      },
      "execution_count": null,
      "outputs": []
    },
    {
      "cell_type": "code",
      "source": [
        "list_numerical_features"
      ],
      "metadata": {
        "id": "vwc4eQx6szBB"
      },
      "execution_count": null,
      "outputs": []
    },
    {
      "cell_type": "code",
      "source": [
        "# drop some unwanted columns\n",
        "df_car1 = df_car.drop(columns=['aspiration','doornumber','drivewheel','enginelocation','cylindernumber',\n",
        "                      'fuelsystem','boreratio','stroke','compressionratio','enginesize'])"
      ],
      "metadata": {
        "id": "nE3OqRpuCEsT"
      },
      "execution_count": null,
      "outputs": []
    },
    {
      "cell_type": "code",
      "source": [
        "df_car1.head()"
      ],
      "metadata": {
        "id": "eb4sVl7wtNWw"
      },
      "execution_count": null,
      "outputs": []
    },
    {
      "cell_type": "code",
      "source": [
        "cat_features1 = df_car1.dtypes==object\n",
        "list_cat_features1 = df_car1.columns[cat_features1].tolist()"
      ],
      "metadata": {
        "id": "RVgU39LttYHr"
      },
      "execution_count": null,
      "outputs": []
    },
    {
      "cell_type": "code",
      "source": [
        "list_cat_features1"
      ],
      "metadata": {
        "id": "eldMU9fFuVm1"
      },
      "execution_count": null,
      "outputs": []
    },
    {
      "cell_type": "code",
      "source": [
        "numerical_features1 = df_car1.dtypes!=object\n",
        "list_numerical_features1 = df_car1.columns[numerical_features1].tolist()"
      ],
      "metadata": {
        "id": "94Fsw6oSt7Ej"
      },
      "execution_count": null,
      "outputs": []
    },
    {
      "cell_type": "code",
      "source": [
        "list_numerical_features1"
      ],
      "metadata": {
        "id": "1QpMT26vuY-l"
      },
      "execution_count": null,
      "outputs": []
    },
    {
      "cell_type": "code",
      "source": [
        "df_cont = df_car1[list_numerical_features1[1:]]"
      ],
      "metadata": {
        "id": "Tk1kKxJoy28N"
      },
      "execution_count": null,
      "outputs": []
    },
    {
      "cell_type": "code",
      "source": [
        "df_cont"
      ],
      "metadata": {
        "id": "FhTS5l0hy9NA"
      },
      "execution_count": null,
      "outputs": []
    },
    {
      "cell_type": "markdown",
      "source": [
        "Data Visualization"
      ],
      "metadata": {
        "id": "3f1coet1ufly"
      }
    },
    {
      "cell_type": "code",
      "source": [
        "sns.barplot(x=df_car1['symboling'], y=df_car1['price'],data=df_car1)\n",
        "plt.plot()"
      ],
      "metadata": {
        "id": "z9kj4MK2ubWy"
      },
      "execution_count": null,
      "outputs": []
    },
    {
      "cell_type": "code",
      "source": [
        "plt.figure(figsize=(10,7))\n",
        "for col in list_cat_features1:\n",
        "  sns.barplot(x=df_car1[col], y=df_car1['price'])\n",
        "  plt.xticks(rotation=90)\n",
        "  plt.show()"
      ],
      "metadata": {
        "id": "Sytw0TIIvVJn"
      },
      "execution_count": null,
      "outputs": []
    },
    {
      "cell_type": "code",
      "source": [
        "# for categorical values we do one hot encoding\n",
        "df_cat = pd.get_dummies(df_car1[list_cat_features1])"
      ],
      "metadata": {
        "id": "4zGH4SIuwesh"
      },
      "execution_count": null,
      "outputs": []
    },
    {
      "cell_type": "code",
      "source": [
        "df_final = pd.concat([df_cont,df_cat], axis=1)"
      ],
      "metadata": {
        "id": "COpRw7oEzLT-"
      },
      "execution_count": null,
      "outputs": []
    },
    {
      "cell_type": "code",
      "source": [
        "df_final.head()"
      ],
      "metadata": {
        "id": "CHZcuSHLzXqg"
      },
      "execution_count": null,
      "outputs": []
    },
    {
      "cell_type": "code",
      "source": [
        "X = df_final.drop(columns=['price'])\n",
        "y = df_final['price']"
      ],
      "metadata": {
        "id": "1pp7KLzWza8P"
      },
      "execution_count": null,
      "outputs": []
    },
    {
      "cell_type": "code",
      "source": [
        "# to train the model we will divide the data in twp parts training and testing\n",
        "X_train, X_test,y_train,y_test = train_test_split(X,y,test_size=0.2)"
      ],
      "metadata": {
        "id": "wm3HID0qzsIm"
      },
      "execution_count": null,
      "outputs": []
    },
    {
      "cell_type": "code",
      "source": [
        "lr_clf = LinearRegression()\n",
        "lr_clf.fit(X_train, y_train)"
      ],
      "metadata": {
        "id": "gnYWKY7W0Bir"
      },
      "execution_count": null,
      "outputs": []
    },
    {
      "cell_type": "code",
      "source": [
        "# pediction score\n",
        "lr_clf.score(X_test, y_test)"
      ],
      "metadata": {
        "id": "KfinqH290f0k"
      },
      "execution_count": null,
      "outputs": []
    },
    {
      "cell_type": "code",
      "source": [
        "pred_y = lr_clf.predict(X_test)"
      ],
      "metadata": {
        "id": "EVkbwfkg08kE"
      },
      "execution_count": null,
      "outputs": []
    },
    {
      "cell_type": "code",
      "source": [
        "mean_squared_error(y_test, pred_y)"
      ],
      "metadata": {
        "id": "hIhccgth04P6"
      },
      "execution_count": null,
      "outputs": []
    },
    {
      "cell_type": "code",
      "source": [
        "X.info()"
      ],
      "metadata": {
        "id": "uUy-iNHxhJJ5"
      },
      "execution_count": null,
      "outputs": []
    },
    {
      "cell_type": "code",
      "source": [
        "def predict_price(CarCompanyName,enginetype,carbody,fueltype,highwaympg,citympg,peakrpm,horsepower,\n",
        "                  curbweight,carheight,carwidth,carlength,wheelbase,X,lr_clf):\n",
        "  # Find the indices of the categorical variables\n",
        "  CarCompanyName_index = np.where(X.columns == 'CarCompanyName_' + CarCompanyName)[0][0]\n",
        "  enginetype_index = np.where(X.columns == 'enginetype_' + enginetype)[0][0]\n",
        "  carbody_index = np.where(X.columns == 'carbody_' + carbody)[0][0]\n",
        "  fueltype_index = np.where(X.columns == 'fueltype_' + fueltype)[0][0]\n",
        "  # Create feature vector\n",
        "  x = np.zeros(len(X.columns))\n",
        "  x[4]=highwaympg\n",
        "  x[5]=citympg\n",
        "  x[6]=peakrpm\n",
        "  x[7]=horsepower\n",
        "  x[8]=curbweight\n",
        "  x[9]=carheight\n",
        "  x[10]=carwidth\n",
        "  x[11]=carlength\n",
        "  x[12]=wheelbase\n",
        "  # Set categorical variable indices to 1\n",
        "  if CarCompanyName_index >= 0:\n",
        "      x[CarCompanyName_index] = 1\n",
        "  if enginetype_index >= 0:\n",
        "      x[enginetype_index] = 1\n",
        "  if carbody_index >= 0:\n",
        "      x[carbody_index] = 1\n",
        "  if fueltype_index >= 0:\n",
        "      x[fueltype_index] = 1\n",
        "\n",
        "\n",
        "  return lr_clf.predict([x])[0]\n"
      ],
      "metadata": {
        "id": "sxuqIqzriW50"
      },
      "execution_count": null,
      "outputs": []
    },
    {
      "cell_type": "code",
      "source": [
        "X.head()"
      ],
      "metadata": {
        "id": "GYk8W_lZX120"
      },
      "execution_count": null,
      "outputs": []
    },
    {
      "cell_type": "code",
      "source": [
        "predict_price('audi', 'dohc', 'convertible', 'gas',27,21,5000,111,\n",
        "                  2548,48.8,64.1,168.0,88.8,X,lr_clf)"
      ],
      "metadata": {
        "id": "7dMl-uJXXpaq"
      },
      "execution_count": null,
      "outputs": []
    },
    {
      "cell_type": "markdown",
      "source": [
        "Polynomial regression and Perfomance Metrics"
      ],
      "metadata": {
        "id": "cVB7BSdr2Y46"
      }
    },
    {
      "cell_type": "code",
      "source": [
        "# create some synthetic data\n",
        "X_syn = np.random.rand(100,2)\n",
        "X_syn"
      ],
      "metadata": {
        "id": "e7DoN00j2Qvf"
      },
      "execution_count": null,
      "outputs": []
    },
    {
      "cell_type": "code",
      "source": [
        "y = np.random.rand(100)"
      ],
      "metadata": {
        "id": "hhlL58sO56DJ"
      },
      "execution_count": null,
      "outputs": []
    },
    {
      "cell_type": "code",
      "source": [
        "# split the data in two halves\n",
        "train_x, test_x, train_y, test_y = train_test_split(X_syn,y, test_size=0.2)\n"
      ],
      "metadata": {
        "id": "9sdofjit6FLx"
      },
      "execution_count": null,
      "outputs": []
    },
    {
      "cell_type": "code",
      "source": [
        "lr_reg = LinearRegression()\n",
        "lr_reg.fit(train_x, train_y)"
      ],
      "metadata": {
        "id": "FcZhINpq6Xl_"
      },
      "execution_count": null,
      "outputs": []
    },
    {
      "cell_type": "code",
      "source": [
        "# now we will going to check the coefficent of model\n",
        "print(f'the coefficents are {lr_reg.coef_} and {lr_reg.intercept_}')"
      ],
      "metadata": {
        "id": "OthaFuJW6ixb"
      },
      "execution_count": null,
      "outputs": []
    },
    {
      "cell_type": "code",
      "source": [
        "# y_pred = 0.0457*x1 + 0.060*x2 + 0.4797\n",
        "y_pred = lr_reg.predict(test_x)\n",
        "mean_squared_error(test_y, y_pred)"
      ],
      "metadata": {
        "id": "ruhXTXbH7Nh8"
      },
      "execution_count": null,
      "outputs": []
    },
    {
      "cell_type": "code",
      "source": [
        "# cross validation\n",
        "k_folds = KFold(n_splits=5, shuffle=True)\n",
        "score = cross_val_score(lr_reg,X_syn,y, cv=k_folds)"
      ],
      "metadata": {
        "id": "OH8JNi3_70Wz"
      },
      "execution_count": null,
      "outputs": []
    },
    {
      "cell_type": "code",
      "source": [
        "print(score)"
      ],
      "metadata": {
        "id": "3fT_qnmW9lwL"
      },
      "execution_count": null,
      "outputs": []
    },
    {
      "cell_type": "code",
      "source": [
        "print(score.mean())"
      ],
      "metadata": {
        "id": "wYHwK9xc9ohl"
      },
      "execution_count": null,
      "outputs": []
    },
    {
      "cell_type": "markdown",
      "source": [
        "# Polynomial data creation"
      ],
      "metadata": {
        "id": "19E8lyLo94Jp"
      }
    },
    {
      "cell_type": "code",
      "source": [
        "X = np.random.randint(1,10, size=200).reshape(-1,1)"
      ],
      "metadata": {
        "id": "M6C1DjPB92ws"
      },
      "execution_count": null,
      "outputs": []
    },
    {
      "cell_type": "code",
      "source": [
        "# y_actual = 2.23*X*X - 0.69*X + 1.17\n",
        "y_actual = [2.23*x*x-0.69*x+1.17+np.random.rand() for x in X]"
      ],
      "metadata": {
        "id": "DVskkqKO-P5H"
      },
      "execution_count": null,
      "outputs": []
    },
    {
      "cell_type": "markdown",
      "source": [],
      "metadata": {
        "id": "F8ENP08U_ngL"
      }
    },
    {
      "cell_type": "code",
      "source": [
        "y_actual"
      ],
      "metadata": {
        "id": "UL8i7YXK_Nx-"
      },
      "execution_count": null,
      "outputs": []
    },
    {
      "cell_type": "code",
      "source": [
        "x_train,x_test,y_train,y_test = train_test_split(X,y_actual,test_size=0.2)"
      ],
      "metadata": {
        "id": "16JH2QOS_Ynb"
      },
      "execution_count": null,
      "outputs": []
    },
    {
      "cell_type": "code",
      "source": [
        "# first we will fit the data on linear regression\n",
        "lr_reg.fit(x_train,y_train)"
      ],
      "metadata": {
        "id": "s3DcuEtN_vBQ"
      },
      "execution_count": null,
      "outputs": []
    },
    {
      "cell_type": "code",
      "source": [
        "y_pred = lr_reg.predict(x_test)"
      ],
      "metadata": {
        "id": "_75hHvs__-Au"
      },
      "execution_count": null,
      "outputs": []
    },
    {
      "cell_type": "code",
      "source": [
        "mean_squared_error(y_test,y_pred)"
      ],
      "metadata": {
        "id": "WgCvpFqwALNe"
      },
      "execution_count": null,
      "outputs": []
    },
    {
      "cell_type": "code",
      "source": [
        "r2_score(y_test,y_pred)"
      ],
      "metadata": {
        "id": "cnsWD54cApAo"
      },
      "execution_count": null,
      "outputs": []
    },
    {
      "cell_type": "code",
      "source": [
        "# package for polynomial Regression\n",
        "from sklearn.preprocessing import PolynomialFeatures"
      ],
      "metadata": {
        "id": "RlX21uu9A-EE"
      },
      "execution_count": null,
      "outputs": []
    },
    {
      "cell_type": "code",
      "source": [
        "# applying the polynomial regression\n",
        "poly = PolynomialFeatures(degree=2, include_bias=True)\n"
      ],
      "metadata": {
        "id": "jEMlUL9XAVK-"
      },
      "execution_count": null,
      "outputs": []
    },
    {
      "cell_type": "code",
      "source": [
        "X_train_poly = poly.fit_transform(x_train)\n",
        "X_test_poly = poly.fit_transform(x_test)"
      ],
      "metadata": {
        "id": "V1N2mgR4BWKC"
      },
      "execution_count": null,
      "outputs": []
    },
    {
      "cell_type": "code",
      "source": [
        "poly_reg = LinearRegression()\n"
      ],
      "metadata": {
        "id": "L7Xzc1rvBltC"
      },
      "execution_count": null,
      "outputs": []
    },
    {
      "cell_type": "code",
      "source": [
        "poly_reg.fit(X_train_poly,y_train)"
      ],
      "metadata": {
        "id": "znxjciCjBwM1"
      },
      "execution_count": null,
      "outputs": []
    },
    {
      "cell_type": "code",
      "source": [
        "y_pred_poly = poly_reg.predict(X_test_poly)"
      ],
      "metadata": {
        "id": "qebMM2duB6fd"
      },
      "execution_count": null,
      "outputs": []
    },
    {
      "cell_type": "code",
      "source": [
        "print(r2_score(y_test,y_pred_poly))"
      ],
      "metadata": {
        "id": "AUEJ_ls5CPeh"
      },
      "execution_count": null,
      "outputs": []
    },
    {
      "cell_type": "code",
      "source": [
        "print(mean_squared_error(y_test,y_pred_poly))"
      ],
      "metadata": {
        "id": "9A8UQqz1CfsP"
      },
      "execution_count": null,
      "outputs": []
    },
    {
      "cell_type": "markdown",
      "source": [
        "Car Sale Prediction"
      ],
      "metadata": {
        "id": "sFOm4R2OHu6M"
      }
    },
    {
      "cell_type": "code",
      "source": [
        "from google.colab import drive\n",
        "drive.mount('/content/drive')"
      ],
      "metadata": {
        "id": "QisgXUxgHrCl"
      },
      "execution_count": null,
      "outputs": []
    },
    {
      "cell_type": "code",
      "source": [
        "import numpy as np\n",
        "import pandas as pd\n",
        "import seaborn as sns\n",
        "import matplotlib.pyplot as plt\n",
        "import statsmodels.api as sm\n",
        "import warnings\n",
        "from sklearn.model_selection import train_test_split, KFold, cross_val_score\n",
        "from sklearn.linear_model import LinearRegression,Ridge,Lasso\n",
        "from sklearn.metrics import mean_squared_error,r2_score,mean_absolute_error\n",
        "warnings.simplefilter(\"ignore\")\n",
        "plt.rcParams[\"figure.figsize\"]=(6,4)"
      ],
      "metadata": {
        "id": "oaVGFd5CH61c"
      },
      "execution_count": null,
      "outputs": []
    },
    {
      "cell_type": "code",
      "source": [
        "path_car_sale = '/content/drive/MyDrive/MachineLearning/Car_Sales.csv'"
      ],
      "metadata": {
        "id": "slDQDQ_mIE15"
      },
      "execution_count": null,
      "outputs": []
    },
    {
      "cell_type": "code",
      "source": [
        "df_sales = pd.read_csv(path_car_sale)"
      ],
      "metadata": {
        "id": "xwjaiERPIVdq"
      },
      "execution_count": null,
      "outputs": []
    },
    {
      "cell_type": "code",
      "source": [
        "df_sales.info()"
      ],
      "metadata": {
        "id": "oNs_TraEIo-C"
      },
      "execution_count": null,
      "outputs": []
    },
    {
      "cell_type": "code",
      "source": [
        "df_sales.isna().sum()"
      ],
      "metadata": {
        "id": "Nz4BwtHFIvTJ"
      },
      "execution_count": null,
      "outputs": []
    },
    {
      "cell_type": "code",
      "source": [
        "df_sales['Price_in_thousands'].fillna(df_sales['Price_in_thousands'].mean(), inplace=True)"
      ],
      "metadata": {
        "id": "X41ky5YtI92a"
      },
      "execution_count": null,
      "outputs": []
    },
    {
      "cell_type": "code",
      "source": [
        "df_sales['Engine_size'].fillna(method='bfill', inplace=True)"
      ],
      "metadata": {
        "id": "tf75IS4aJLOT"
      },
      "execution_count": null,
      "outputs": []
    },
    {
      "cell_type": "code",
      "source": [
        "df_sales['Horsepower'].fillna(df_sales['Horsepower'].mean(), inplace=True)"
      ],
      "metadata": {
        "id": "yjF633XEJxdM"
      },
      "execution_count": null,
      "outputs": []
    },
    {
      "cell_type": "code",
      "source": [
        "df_sales['Fuel_efficiency'].fillna(df_sales['Fuel_efficiency'].mean(), inplace=True)"
      ],
      "metadata": {
        "id": "jvoeuh4LJ38A"
      },
      "execution_count": null,
      "outputs": []
    },
    {
      "cell_type": "code",
      "source": [
        "df_sales.isna().sum()"
      ],
      "metadata": {
        "id": "OimiwIpkJnPV"
      },
      "execution_count": null,
      "outputs": []
    },
    {
      "cell_type": "code",
      "source": [
        "# seprate the train and test data\n",
        "X = df_sales.iloc[:,:-1].values\n",
        "y = df_sales.iloc[:,-1].values"
      ],
      "metadata": {
        "id": "H5bqSdi8Kk16"
      },
      "execution_count": null,
      "outputs": []
    },
    {
      "cell_type": "code",
      "source": [
        "x_train_sales,x_test_sales,y_train_sales,y_test_sales = train_test_split(X,y,test_size=0.2)"
      ],
      "metadata": {
        "id": "Y4gGYxqnLE6L"
      },
      "execution_count": null,
      "outputs": []
    },
    {
      "cell_type": "code",
      "source": [
        "# linear regression to fit the model\n",
        "lr_sales = LinearRegression()\n",
        "lr_sales.fit(x_train_sales,y_train_sales)"
      ],
      "metadata": {
        "id": "dM2IjI_JK2Dz"
      },
      "execution_count": null,
      "outputs": []
    },
    {
      "cell_type": "code",
      "source": [
        "y_pred_sales = lr_sales.predict(x_test_sales)"
      ],
      "metadata": {
        "id": "Ql3v07y4LT-n"
      },
      "execution_count": null,
      "outputs": []
    },
    {
      "cell_type": "code",
      "source": [
        "print(\"R-sqaure Value\", r2_score(y_test_sales,y_pred_sales))\n",
        "print(\"\\n\")\n",
        "print(\"Mean sqaure Value\", r2_score(y_test_sales,y_pred_sales))\n",
        "print(\"\\n\")\n",
        "print(\"Mean Absolute Error\", r2_score(y_test_sales,y_pred_sales))\n",
        "print(\"\\n\")"
      ],
      "metadata": {
        "id": "BncWNgDrLazg"
      },
      "execution_count": null,
      "outputs": []
    },
    {
      "cell_type": "markdown",
      "source": [
        "Ridge Regression"
      ],
      "metadata": {
        "id": "C8VqMb9VliPF"
      }
    },
    {
      "cell_type": "code",
      "source": [
        "import sklearn\n",
        "sklearn.metrics.get_scorer_names()"
      ],
      "metadata": {
        "id": "oltjnaUNpVdF"
      },
      "execution_count": null,
      "outputs": []
    },
    {
      "cell_type": "code",
      "source": [
        "kfold = KFold(n_splits=5)\n",
        "model_ridge = Ridge()\n",
        "results = cross_val_score(model_ridge, X,y,cv=kfold, scoring='neg_mean_squared_error')"
      ],
      "metadata": {
        "id": "-R6sg2HGlhoB"
      },
      "execution_count": null,
      "outputs": []
    },
    {
      "cell_type": "code",
      "source": [
        "print(results)"
      ],
      "metadata": {
        "id": "eg3MpgWxk6-v"
      },
      "execution_count": null,
      "outputs": []
    },
    {
      "cell_type": "code",
      "source": [
        "print(results.mean())"
      ],
      "metadata": {
        "id": "jUw00gifpjRe"
      },
      "execution_count": null,
      "outputs": []
    },
    {
      "cell_type": "markdown",
      "source": [
        "Lasso Regularization"
      ],
      "metadata": {
        "id": "7INUhCTcrc-k"
      }
    },
    {
      "cell_type": "code",
      "source": [
        "reg_lasso = Lasso()\n",
        "kfold = KFold(n_splits=5)\n",
        "results_lasso = cross_val_score(reg_lasso,X,y,cv=kfold,scoring='neg_mean_squared_error')\n",
        "print(results_lasso.mean())"
      ],
      "metadata": {
        "id": "t9h5yQsArcMH"
      },
      "execution_count": null,
      "outputs": []
    },
    {
      "cell_type": "markdown",
      "source": [
        "# Logistic regression"
      ],
      "metadata": {
        "id": "HG8o9vEFwZ5t"
      }
    },
    {
      "cell_type": "code",
      "source": [
        "#@title Obesity Classification model\n",
        "import numpy as np\n",
        "import pandas as pd\n",
        "from sklearn.model_selection import cross_val_score,KFold,StratifiedKFold,train_test_split\n",
        "from sklearn.linear_model import LogisticRegression\n",
        "from sklearn.preprocessing import StandardScaler\n",
        "from sklearn.metrics import accuracy_score,classification_report\n"
      ],
      "metadata": {
        "id": "C3VAExNasbqL"
      },
      "execution_count": null,
      "outputs": []
    },
    {
      "cell_type": "code",
      "source": [
        "from google.colab import drive\n",
        "drive.mount('/content/drive')"
      ],
      "metadata": {
        "id": "YcJjU6cNyjCf"
      },
      "execution_count": null,
      "outputs": []
    },
    {
      "cell_type": "code",
      "source": [
        "path_obesity = '/content/drive/MyDrive/MachineLearning/Obesity.csv'"
      ],
      "metadata": {
        "id": "TLwbiOC5ygUO"
      },
      "execution_count": null,
      "outputs": []
    },
    {
      "cell_type": "code",
      "source": [
        "df_obesity = pd.read_csv(path_obesity)"
      ],
      "metadata": {
        "id": "nAnQgKWVy1YK"
      },
      "execution_count": null,
      "outputs": []
    },
    {
      "cell_type": "code",
      "source": [
        "df_obesity.head(10)"
      ],
      "metadata": {
        "id": "KOd0Mt35y7lB"
      },
      "execution_count": null,
      "outputs": []
    },
    {
      "cell_type": "code",
      "source": [
        "# get the shape of the data\n",
        "df_obesity.shape"
      ],
      "metadata": {
        "id": "bTesDd0BzEIp"
      },
      "execution_count": null,
      "outputs": []
    },
    {
      "cell_type": "code",
      "source": [
        "df_obesity.info()"
      ],
      "metadata": {
        "id": "uKrA0N_GzTR0"
      },
      "execution_count": null,
      "outputs": []
    },
    {
      "cell_type": "code",
      "source": [
        "df_ob1 = df_obesity[['Age','Height','Weight']]"
      ],
      "metadata": {
        "id": "ERWWOci2zLiH"
      },
      "execution_count": null,
      "outputs": []
    },
    {
      "cell_type": "code",
      "source": [
        "df_ob1"
      ],
      "metadata": {
        "id": "LPC1dJSnzfd4"
      },
      "execution_count": null,
      "outputs": []
    },
    {
      "cell_type": "code",
      "source": [
        "y = np.random.randint(0,2,2111)"
      ],
      "metadata": {
        "id": "mhpk_4YP0O_q"
      },
      "execution_count": null,
      "outputs": []
    },
    {
      "cell_type": "code",
      "source": [
        "# 0:stands for obese 1 stands for non obese\n",
        "y"
      ],
      "metadata": {
        "id": "ed6BuNVu0Zwt"
      },
      "execution_count": null,
      "outputs": []
    },
    {
      "cell_type": "code",
      "source": [
        "sc =StandardScaler()\n",
        "X = sc.fit_transform(df_ob1)"
      ],
      "metadata": {
        "id": "sX4Lc4jL0hQ6"
      },
      "execution_count": null,
      "outputs": []
    },
    {
      "cell_type": "code",
      "source": [
        "X"
      ],
      "metadata": {
        "id": "7vy7ueg91LHJ"
      },
      "execution_count": null,
      "outputs": []
    },
    {
      "cell_type": "code",
      "source": [
        "train_x,test_x,train_y,test_y = train_test_split(X,y,test_size=0.2)"
      ],
      "metadata": {
        "id": "hcFf384h1QaO"
      },
      "execution_count": null,
      "outputs": []
    },
    {
      "cell_type": "code",
      "source": [
        "log_clf = LogisticRegression()\n",
        "log_clf.fit(train_x,train_y)"
      ],
      "metadata": {
        "id": "_cnzbd342dK8"
      },
      "execution_count": null,
      "outputs": []
    },
    {
      "cell_type": "code",
      "source": [
        "predict_y = log_clf.predict(test_x)"
      ],
      "metadata": {
        "id": "-72FjgWZ25n1"
      },
      "execution_count": null,
      "outputs": []
    },
    {
      "cell_type": "code",
      "source": [
        "# we can also have probabilistic values\n",
        "log_clf.predict_proba(test_x)[:1]"
      ],
      "metadata": {
        "id": "_kQAHx0t3Ebr"
      },
      "execution_count": null,
      "outputs": []
    },
    {
      "cell_type": "code",
      "source": [
        "print(accuracy_score(test_y, predict_y))"
      ],
      "metadata": {
        "id": "DYOK26r_3sfU"
      },
      "execution_count": null,
      "outputs": []
    },
    {
      "cell_type": "code",
      "source": [
        "log_clf.classes_"
      ],
      "metadata": {
        "id": "sHZH8QgS5uwI"
      },
      "execution_count": null,
      "outputs": []
    },
    {
      "cell_type": "code",
      "source": [
        "# classification report\n",
        "clf_report = classification_report(test_y,predict_y)\n",
        "print(clf_report)\n"
      ],
      "metadata": {
        "id": "UgTw_8Ma6Xn9"
      },
      "execution_count": null,
      "outputs": []
    },
    {
      "cell_type": "markdown",
      "source": [
        "#Insurance Claim proejct"
      ],
      "metadata": {
        "id": "uwHlLMXw9XMD"
      }
    },
    {
      "cell_type": "code",
      "source": [
        "#@title Insurance Classification model\n",
        "import numpy as np\n",
        "import pandas as pd\n",
        "from sklearn.model_selection import cross_val_score,KFold,StratifiedKFold,train_test_split\n",
        "from sklearn.linear_model import LogisticRegression\n",
        "from sklearn.preprocessing import StandardScaler\n",
        "from sklearn.metrics import accuracy_score,classification_report\n",
        "import seaborn as sns\n",
        "import matplotlib.pyplot as plt\n"
      ],
      "metadata": {
        "id": "7fb8aboA9Zs9"
      },
      "execution_count": null,
      "outputs": []
    },
    {
      "cell_type": "code",
      "source": [
        "path_insurance = '/content/drive/MyDrive/MachineLearning/insurance.csv'"
      ],
      "metadata": {
        "id": "Xs4AaZ-r9qH7"
      },
      "execution_count": null,
      "outputs": []
    },
    {
      "cell_type": "code",
      "source": [
        "df_in = pd.read_csv(path_insurance)"
      ],
      "metadata": {
        "id": "LFfyZpaJ9y5j"
      },
      "execution_count": null,
      "outputs": []
    },
    {
      "cell_type": "code",
      "source": [
        "df_in"
      ],
      "metadata": {
        "id": "jG_u_KfGB-e2"
      },
      "execution_count": null,
      "outputs": []
    },
    {
      "cell_type": "code",
      "source": [
        "#@title Data Preprocessing or Cleaning\n",
        "df_in.shape"
      ],
      "metadata": {
        "id": "YSxD4rz1-XMp"
      },
      "execution_count": null,
      "outputs": []
    },
    {
      "cell_type": "code",
      "source": [
        "# check the missing values\n",
        "df_in.info()"
      ],
      "metadata": {
        "id": "mmi6RIco-8N_"
      },
      "execution_count": null,
      "outputs": []
    },
    {
      "cell_type": "code",
      "source": [
        "df_in.isna().sum()"
      ],
      "metadata": {
        "id": "B3Ao6ZNA_HG0"
      },
      "execution_count": null,
      "outputs": []
    },
    {
      "cell_type": "code",
      "source": [
        "df_in.describe()"
      ],
      "metadata": {
        "id": "wCNk418F_LSF"
      },
      "execution_count": null,
      "outputs": []
    },
    {
      "cell_type": "code",
      "source": [
        "#@title Exploratory Data Analysis\n",
        "plt.title(\"Age Distribution\")\n",
        "plt.xlabel(\"Age\")\n",
        "plt.ylabel(\"Count\")\n",
        "plt.hist(df_in['age'], bins=[15,20,25,30,35,40,45,50,55,60,65], width=3)\n",
        "plt.tight_layout()\n",
        "plt.show()"
      ],
      "metadata": {
        "id": "6Y8dj8tC_Yra"
      },
      "execution_count": null,
      "outputs": []
    },
    {
      "cell_type": "code",
      "source": [
        "plt.title(\"Gender Distribution\")\n",
        "sns.countplot(x='sex', data=df_in,hue='insuranceclaim')"
      ],
      "metadata": {
        "id": "ZImgjsxCA12S"
      },
      "execution_count": null,
      "outputs": []
    },
    {
      "cell_type": "code",
      "source": [
        "# BMI distribution\n",
        "plt.title(\"BMI distribution\")\n",
        "sns.histplot(df_in['bmi'], bins=20,kde=True,color='red')\n",
        "plt.show()"
      ],
      "metadata": {
        "id": "S-GDIzMfCTaP"
      },
      "execution_count": null,
      "outputs": []
    },
    {
      "cell_type": "code",
      "source": [
        "df_in['children'].value_counts()"
      ],
      "metadata": {
        "id": "7kA2H3HVC8Sl"
      },
      "execution_count": null,
      "outputs": []
    },
    {
      "cell_type": "code",
      "source": [
        "plt.title('children distribution')\n",
        "children_count = df_in['children'].value_counts()\n",
        "plt.barh(children_count.index,children_count)\n",
        "plt.xlabel('Count of number of children')\n",
        "plt.ylabel(\"number of children\")\n",
        "plt.show()"
      ],
      "metadata": {
        "id": "i0fLWjSVDgQc"
      },
      "execution_count": null,
      "outputs": []
    },
    {
      "cell_type": "code",
      "source": [
        "# bar plot for smokers\n",
        "sns.countplot(x='smoker', data=df_in,hue='insuranceclaim')"
      ],
      "metadata": {
        "id": "HPCTWLlGEUEg"
      },
      "execution_count": null,
      "outputs": []
    },
    {
      "cell_type": "code",
      "source": [
        "# analysis of medical expense of smokers vs non smokers\n",
        "fig,axes = plt.subplots(1,2,figsize=(14,5))\n",
        "# scatter plot for medical charges of non smokers\n",
        "sns.scatterplot(x=\"age\", y=\"charges\", data=df_in[df_in['smoker']==0], ax=axes[0])\n",
        "axes[0].set_title(\"Charges of Non Smokers\")\n",
        "axes[0].set_xlabel('Age')\n",
        "axes[0].set_ylabel('Medical_Expense')\n",
        "\n",
        "# scatter plot for smokers\n",
        "sns.scatterplot(x=\"age\", y=\"charges\", data=df_in[df_in['smoker']==1], ax=axes[1])\n",
        "axes[1].set_title(\"Charges of Smokers\")\n",
        "axes[1].set_xlabel('Age')\n",
        "axes[1].set_ylabel('Medical_Expense')\n",
        "\n",
        "plt.tight_layout()\n",
        "plt.show()"
      ],
      "metadata": {
        "id": "TSKbvhlJFD2q"
      },
      "execution_count": null,
      "outputs": []
    },
    {
      "cell_type": "code",
      "source": [
        "# prepare the data to fit into the model\n",
        "input = df_in.drop(columns=['insuranceclaim'])\n",
        "output = df_in['insuranceclaim']"
      ],
      "metadata": {
        "id": "nXpOz34THLKJ"
      },
      "execution_count": null,
      "outputs": []
    },
    {
      "cell_type": "code",
      "source": [
        "#split the data\n",
        "x_train,x_test,y_train,y_test = train_test_split(input,output,test_size=0.2)"
      ],
      "metadata": {
        "id": "TK7MGyZIHfs4"
      },
      "execution_count": null,
      "outputs": []
    },
    {
      "cell_type": "code",
      "source": [
        "log_ins = LogisticRegression()\n",
        "log_ins.fit(x_train,y_train)"
      ],
      "metadata": {
        "id": "HxRUsrskID43"
      },
      "execution_count": null,
      "outputs": []
    },
    {
      "cell_type": "code",
      "source": [
        "y_predict = log_ins.predict(x_test)"
      ],
      "metadata": {
        "id": "kdTWsqCvIMfK"
      },
      "execution_count": null,
      "outputs": []
    },
    {
      "cell_type": "code",
      "source": [
        "# classification report\n",
        "clf_report_insurance = classification_report(y_test,y_predict)\n",
        "print(clf_report_insurance)"
      ],
      "metadata": {
        "id": "M5f-UIf3Im2q"
      },
      "execution_count": null,
      "outputs": []
    },
    {
      "cell_type": "code",
      "source": [
        "#15.50"
      ],
      "metadata": {
        "id": "bvyuxaUmKzBT"
      },
      "execution_count": null,
      "outputs": []
    },
    {
      "cell_type": "code",
      "source": [
        "def entropy_cal(c1,c2):\n",
        "  e = -((c1/(c1+c2))*np.log((c1/(c1+c2))) +(c2/(c1+c2))*np.log((c1/(c1+c2))))\n",
        "  return e"
      ],
      "metadata": {
        "id": "nHZsX23bwkvB"
      },
      "execution_count": null,
      "outputs": []
    },
    {
      "cell_type": "code",
      "source": [
        "entropy_cal(8,7)"
      ],
      "metadata": {
        "id": "sGkHpROjyeEs"
      },
      "execution_count": null,
      "outputs": []
    },
    {
      "cell_type": "markdown",
      "source": [
        "#Decision tree Classifier"
      ],
      "metadata": {
        "id": "N3UzPdUe8D4u"
      }
    },
    {
      "cell_type": "code",
      "source": [
        "from sklearn.tree import DecisionTreeClassifier\n",
        "from sklearn.ensemble import RandomForestClassifier"
      ],
      "metadata": {
        "id": "S-hRyIJT59o_"
      },
      "execution_count": null,
      "outputs": []
    },
    {
      "cell_type": "code",
      "source": [
        "# instance of decision tree\n",
        "dct = DecisionTreeClassifier()"
      ],
      "metadata": {
        "id": "AeARjG4b8iI6"
      },
      "execution_count": null,
      "outputs": []
    },
    {
      "cell_type": "code",
      "source": [
        "dct.fit(x_train,y_train)"
      ],
      "metadata": {
        "id": "IsgF8Tze85Wp"
      },
      "execution_count": null,
      "outputs": []
    },
    {
      "cell_type": "code",
      "source": [
        "predicy_y_dct = dct.predict(x_test)"
      ],
      "metadata": {
        "id": "c9pVwn7v9Ckb"
      },
      "execution_count": null,
      "outputs": []
    },
    {
      "cell_type": "code",
      "source": [
        "# classification report\n",
        "clf_report_dct = classification_report(y_test,predicy_y_dct)\n",
        "print(clf_report_dct)"
      ],
      "metadata": {
        "id": "mm4gaC7m9aJB"
      },
      "execution_count": null,
      "outputs": []
    },
    {
      "cell_type": "code",
      "source": [
        "classification_report(y_test,predicy_y_dct)"
      ],
      "metadata": {
        "id": "SY01nbot9JBB"
      },
      "execution_count": null,
      "outputs": []
    },
    {
      "cell_type": "markdown",
      "source": [
        "#Random Forest Classifier"
      ],
      "metadata": {
        "id": "Tw44rvV5CeMj"
      }
    },
    {
      "cell_type": "code",
      "source": [
        "from sklearn.model_selection import KFold, cross_val_score\n",
        "from sklearn.ensemble import RandomForestClassifier\n",
        "max_trees = 101\n",
        "max_features = 3\n",
        "kfold = KFold(n_splits=5)\n",
        "model_rf = RandomForestClassifier(n_estimators=max_trees,max_features=max_features)\n",
        "results = cross_val_score(model_rf,input,output)\n",
        "print(results)"
      ],
      "metadata": {
        "id": "6KPhZw9zCdow"
      },
      "execution_count": null,
      "outputs": []
    },
    {
      "cell_type": "markdown",
      "source": [
        "Heart Disease Classifier using Decision tree and random forest"
      ],
      "metadata": {
        "id": "dc4ivKH7GRyR"
      }
    },
    {
      "cell_type": "code",
      "source": [
        "from google.colab import drive\n",
        "drive.mount('/content/drive')"
      ],
      "metadata": {
        "id": "reQv64WGGXrK"
      },
      "execution_count": null,
      "outputs": []
    },
    {
      "cell_type": "code",
      "source": [
        "from sklearn.tree import DecisionTreeClassifier\n",
        "from sklearn.ensemble import RandomForestClassifier\n",
        "from sklearn.linear_model import LogisticRegression\n",
        "from sklearn.ensemble import VotingClassifier\n",
        "from sklearn.model_selection import KFold, cross_val_score\n",
        "from sklearn.model_selection import RandomizedSearchCV,GridSearchCV\n",
        "from sklearn.metrics import accuracy_score, confusion_matrix\n",
        "import seaborn as sns\n",
        "import matplotlib.pyplot as plt\n",
        "from sklearn.preprocessing import LabelEncoder\n",
        "import pandas as pd\n",
        "import numpy as np"
      ],
      "metadata": {
        "id": "uh6-5mPeGhsQ"
      },
      "execution_count": null,
      "outputs": []
    },
    {
      "cell_type": "code",
      "source": [
        "path_heart = '/content/drive/MyDrive/MachineLearning/HeartDisease/heart.csv'"
      ],
      "metadata": {
        "id": "Rg_a3CCfHL1K"
      },
      "execution_count": null,
      "outputs": []
    },
    {
      "cell_type": "code",
      "source": [
        "df_heart = pd.read_csv(path_heart)"
      ],
      "metadata": {
        "id": "O8ghxWC3IhWQ"
      },
      "execution_count": null,
      "outputs": []
    },
    {
      "cell_type": "code",
      "source": [
        "df_heart.head()"
      ],
      "metadata": {
        "id": "oTu2J_EcIt67"
      },
      "execution_count": null,
      "outputs": []
    },
    {
      "cell_type": "code",
      "source": [
        "# shuffle the data\n",
        "df1 = df_heart.sample(frac=1).reset_index(drop=True)"
      ],
      "metadata": {
        "id": "jqffTK2TI0Zh"
      },
      "execution_count": null,
      "outputs": []
    },
    {
      "cell_type": "code",
      "source": [
        "df1"
      ],
      "metadata": {
        "id": "_pNFYOi2JTL-"
      },
      "execution_count": null,
      "outputs": []
    },
    {
      "cell_type": "code",
      "source": [
        "df1.isna().sum()"
      ],
      "metadata": {
        "id": "K6tJTjqeKI7i"
      },
      "execution_count": null,
      "outputs": []
    },
    {
      "cell_type": "code",
      "source": [
        "X_heart = df1.iloc[:,:-1].values\n",
        "y_heart = df1.iloc[:,-1].values"
      ],
      "metadata": {
        "id": "CUFFx6hJKGMf"
      },
      "execution_count": null,
      "outputs": []
    },
    {
      "cell_type": "code",
      "source": [
        "train_x,test_x, train_y,test_y = train_test_split(X_heart,y_heart,test_size=0.2)\n"
      ],
      "metadata": {
        "id": "pUBFkUJ1J5Wt"
      },
      "execution_count": null,
      "outputs": []
    },
    {
      "cell_type": "code",
      "source": [
        "# Voting Ensemble method for heart disease prediction\n",
        "kflod = KFold(n_splits=10)\n",
        "# estimator\n",
        "estimator=[]\n",
        "\n",
        "# Logisitic Regression Model\n",
        "model_lr = LogisticRegression()\n",
        "estimator.append(('logistic',model_lr))\n",
        "\n",
        "# Decision tree classifier model\n",
        "model_dtc = DecisionTreeClassifier()\n",
        "estimator.append(('cart',model_dtc))\n",
        "\n",
        "# create an ensemble voting classifier model\n",
        "ensemble_mdl = VotingClassifier(estimator)\n",
        "\n",
        "# results\n",
        "results = cross_val_score(ensemble_mdl,X_heart,y_heart,cv=kfold)\n",
        "\n"
      ],
      "metadata": {
        "id": "xiUpY7nUKhLv"
      },
      "execution_count": null,
      "outputs": []
    },
    {
      "cell_type": "code",
      "source": [
        "print(results.mean())"
      ],
      "metadata": {
        "id": "iNT8l-q9QJpB"
      },
      "execution_count": null,
      "outputs": []
    },
    {
      "cell_type": "markdown",
      "source": [
        "Prunning of  a Decision Tree"
      ],
      "metadata": {
        "id": "CdWjSgsOtovM"
      }
    },
    {
      "cell_type": "code",
      "source": [
        "from sklearn.tree import DecisionTreeClassifier\n",
        "from sklearn.ensemble import RandomForestClassifier\n",
        "from sklearn.linear_model import LogisticRegression, Ridge\n",
        "from sklearn.ensemble import VotingClassifier\n",
        "from sklearn.model_selection import KFold, cross_val_score, train_test_split\n",
        "from sklearn.model_selection import RandomizedSearchCV,GridSearchCV\n",
        "from sklearn.metrics import accuracy_score, confusion_matrix\n",
        "import seaborn as sns\n",
        "import matplotlib.pyplot as plt\n",
        "from sklearn.preprocessing import LabelEncoder\n",
        "import pandas as pd\n",
        "import numpy as np\n",
        "from sklearn import tree"
      ],
      "metadata": {
        "id": "avGUFR1QtsyO"
      },
      "execution_count": null,
      "outputs": []
    },
    {
      "cell_type": "code",
      "source": [
        "path_heart = '/content/drive/MyDrive/MachineLearning/HeartDisease/heart.csv'"
      ],
      "metadata": {
        "id": "TG0rPJqjtv53"
      },
      "execution_count": null,
      "outputs": []
    },
    {
      "cell_type": "code",
      "source": [
        "df_heart = pd.read_csv(path_heart)"
      ],
      "metadata": {
        "id": "EIpH4gDOtzKj"
      },
      "execution_count": null,
      "outputs": []
    },
    {
      "cell_type": "code",
      "source": [
        "# shuffle the data\n",
        "df1 = df_heart.sample(frac=1).reset_index(drop=True)"
      ],
      "metadata": {
        "id": "WMnYzACquA_m"
      },
      "execution_count": null,
      "outputs": []
    },
    {
      "cell_type": "code",
      "source": [
        "X_heart = df1.iloc[:,:-1].values\n",
        "y_heart = df1.iloc[:,-1].values"
      ],
      "metadata": {
        "id": "2VLus6Y-uDl8"
      },
      "execution_count": null,
      "outputs": []
    },
    {
      "cell_type": "code",
      "source": [
        "train_x,test_x, train_y,test_y = train_test_split(X_heart,y_heart,test_size=0.2)"
      ],
      "metadata": {
        "id": "sDXWzJ7yuGf7"
      },
      "execution_count": null,
      "outputs": []
    },
    {
      "cell_type": "code",
      "source": [
        "clf_dtc = DecisionTreeClassifier()\n",
        "clf_dtc.fit(train_x,train_y)"
      ],
      "metadata": {
        "id": "zmRmQVzQuUNF"
      },
      "execution_count": null,
      "outputs": []
    },
    {
      "cell_type": "code",
      "source": [
        "y_train_pred = clf_dtc.predict(train_x)\n",
        "y_test_pred = clf_dtc.predict(test_x)"
      ],
      "metadata": {
        "id": "BRhMkbp_ukrO"
      },
      "execution_count": null,
      "outputs": []
    },
    {
      "cell_type": "code",
      "source": [
        "# Visualization of Decision tree\n",
        "plt.figure(figsize=(16,16))\n",
        "features = df1.columns\n",
        "classes = ['No heart disease', 'Heart Disease']\n",
        "tree.plot_tree(clf_dtc,feature_names=features, class_names=classes,filled=True)\n",
        "plt.show()"
      ],
      "metadata": {
        "id": "HiLCZoRgvALj"
      },
      "execution_count": null,
      "outputs": []
    },
    {
      "cell_type": "code",
      "source": [
        "# confusion matrix function\n",
        "def plot_confusionmatrix(y_train_pred, y_train,val):\n",
        "  print(f'{val} Confusion Matrix')\n",
        "  cf = confusion_matrix(y_train_pred, y_train)\n",
        "  sns.heatmap(cf, annot=True, yticklabels=classes, xticklabels=classes,\n",
        "              cmap='Blues', fmt='g')\n",
        "  plt.tight_layout()\n",
        "  plt.show()\n"
      ],
      "metadata": {
        "id": "oJnSoAl8wYeh"
      },
      "execution_count": null,
      "outputs": []
    },
    {
      "cell_type": "code",
      "source": [
        "print(f'Train score{accuracy_score(y_train_pred, train_y)}')\n",
        "print(f'Test score{accuracy_score(y_test_pred, test_y)}')\n",
        "plot_confusionmatrix(y_train_pred, train_y,val='Train')"
      ],
      "metadata": {
        "id": "IHz0gcBCyVss"
      },
      "execution_count": null,
      "outputs": []
    },
    {
      "cell_type": "code",
      "source": [
        "plot_confusionmatrix(y_test_pred, test_y,val='Test')"
      ],
      "metadata": {
        "id": "bz30NQoryond"
      },
      "execution_count": null,
      "outputs": []
    },
    {
      "cell_type": "code",
      "source": [
        "# Till now we have seen that we have 100% accuracy in our model\n",
        "#100 % precision and recall\n",
        "# Bt in test cases we can easily say that our model is not giving 100%\n",
        "# pre prunning strategy\n",
        "# prepruning strategy is nothing bt stopping the growth of decison tree\n",
        "# on an early stage, For h=that we can restrict the growth of the tree by setting following constraints\n",
        "# max_depth, min_samples\n",
        "# min_sample leaf\n",
        "\n",
        "hyper_params = {\n",
        "    'max_depth' : [2,4,6,8,10,12],\n",
        "    'min_samples_split' :[2,3,4],\n",
        "    'min_samples_leaf' : [1,2]\n",
        "}\n",
        "\n",
        "clf_dtc1 = DecisionTreeClassifier()\n",
        "gcv= GridSearchCV(clf_dtc1, param_grid = hyper_params)\n",
        "gcv.fit(train_x,train_y)"
      ],
      "metadata": {
        "id": "7HZE6xqRzc0H"
      },
      "execution_count": null,
      "outputs": []
    },
    {
      "cell_type": "code",
      "source": [
        "# analysize the hyper params\n",
        "print(gcv.best_score_)"
      ],
      "metadata": {
        "id": "2TgQ_66j3odK"
      },
      "execution_count": null,
      "outputs": []
    },
    {
      "cell_type": "code",
      "source": [
        "print(gcv.best_estimator_.min_samples_leaf)"
      ],
      "metadata": {
        "id": "FQFdbDgb4VtK"
      },
      "execution_count": null,
      "outputs": []
    },
    {
      "cell_type": "code",
      "source": [
        "# Random Search CV: RandomizedSearchCV\n",
        "from scipy.stats import uniform\n",
        "hyper_params_random = {\n",
        "    'alpha' :uniform()\n",
        "}\n",
        "model = Ridge()\n",
        "rcv = RandomizedSearchCV(model, param_distributions=hyper_params_random)\n",
        "rcv.fit(train_x, train_y)"
      ],
      "metadata": {
        "id": "MnRX8n244wVq"
      },
      "execution_count": null,
      "outputs": []
    },
    {
      "cell_type": "code",
      "source": [
        "rcv.best_score_"
      ],
      "metadata": {
        "id": "NYGzbEHZ7OC6"
      },
      "execution_count": null,
      "outputs": []
    },
    {
      "cell_type": "markdown",
      "source": [
        "# Ensemble methods"
      ],
      "metadata": {
        "id": "s_LQJpcFCl0a"
      }
    },
    {
      "cell_type": "code",
      "source": [
        "from sklearn.model_selection import KFold,cross_val_predict\n",
        "import pandas as pd\n",
        "from sklearn.ensemble import BaggingClassifier,RandomForestClassifier\n",
        "from sklearn.tree import DecisionTreeClassifier\n"
      ],
      "metadata": {
        "id": "3mm2pEu0CkiT"
      },
      "execution_count": null,
      "outputs": []
    },
    {
      "cell_type": "code",
      "source": [
        "path_heart = '/content/drive/MyDrive/MachineLearning/HeartDisease/heart.csv'"
      ],
      "metadata": {
        "id": "fdZRftJTDtly"
      },
      "execution_count": null,
      "outputs": []
    },
    {
      "cell_type": "code",
      "source": [
        "df_heart = pd.read_csv(path_heart)"
      ],
      "metadata": {
        "id": "_b1qMLfpDuen"
      },
      "execution_count": null,
      "outputs": []
    },
    {
      "cell_type": "code",
      "source": [
        "X_heart = df1.iloc[:,:-1].values\n",
        "y_heart = df1.iloc[:,-1].values"
      ],
      "metadata": {
        "id": "yJECsLpxDyaB"
      },
      "execution_count": null,
      "outputs": []
    },
    {
      "cell_type": "code",
      "source": [
        "kfold = KFold(n_splits=10)\n",
        "cart = DecisionTreeClassifier()\n",
        "num_tree = 50\n",
        "model_bag = BaggingClassifier(cart, n_estimators=num_tree)\n",
        "results_bag = cross_val_score(model_bag,X_heart,y_heart, cv=kfold)"
      ],
      "metadata": {
        "id": "re8ETqdnEUqR"
      },
      "execution_count": null,
      "outputs": []
    },
    {
      "cell_type": "code",
      "source": [
        "results_bag.mean()"
      ],
      "metadata": {
        "id": "2GN-zfJrFGDp"
      },
      "execution_count": null,
      "outputs": []
    },
    {
      "cell_type": "code",
      "source": [
        "# Random Forest Classifier\n",
        "# in Bagging classifer we have all features available whereas in Random forest we\n",
        "# have variability and we can also avoid overfiitng in the decison trees by restricting num of faetures\n",
        "num_tree = 50³\n",
        "max_features=3\n",
        "rfc = RandomForestClassifier(n_estimators=num_tree, max_features=num_tree)\n",
        "results_rfc = cross_val_score(rfc,X_heart,y_heart,cv=kfold)"
      ],
      "metadata": {
        "id": "fXJ-DxY5Fbz0"
      },
      "execution_count": null,
      "outputs": []
    },
    {
      "cell_type": "code",
      "source": [
        "print(results_rfc.mean())"
      ],
      "metadata": {
        "id": "FsoDNGV1HhIF"
      },
      "execution_count": null,
      "outputs": []
    },
    {
      "cell_type": "markdown",
      "source": [
        "# Boosting Algorithm"
      ],
      "metadata": {
        "id": "M7osKz5xHvJg"
      }
    },
    {
      "cell_type": "code",
      "source": [
        "from sklearn.ensemble import AdaBoostClassifier\n",
        "model_adb = AdaBoostClassifier(n_estimators=num_tree)\n",
        "results_adb = cross_val_score(model_adb,X_heart,y_heart,cv=kfold)"
      ],
      "metadata": {
        "id": "VDIgDBgJHt8U"
      },
      "execution_count": null,
      "outputs": []
    },
    {
      "cell_type": "markdown",
      "source": [],
      "metadata": {
        "id": "EaiKZRq9KhZj"
      }
    },
    {
      "cell_type": "code",
      "source": [
        "results_adb.mean()"
      ],
      "metadata": {
        "id": "830OG5ROIj93"
      },
      "execution_count": null,
      "outputs": []
    },
    {
      "cell_type": "code",
      "source": [
        "# Gradient Boosting Classifier\n",
        "from sklearn.ensemble import GradientBoostingClassifier\n",
        "model_gbc = GradientBoostingClassifier(n_estimators=num_tree)\n",
        "results_gbc = cross_val_score(model_gbc,X_heart,y_heart,cv=kfold)\n"
      ],
      "metadata": {
        "id": "mb5o_r7RIs2m"
      },
      "execution_count": null,
      "outputs": []
    },
    {
      "cell_type": "code",
      "source": [
        "results_gbc.mean()"
      ],
      "metadata": {
        "id": "KIvfeLraKoev"
      },
      "execution_count": null,
      "outputs": []
    },
    {
      "cell_type": "markdown",
      "source": [
        "Support Vector Machines"
      ],
      "metadata": {
        "id": "XCR3hZf75Nsu"
      }
    },
    {
      "cell_type": "code",
      "source": [
        "import pandas as pd\n",
        "import numpy as np\n",
        "import matplotlib.pyplot as plt\n",
        "from sklearn import datasets\n",
        "from sklearn.svm import SVC\n",
        "from sklearn.model_selection import train_test_split\n",
        "from sklearn.preprocessing import StandardScaler\n",
        "from matplotlib.colors import ListedColormap\n",
        "%pylab inline"
      ],
      "metadata": {
        "id": "3Saxb6aU5TOa"
      },
      "execution_count": null,
      "outputs": []
    },
    {
      "cell_type": "code",
      "source": [
        "# we will use load_iris()\n",
        "# we use feature engineering here by using only two components petal length and .\n",
        "# petal width to do this analysis\n",
        "pylab.rcParams['figure.figsize']=(10,6)\n",
        "iris_data = datasets.load_iris()\n",
        "# we will use petal length and width for analysis\n",
        "X = iris_data.data[:,[2,3]]\n",
        "y = iris_data.target\n",
        "\n",
        "# place the data in to the data frame\n",
        "iris_df = pd.DataFrame(X,columns=iris_data.feature_names[2:])\n",
        "\n",
        "# view the first five rows of the sample\n",
        "print(iris_df.head())\n",
        "\n"
      ],
      "metadata": {
        "id": "97FrUGtf56J3"
      },
      "execution_count": null,
      "outputs": []
    },
    {
      "cell_type": "code",
      "source": [
        "x_train,x_test, y_train,y_test = train_test_split(X,y,test_size=0.2)\n",
        "print(x_train.shape)\n",
        "print(x_test.shape)"
      ],
      "metadata": {
        "id": "aRK8rD4v8D79"
      },
      "execution_count": null,
      "outputs": []
    },
    {
      "cell_type": "code",
      "source": [
        "# plot the data points\n",
        "markers = ('x','s','o')\n",
        "colors = ('red','green','blue')\n",
        "cmap = ListedColormap(colors[:len(np.unique(y_test))])\n",
        "for idx, cl in enumerate(np.unique(y)):\n",
        "  plt.scatter(x=X[y==cl,0], y=X[y==cl,1],\n",
        "              c=cmap(idx),marker=markers[idx], label=cl)"
      ],
      "metadata": {
        "id": "oLcoQQ7d8yLU"
      },
      "execution_count": null,
      "outputs": []
    },
    {
      "cell_type": "code",
      "source": [
        "# scaling the data\n",
        "sc_x = StandardScaler()\n",
        "x_train_sc = sc_x.fit_transform(x_train)"
      ],
      "metadata": {
        "id": "n4NieyA_-7Iz"
      },
      "execution_count": null,
      "outputs": []
    },
    {
      "cell_type": "code",
      "source": [
        "x_test_sc = sc_x.fit_transform(x_test)"
      ],
      "metadata": {
        "id": "afCQzOVH_VTN"
      },
      "execution_count": null,
      "outputs": []
    },
    {
      "cell_type": "code",
      "source": [
        "print(pd.DataFrame(x_train_sc,columns=iris_data.feature_names[2:]))"
      ],
      "metadata": {
        "id": "fPNY8xzM_Z1H"
      },
      "execution_count": null,
      "outputs": []
    },
    {
      "cell_type": "code",
      "source": [
        "# Model implementation\n",
        "svm = SVC(kernel='rbf', random_state=0, gamma=.10, C=1.0)\n",
        "svm.fit(x_train_sc,y_train)\n",
        "print('Accuracy of the model for training data is ', svm.score(x_train_sc,y_train))\n",
        "print('Accuracy of the model for test data is ', svm.score(x_test_sc,y_test))"
      ],
      "metadata": {
        "id": "0nzgaG0j_zdm"
      },
      "execution_count": null,
      "outputs": []
    },
    {
      "cell_type": "markdown",
      "source": [
        "Implementation of SVM on Income **Classifier**"
      ],
      "metadata": {
        "id": "5gia7jWWA_gj"
      }
    },
    {
      "cell_type": "code",
      "source": [
        "from google.colab import drive\n",
        "drive.mount('/content/drive')"
      ],
      "metadata": {
        "id": "5BKiP4mFCbYK"
      },
      "execution_count": null,
      "outputs": []
    },
    {
      "cell_type": "code",
      "source": [
        "import pandas as pd\n",
        "import numpy as np\n",
        "import matplotlib.pyplot as plt\n",
        "from sklearn import datasets\n",
        "from sklearn.svm import SVC\n",
        "from sklearn.model_selection import train_test_split\n",
        "from sklearn.preprocessing import StandardScaler, LabelEncoder\n",
        "from matplotlib.colors import ListedColormap\n",
        "from sklearn import datasets\n",
        "from sklearn.multiclass import OneVsOneClassifier,OneVsRestClassifier\n",
        "from sklearn.svm import LinearSVC,SVC\n",
        "%pylab inline"
      ],
      "metadata": {
        "id": "ZGA1snLXDFW2"
      },
      "execution_count": null,
      "outputs": []
    },
    {
      "cell_type": "code",
      "source": [
        "path_income = '/content/drive/MyDrive/MachineLearning/income.csv'"
      ],
      "metadata": {
        "id": "HwyFKx2uDPMe"
      },
      "execution_count": null,
      "outputs": []
    },
    {
      "cell_type": "code",
      "source": [
        "df_income = pd.read_csv(path_income)"
      ],
      "metadata": {
        "id": "LWPkbuvtDk4z"
      },
      "execution_count": null,
      "outputs": []
    },
    {
      "cell_type": "code",
      "source": [
        "df_income.head()"
      ],
      "metadata": {
        "id": "GAEon_o5DpRn"
      },
      "execution_count": null,
      "outputs": []
    },
    {
      "cell_type": "code",
      "source": [
        "# data preprocessing\n",
        "df_income.isna().sum()"
      ],
      "metadata": {
        "id": "HSGWBB_NFILZ"
      },
      "execution_count": null,
      "outputs": []
    },
    {
      "cell_type": "code",
      "source": [
        "df_income.describe()"
      ],
      "metadata": {
        "id": "Qy8JGjLXFPwQ"
      },
      "execution_count": null,
      "outputs": []
    },
    {
      "cell_type": "code",
      "source": [
        "df_income.nunique()"
      ],
      "metadata": {
        "id": "2-jMX9_7FqKG"
      },
      "execution_count": null,
      "outputs": []
    },
    {
      "cell_type": "code",
      "source": [
        "# to start in depth data preprocessing  we seperate categorical and continuos values\n",
        "df_income.describe(include=['object']).T"
      ],
      "metadata": {
        "id": "PmWZ0WcDF4Mm"
      },
      "execution_count": null,
      "outputs": []
    },
    {
      "cell_type": "code",
      "source": [
        "# looking at the categorical values\n",
        "cats = [i for i in df_income.columns if df_income[i].dtype == 'O']\n",
        "print(cats)"
      ],
      "metadata": {
        "id": "QEJ6DATgG7FZ"
      },
      "execution_count": null,
      "outputs": []
    },
    {
      "cell_type": "code",
      "source": [
        "for col in cats:\n",
        "  print(df_income[col].value_counts())"
      ],
      "metadata": {
        "id": "iT-NMeb-HWjQ"
      },
      "execution_count": null,
      "outputs": []
    },
    {
      "cell_type": "code",
      "source": [
        "# we replace the '?' with NaN\n",
        "df_income1 = df_income.replace(' ?', np.NaN)"
      ],
      "metadata": {
        "id": "pnuYc6wOH1hX"
      },
      "execution_count": null,
      "outputs": []
    },
    {
      "cell_type": "code",
      "source": [],
      "metadata": {
        "id": "FUroE1XdJDV9"
      },
      "execution_count": null,
      "outputs": []
    },
    {
      "cell_type": "code",
      "source": [
        "df_income1.isnull().sum()"
      ],
      "metadata": {
        "id": "SfYzJ2seIOSd"
      },
      "execution_count": null,
      "outputs": []
    },
    {
      "cell_type": "code",
      "source": [
        "# we fill up the categorical NaN values with mode value\n",
        "df_income1['JobType'].mode()[0]"
      ],
      "metadata": {
        "id": "1fXQ8jJ2JLDl"
      },
      "execution_count": null,
      "outputs": []
    },
    {
      "cell_type": "code",
      "source": [
        "df_income1['occupation'].mode()[0]"
      ],
      "metadata": {
        "id": "eoNEdxkLKVJ8"
      },
      "execution_count": null,
      "outputs": []
    },
    {
      "cell_type": "code",
      "source": [
        "df_income1['JobType'].fillna(df_income1['JobType'].mode()[0], inplace=True)"
      ],
      "metadata": {
        "id": "dXXcQ4-4JdC-"
      },
      "execution_count": null,
      "outputs": []
    },
    {
      "cell_type": "code",
      "source": [
        "df_income1['occupation'].fillna(df_income1['occupation'].mode()[0], inplace=True)"
      ],
      "metadata": {
        "id": "TG7WQ7yLJ7Mn"
      },
      "execution_count": null,
      "outputs": []
    },
    {
      "cell_type": "code",
      "source": [
        "df_income1.isna().sum()"
      ],
      "metadata": {
        "id": "W72QAXljKN7k"
      },
      "execution_count": null,
      "outputs": []
    },
    {
      "cell_type": "code",
      "source": [
        "# looking at the continuos values\n",
        "cont= [i for i in df_income.columns if df_income[i].dtype != 'O']\n",
        "print(cont)"
      ],
      "metadata": {
        "id": "Sz7w5JeOK_O5"
      },
      "execution_count": null,
      "outputs": []
    },
    {
      "cell_type": "code",
      "source": [
        "df_cont = df_income1[cont]"
      ],
      "metadata": {
        "id": "yYrHc_QiLGF9"
      },
      "execution_count": null,
      "outputs": []
    },
    {
      "cell_type": "code",
      "source": [
        "df_cont.isna().sum()"
      ],
      "metadata": {
        "id": "Hx0q9IZJLPQg"
      },
      "execution_count": null,
      "outputs": []
    },
    {
      "cell_type": "code",
      "source": [
        "df_cont.head()"
      ],
      "metadata": {
        "id": "6TAiG_9VLdBW"
      },
      "execution_count": null,
      "outputs": []
    },
    {
      "cell_type": "code",
      "source": [
        "df_cont.describe()"
      ],
      "metadata": {
        "id": "SjUiBSrALovD"
      },
      "execution_count": null,
      "outputs": []
    },
    {
      "cell_type": "code",
      "source": [
        "sc_x = StandardScaler()\n",
        "X_cont = sc_x.fit_transform(df_cont)\n",
        "X_cont"
      ],
      "metadata": {
        "id": "bCnyVsBNLvB9"
      },
      "execution_count": null,
      "outputs": []
    },
    {
      "cell_type": "code",
      "source": [
        "df_cont = pd.DataFrame(X_cont, columns=df_cont.columns)"
      ],
      "metadata": {
        "id": "w5F59kXuL_EC"
      },
      "execution_count": null,
      "outputs": []
    },
    {
      "cell_type": "code",
      "source": [
        "df_cont"
      ],
      "metadata": {
        "id": "XaXZ9uuJMIJv"
      },
      "execution_count": null,
      "outputs": []
    },
    {
      "cell_type": "code",
      "source": [
        "df_cat = df_income1[cats]"
      ],
      "metadata": {
        "id": "00xTXYmhMgZC"
      },
      "execution_count": null,
      "outputs": []
    },
    {
      "cell_type": "code",
      "source": [
        "df_cat = df_cat.iloc[:,:-1]"
      ],
      "metadata": {
        "id": "R-YBe8_uMQiX"
      },
      "execution_count": null,
      "outputs": []
    },
    {
      "cell_type": "code",
      "source": [
        "df_income1['SalStat'].value_counts()"
      ],
      "metadata": {
        "id": "AlaQ1YOuNi6k"
      },
      "execution_count": null,
      "outputs": []
    },
    {
      "cell_type": "code",
      "source": [
        "le = LabelEncoder()\n",
        "y = le.fit_transform(df_income1['SalStat'])"
      ],
      "metadata": {
        "id": "TUZqqadiMV7-"
      },
      "execution_count": null,
      "outputs": []
    },
    {
      "cell_type": "code",
      "source": [
        "y"
      ],
      "metadata": {
        "id": "195paxw2NzzV"
      },
      "execution_count": null,
      "outputs": []
    },
    {
      "cell_type": "code",
      "source": [
        "df_cat.shape"
      ],
      "metadata": {
        "id": "yXltFMJ1PjHb"
      },
      "execution_count": null,
      "outputs": []
    },
    {
      "cell_type": "code",
      "source": [
        "df_cat_en = pd.get_dummies(df_cat)"
      ],
      "metadata": {
        "id": "WTgmK5a4PwEq"
      },
      "execution_count": null,
      "outputs": []
    },
    {
      "cell_type": "code",
      "source": [
        "df_cat_en.shape"
      ],
      "metadata": {
        "id": "AePWhJLAP3AN"
      },
      "execution_count": null,
      "outputs": []
    },
    {
      "cell_type": "code",
      "source": [
        "df_final = pd.concat((df_cont,df_cat_en), axis=1)"
      ],
      "metadata": {
        "id": "KjlmsMIQP63T"
      },
      "execution_count": null,
      "outputs": []
    },
    {
      "cell_type": "code",
      "source": [],
      "metadata": {
        "id": "VJJAk4pVQnwW"
      },
      "execution_count": null,
      "outputs": []
    },
    {
      "cell_type": "code",
      "source": [
        "df_final.shape"
      ],
      "metadata": {
        "id": "VFxai_BtQHzE"
      },
      "execution_count": null,
      "outputs": []
    },
    {
      "cell_type": "code",
      "source": [
        "train_x,test_x,train_y,test_y = train_test_split(df_final, y, test_size=0.2)"
      ],
      "metadata": {
        "id": "lnzOc--YQKp7"
      },
      "execution_count": null,
      "outputs": []
    },
    {
      "cell_type": "code",
      "source": [
        "# Implementation of SVM\n",
        "svc_income = SVC(kernel='rbf', random_state=0, gamma=.10, C=1.0)\n",
        "svc_income.fit(train_x, train_y)"
      ],
      "metadata": {
        "id": "38n4ijNjQu9E"
      },
      "execution_count": null,
      "outputs": []
    },
    {
      "cell_type": "code",
      "source": [
        "predict_income = svc_income.predict(test_x)"
      ],
      "metadata": {
        "id": "f8vr5AqcRqvq"
      },
      "execution_count": null,
      "outputs": []
    },
    {
      "cell_type": "code",
      "source": [
        "print('mis classified samples %d' % (test_y != predict_income).sum())\n",
        "print(len(test_y))"
      ],
      "metadata": {
        "id": "XgMlhsQTSuyG"
      },
      "execution_count": null,
      "outputs": []
    },
    {
      "cell_type": "code",
      "source": [
        "svc_income.score(train_x,train_y)"
      ],
      "metadata": {
        "id": "DOL36IO1TDr_"
      },
      "execution_count": null,
      "outputs": []
    },
    {
      "cell_type": "code",
      "source": [
        "svc_income.score(test_x,test_y)"
      ],
      "metadata": {
        "id": "nCtHVspzTORb"
      },
      "execution_count": null,
      "outputs": []
    },
    {
      "cell_type": "code",
      "source": [
        "ovr_svm = OneVsRestClassifier(LinearSVC(random_state=0))\n",
        "ovr_svm.fit(train_x,train_y)"
      ],
      "metadata": {
        "id": "nrnGrtTW1vWM"
      },
      "execution_count": null,
      "outputs": []
    },
    {
      "cell_type": "code",
      "source": [
        "predict_y_ovr = ovr_svm.predict(test_x)"
      ],
      "metadata": {
        "id": "ojN3qRI-166o"
      },
      "execution_count": null,
      "outputs": []
    },
    {
      "cell_type": "code",
      "source": [
        "print('mis classified samples %d' % (test_y != predict_y_ovr).sum())"
      ],
      "metadata": {
        "id": "QUs1_RG02LFN"
      },
      "execution_count": null,
      "outputs": []
    },
    {
      "cell_type": "markdown",
      "source": [
        "#Unsupervised Learning"
      ],
      "metadata": {
        "id": "a-3LBl0kDc5C"
      }
    },
    {
      "cell_type": "code",
      "source": [
        "from google.colab import drive\n",
        "drive.mount('/content/drive')"
      ],
      "metadata": {
        "id": "hKFwJyDK2O_z"
      },
      "execution_count": null,
      "outputs": []
    },
    {
      "cell_type": "code",
      "source": [
        "import pandas as pd\n",
        "import numpy as np\n",
        "import seaborn as sns\n",
        "import matplotlib.pyplot as plt\n",
        "%matplotlib inline\n"
      ],
      "metadata": {
        "id": "75jkKN4lDzIr"
      },
      "execution_count": null,
      "outputs": []
    },
    {
      "cell_type": "code",
      "source": [
        "path_wholesale = '/content/drive/MyDrive/MachineLearning/Wholesale_data.csv'"
      ],
      "metadata": {
        "id": "a4W_62tmEbrx"
      },
      "execution_count": null,
      "outputs": []
    },
    {
      "cell_type": "code",
      "source": [
        "df_sales = pd.read_csv(path_wholesale)"
      ],
      "metadata": {
        "id": "gC91Uex2EmRz"
      },
      "execution_count": null,
      "outputs": []
    },
    {
      "cell_type": "code",
      "source": [
        "df_sales.head()"
      ],
      "metadata": {
        "id": "5Z606IwxE3q4"
      },
      "execution_count": null,
      "outputs": []
    },
    {
      "cell_type": "code",
      "source": [
        "df_sales.info()"
      ],
      "metadata": {
        "id": "Wp_eXnjOFMxS"
      },
      "execution_count": null,
      "outputs": []
    },
    {
      "cell_type": "code",
      "source": [
        "# let us see the coreation among them\n",
        "sns.heatmap(df_sales.corr(), annot=True)"
      ],
      "metadata": {
        "id": "G6mAj_cQFP-r"
      },
      "execution_count": null,
      "outputs": []
    },
    {
      "cell_type": "code",
      "source": [
        "df_data_con = df_sales.iloc[:,:-1]"
      ],
      "metadata": {
        "id": "eHxieJn0Fsfx"
      },
      "execution_count": null,
      "outputs": []
    },
    {
      "cell_type": "code",
      "source": [
        "df_data_con.shape"
      ],
      "metadata": {
        "id": "bsEgUAOMF7Qy"
      },
      "execution_count": null,
      "outputs": []
    },
    {
      "cell_type": "code",
      "source": [
        "cols = df_data_con.columns"
      ],
      "metadata": {
        "id": "LrxpX4tyGH9h"
      },
      "execution_count": null,
      "outputs": []
    },
    {
      "cell_type": "code",
      "source": [
        "print(cols)"
      ],
      "metadata": {
        "id": "IYVkpAi2GP5p"
      },
      "execution_count": null,
      "outputs": []
    },
    {
      "cell_type": "code",
      "source": [
        "# to calculate the inormation of one variable with other variables which are\n",
        "# multi collinear in nature is being estimated by VIF Variance Inflation Factor\n",
        "# if the value of vif comes between 0 to 5 means variable is not multicollinear in nature\n",
        "# if value comes between 5 and 15 we will say that it is considerable and we can scale down\n",
        "# the multi colliear nature of variables by doing standard scaler procedure\n",
        "# if value is above 15 we will say that we can drop the variable\n",
        "\n",
        "from statsmodels.stats.outliers_influence import variance_inflation_factor\n",
        "vif_data = pd.DataFrame()\n",
        "x = df_data_con\n",
        "vif_data[\"feature\"] = x.columns\n",
        "vif_data['VIF'] = [variance_inflation_factor(x.values,i) for i in range(len(x.columns))]\n",
        "vif_data"
      ],
      "metadata": {
        "id": "IF9CG3YVG773"
      },
      "execution_count": null,
      "outputs": []
    },
    {
      "cell_type": "code",
      "source": [
        "from sklearn.preprocessing import StandardScaler\n",
        "x_arr = np.array(x)\n",
        "scaler = StandardScaler()\n",
        "x_s = scaler.fit_transform(x_arr)"
      ],
      "metadata": {
        "id": "8ilfj5EiJY37"
      },
      "execution_count": null,
      "outputs": []
    },
    {
      "cell_type": "code",
      "source": [
        "# implement k-means algorithm\n",
        "from sklearn.datasets import make_blobs\n",
        "from sklearn.cluster import KMeans\n",
        "from operator import itemgetter\n",
        "# within the cluster sum of square\n",
        "wcss = []\n",
        "X = x_s\n",
        "for i in range(1,11):\n",
        "  kmeans = KMeans(n_clusters=i, init='k-means++', max_iter=300,n_init=10,random_state=0)\n",
        "  kmeans.fit(X)\n",
        "  wcss.append(kmeans.inertia_)\n",
        "plt.plot(range(1,11),wcss)\n",
        "plt.title(\"Elbow Method\")\n"
      ],
      "metadata": {
        "id": "HOq_qaaOJzQv"
      },
      "execution_count": null,
      "outputs": []
    },
    {
      "cell_type": "code",
      "source": [
        "# we will going to take 7 clusters as the last elbow bend is at 7\n",
        "# the line after that bend become parallel to x axis\n",
        "km = KMeans(n_clusters=7, init='k-means++', max_iter=300,n_init=10,random_state=0).fit(X)"
      ],
      "metadata": {
        "id": "I7GrsP6xLpbJ"
      },
      "execution_count": null,
      "outputs": []
    },
    {
      "cell_type": "code",
      "source": [
        "# division of data points wrt to clusters\n",
        "frame = pd.DataFrame()\n",
        "l = list(range(0, len(X)))\n",
        "frame['index'] = l\n",
        "frame['cluster label'] = km.labels_\n",
        "arr = np.array(frame['cluster label'])\n",
        "cluster_lbl = km.labels_"
      ],
      "metadata": {
        "id": "5MtSAex3MGGc"
      },
      "execution_count": null,
      "outputs": []
    },
    {
      "cell_type": "code",
      "source": [
        "frame['cluster label'].value_counts()"
      ],
      "metadata": {
        "id": "SQlhFE8dM51z"
      },
      "execution_count": null,
      "outputs": []
    },
    {
      "cell_type": "code",
      "source": [
        "np.unique(cluster_lbl)"
      ],
      "metadata": {
        "id": "4WnJSIrsNQz0"
      },
      "execution_count": null,
      "outputs": []
    },
    {
      "cell_type": "code",
      "source": [
        "dictt = dict(zip(l,cluster_lbl))"
      ],
      "metadata": {
        "id": "CU-1-km4NZNw"
      },
      "execution_count": null,
      "outputs": []
    },
    {
      "cell_type": "code",
      "source": [
        "dictt"
      ],
      "metadata": {
        "id": "YJWixu4bNoKd"
      },
      "execution_count": null,
      "outputs": []
    },
    {
      "cell_type": "code",
      "source": [
        "c0=[]\n",
        "c1=[]\n",
        "c2=[]\n",
        "c3=[]\n",
        "c4=[]\n",
        "c5=[]\n",
        "c6=[]\n",
        "for key, value in dictt.items():\n",
        "  if value==0:\n",
        "    c0.append(X[key])\n",
        "  elif value==1:\n",
        "    c1.append(X[key])\n",
        "  elif value==2:\n",
        "    c2.append(X[key])\n",
        "  elif value==3:\n",
        "    c3.append(X[key])\n",
        "  elif value==4:\n",
        "    c4.append(X[key])\n",
        "  elif value==5:\n",
        "    c5.append(X[key])\n",
        "  elif value==6:\n",
        "    c6.append(X[key])"
      ],
      "metadata": {
        "id": "VajNGpSTOCOC"
      },
      "execution_count": null,
      "outputs": []
    },
    {
      "cell_type": "code",
      "source": [
        "clusters = [c0,c1,c2,c3,c4,c5,c6]"
      ],
      "metadata": {
        "id": "pSL1n9k1GM6g"
      },
      "execution_count": null,
      "outputs": []
    },
    {
      "cell_type": "code",
      "source": [
        "np.sqrt(50)"
      ],
      "metadata": {
        "id": "qaHig_DBz_vY"
      },
      "execution_count": null,
      "outputs": []
    },
    {
      "cell_type": "code",
      "source": [
        "sepration = (6.32+7.07+8)/3"
      ],
      "metadata": {
        "id": "DYJJlo0J_GF_"
      },
      "execution_count": null,
      "outputs": []
    },
    {
      "cell_type": "code",
      "source": [
        "cohesion =(np.sqrt(2)+np.sqrt(5))/2"
      ],
      "metadata": {
        "id": "pEFT5uSU_fUT"
      },
      "execution_count": null,
      "outputs": []
    },
    {
      "cell_type": "code",
      "source": [
        "silhoutte_cefficent = (sepration-cohesion)/max(sepration,cohesion)"
      ],
      "metadata": {
        "id": "zPgIn884_Yq9"
      },
      "execution_count": null,
      "outputs": []
    },
    {
      "cell_type": "code",
      "source": [
        "silhoutte_cefficent"
      ],
      "metadata": {
        "id": "6VkXR24u_uaD"
      },
      "execution_count": null,
      "outputs": []
    },
    {
      "cell_type": "code",
      "source": [
        "# code for silhouette coefficent\n",
        "def euclidean_dist(point1, point2):\n",
        "  val = 0\n",
        "  p1_arr = np.array(point1)\n",
        "  p2_arr = np.array(point2)\n",
        "  for i in range(len(point1)):\n",
        "    val = val + abs((p1_arr[i]-p2_arr[i])**2)\n",
        "  return np.sqrt(val)"
      ],
      "metadata": {
        "id": "o9KB_HoI_65d"
      },
      "execution_count": null,
      "outputs": []
    },
    {
      "cell_type": "code",
      "source": [
        "euclidean_dist((1,4,3),(2,3,5))"
      ],
      "metadata": {
        "id": "MUSaJmyAA3Ly"
      },
      "execution_count": null,
      "outputs": []
    },
    {
      "cell_type": "code",
      "source": [
        "def cohesion(point, clstr_own):\n",
        "  coh = []\n",
        "  for row in clstr_own:\n",
        "    dist = euclidean_dist(point, row)\n",
        "    coh.append(dist)\n",
        "  return np.array(coh).mean()"
      ],
      "metadata": {
        "id": "qTxoGEPjBABD"
      },
      "execution_count": null,
      "outputs": []
    },
    {
      "cell_type": "code",
      "source": [
        "cohesion((8, 3),[(8, 3),(9, 2),(10,5)])"
      ],
      "metadata": {
        "id": "i9Sx3EJvHBMh"
      },
      "execution_count": null,
      "outputs": []
    },
    {
      "cell_type": "code",
      "source": [
        "def sepration(point, outer_clusters):\n",
        "  sep = []\n",
        "  for cluster in outer_clusters:\n",
        "    dist = []\n",
        "    for row in cluster:\n",
        "      dist.append(euclidean_dist(point,row))\n",
        "    sep.append(np.array(dist).mean())\n",
        "  return min(sep)\n",
        "\n"
      ],
      "metadata": {
        "id": "lXogZSonByhd"
      },
      "execution_count": null,
      "outputs": []
    },
    {
      "cell_type": "code",
      "source": [
        "sepration((2,5), [[(8, 3),(9, 2),(10,5)],[(6,10),(7,8),(8,9)]])"
      ],
      "metadata": {
        "id": "O99JT2BGDE55"
      },
      "execution_count": null,
      "outputs": []
    },
    {
      "cell_type": "code",
      "source": [
        "def schi_score(cluster, clusters):\n",
        "  score_var =[]\n",
        "  for point in cluster:\n",
        "    point_cohesion = cohesion(point,cluster)\n",
        "    point_sepration = sepration(point, clusters)\n",
        "    schi = (point_sepration-point_cohesion)/max(point_cohesion, point_sepration)\n",
        "    score_var.append(schi)\n",
        "  return (np.array(score_var).mean())"
      ],
      "metadata": {
        "id": "PJklnmkADk2D"
      },
      "execution_count": null,
      "outputs": []
    },
    {
      "cell_type": "code",
      "source": [
        "schi_score([(2,5),(2,3),(3,6)],[[(8, 3),(9, 2),(10,5)],[(6,10),(7,8),(8,9)]])"
      ],
      "metadata": {
        "id": "oeydfAFWHZ4v"
      },
      "execution_count": null,
      "outputs": []
    },
    {
      "cell_type": "code",
      "source": [
        "def schilouette(clusters):\n",
        "  score =[]\n",
        "  for i in range(len(clusters)):\n",
        "    arr = [clusters[(i+1)%5],clusters[(i+2)%5],clusters[(i+3)%5],clusters[(i+4)%5]]\n",
        "    sc = schi_score(clusters[i], arr)\n",
        "    print(sc)\n",
        "    score.append(sc)\n",
        "  return score"
      ],
      "metadata": {
        "id": "Dn0ISj5BE6dD"
      },
      "execution_count": null,
      "outputs": []
    },
    {
      "cell_type": "code",
      "source": [
        "final_score = schilouette(clusters)"
      ],
      "metadata": {
        "id": "uPejVSEEF7lZ"
      },
      "execution_count": null,
      "outputs": []
    },
    {
      "cell_type": "markdown",
      "source": [
        "Hirearichal Agglomerative Clustering\n"
      ],
      "metadata": {
        "id": "eCGfdDJ3LyCR"
      }
    },
    {
      "cell_type": "code",
      "source": [
        "df = pd.DataFrame(data=X, columns=cols)"
      ],
      "metadata": {
        "id": "Qr9CGLYQL5Ag"
      },
      "execution_count": null,
      "outputs": []
    },
    {
      "cell_type": "code",
      "source": [
        "df"
      ],
      "metadata": {
        "id": "85TRKexhMILj"
      },
      "execution_count": null,
      "outputs": []
    },
    {
      "cell_type": "code",
      "source": [
        "df.info()"
      ],
      "metadata": {
        "id": "Gn1fWNWBMMPu"
      },
      "execution_count": null,
      "outputs": []
    },
    {
      "cell_type": "code",
      "source": [
        "# important libraries for HAC\n",
        "import scipy.cluster.hierarchy as shc\n",
        "plt.figure(figsize=(10,7))\n",
        "plt.title(\"Dendograms\")\n",
        "dend = shc.dendrogram(shc.linkage(df, method='ward'))"
      ],
      "metadata": {
        "id": "XzxK_574NE3M"
      },
      "execution_count": null,
      "outputs": []
    },
    {
      "cell_type": "code",
      "source": [
        "plt.figure(figsize=(10,7))\n",
        "plt.title(\"Dendrograms\")\n",
        "dend = shc.dendrogram(shc.linkage(df, method='ward'))\n",
        "plt.axhline(y=35, color='r',linestyle='--')"
      ],
      "metadata": {
        "id": "_kdbed8OPma0"
      },
      "execution_count": null,
      "outputs": []
    },
    {
      "cell_type": "code",
      "source": [
        "from sklearn.cluster import AgglomerativeClustering\n",
        "cluster = AgglomerativeClustering(n_clusters=3, affinity='euclidean', linkage='ward')\n",
        "cluster.fit_predict(df)"
      ],
      "metadata": {
        "id": "DdWRdlNJQw79"
      },
      "execution_count": null,
      "outputs": []
    },
    {
      "cell_type": "markdown",
      "source": [
        "Principle Component Analysis and its uses in clustering"
      ],
      "metadata": {
        "id": "MXq8FPWvRwwO"
      }
    },
    {
      "cell_type": "code",
      "source": [
        "# Libraries for PCA\n",
        "from sklearn.decomposition import PCA\n",
        "# initialize the kernel\n",
        "pca = PCA(n_components=2)\n",
        "x_pca = pca.fit_transform(df)"
      ],
      "metadata": {
        "id": "2uGxXiKyR0m8"
      },
      "execution_count": null,
      "outputs": []
    },
    {
      "cell_type": "code",
      "source": [
        "# P1: principal axis 1, P2: principal axis 2\n",
        "df_pca = pd.DataFrame(data=x_pca, columns=[\"P1\", \"P2\"])\n"
      ],
      "metadata": {
        "id": "HPWa1pz7UwTl"
      },
      "execution_count": null,
      "outputs": []
    },
    {
      "cell_type": "code",
      "source": [
        "df_pca.head()"
      ],
      "metadata": {
        "id": "W-VePqcdVT0t"
      },
      "execution_count": null,
      "outputs": []
    },
    {
      "cell_type": "code",
      "source": [
        "plt.figure(figsize=(8,8))\n",
        "plt.title('Visualizing the data')\n",
        "dendogram_pca = shc.dendrogram((shc.linkage(df_pca, method='ward')))"
      ],
      "metadata": {
        "id": "GR1MDrChVXqr"
      },
      "execution_count": null,
      "outputs": []
    },
    {
      "cell_type": "code",
      "source": [
        "# we will build and visualize the different clusters\n",
        "# here c is no. of clusters\n",
        "acc_pca_2 = AgglomerativeClustering(n_clusters=2)\n",
        "plt.figure(figsize=(6,6))\n",
        "plt.scatter(df_pca['P1'], df_pca['P2'], c=acc_pca_2.fit_predict(df_pca), cmap='rainbow')\n",
        "plt.show()"
      ],
      "metadata": {
        "id": "wh1GOtopWJw8"
      },
      "execution_count": null,
      "outputs": []
    },
    {
      "cell_type": "code",
      "source": [
        "# we will build and visualize the different clusters\n",
        "# here c is no. of clusters\n",
        "acc_pca_3 = AgglomerativeClustering(n_clusters=3)\n",
        "plt.figure(figsize=(6,6))\n",
        "plt.scatter(df_pca['P1'], df_pca['P2'], c=acc_pca_3.fit_predict(df_pca), cmap='rainbow')\n",
        "plt.show()"
      ],
      "metadata": {
        "id": "Ps_huponXBFi"
      },
      "execution_count": null,
      "outputs": []
    },
    {
      "cell_type": "code",
      "source": [
        "# we will build and visualize the different clusters\n",
        "# here c is no. of clusters\n",
        "acc_pca_4 = AgglomerativeClustering(n_clusters=4)\n",
        "plt.figure(figsize=(6,6))\n",
        "plt.scatter(df_pca['P1'], df_pca['P2'], c=acc_pca_4.fit_predict(df_pca), cmap='rainbow')\n",
        "plt.show()"
      ],
      "metadata": {
        "id": "4iwUbgBNXPac"
      },
      "execution_count": null,
      "outputs": []
    },
    {
      "cell_type": "code",
      "source": [
        "# we will build and visualize the different clusters\n",
        "# here c is no. of clusters\n",
        "acc_pca_5 = AgglomerativeClustering(n_clusters=5)\n",
        "plt.figure(figsize=(6,6))\n",
        "plt.scatter(df_pca['P1'], df_pca['P2'], c=acc_pca_5.fit_predict(df_pca), cmap='rainbow')\n",
        "plt.show()"
      ],
      "metadata": {
        "id": "zxJtXqNTXZ-2"
      },
      "execution_count": null,
      "outputs": []
    },
    {
      "cell_type": "code",
      "source": [
        "# we will build and visualize the different clusters\n",
        "# here c is no. of clusters\n",
        "acc_pca_6 = AgglomerativeClustering(n_clusters=6)\n",
        "plt.figure(figsize=(6,6))\n",
        "plt.scatter(df_pca['P1'], df_pca['P2'], c=acc_pca_6.fit_predict(df_pca), cmap='rainbow')\n",
        "plt.show()"
      ],
      "metadata": {
        "id": "nY1USXqMXpTG"
      },
      "execution_count": null,
      "outputs": []
    },
    {
      "cell_type": "code",
      "source": [
        "from sklearn.metrics import silhouette_score"
      ],
      "metadata": {
        "id": "WwRjuBYjZCpF"
      },
      "execution_count": null,
      "outputs": []
    },
    {
      "cell_type": "code",
      "source": [
        "clusters_pca = [2,3,4,5,6]\n",
        "# appending the silhoutte coefficent\n",
        "silhout_sc=[]\n",
        "silhout_sc.append(silhouette_score(df_pca, acc_pca_2.fit_predict(df_pca)))\n",
        "silhout_sc.append(silhouette_score(df_pca, acc_pca_3.fit_predict(df_pca)))\n",
        "silhout_sc.append(silhouette_score(df_pca, acc_pca_4.fit_predict(df_pca)))\n",
        "silhout_sc.append(silhouette_score(df_pca, acc_pca_5.fit_predict(df_pca)))\n",
        "silhout_sc.append(silhouette_score(df_pca, acc_pca_6.fit_predict(df_pca)))"
      ],
      "metadata": {
        "id": "FZ_La3M_XxVR"
      },
      "execution_count": null,
      "outputs": []
    },
    {
      "cell_type": "code",
      "source": [
        "# plotting the bar graph to compare the results\n",
        "plt.bar(clusters_pca, silhout_sc)\n",
        "plt.xlabel(\"Number of clusters\", fontsize=20)\n",
        "plt.ylabel('S(i)', fontsize=20)\n",
        "plt.show()\n"
      ],
      "metadata": {
        "id": "SKb3nmrkZkPy"
      },
      "execution_count": null,
      "outputs": []
    },
    {
      "cell_type": "markdown",
      "source": [
        "# Capstone Project: Credit Card Fraud Detection"
      ],
      "metadata": {
        "id": "f9xW08tiv0C0"
      }
    },
    {
      "cell_type": "code",
      "source": [
        "#@title Connecting google drive to colab\n",
        "from google.colab import drive\n",
        "drive.mount('/content/drive/')"
      ],
      "metadata": {
        "id": "n8pw4cIov70v"
      },
      "execution_count": null,
      "outputs": []
    },
    {
      "cell_type": "code",
      "source": [
        "#@title Importing Libraries\n",
        "import numpy as np\n",
        "import pandas as pd\n",
        "import seaborn as sns\n",
        "import matplotlib.pyplot as plt\n",
        "# SMOTE library\n",
        "from imblearn.over_sampling import SMOTE\n",
        "# for splitting the data\n",
        "from sklearn.model_selection import train_test_split\n",
        "# for hyper parameter optimization\n",
        "from sklearn.model_selection import GridSearchCV\n",
        "# Library for logistic regression classification\n",
        "from sklearn.linear_model import LogisticRegression\n",
        "# Normalization\n",
        "from sklearn.preprocessing import StandardScaler,RobustScaler\n",
        "# Ensemble methods\n",
        "from sklearn.ensemble import RandomForestClassifier\n",
        "from sklearn.ensemble import VotingClassifier\n",
        "# cross validation\n",
        "from sklearn.model_selection import KFold\n",
        "# Support Vector Machines\n",
        "from sklearn.svm import SVC\n",
        "# Decision Tree\n",
        "from sklearn.tree import DecisionTreeClassifier\n",
        "# import warning package\n",
        "import warnings\n",
        "warnings.filterwarnings('ignore')\n",
        "# metrics for classification\n",
        "from sklearn.metrics import accuracy_score,precision_score,classification_report\n",
        "# ROC Curve and AUC score\n",
        "from sklearn.metrics import roc_curve,roc_auc_score\n"
      ],
      "metadata": {
        "id": "RmWE81s7yCZU"
      },
      "execution_count": null,
      "outputs": []
    },
    {
      "cell_type": "code",
      "source": [
        "card_path = '/content/drive/MyDrive/MachineLearning/creditcard.csv'"
      ],
      "metadata": {
        "id": "w8O8SrCgx5Ax"
      },
      "execution_count": null,
      "outputs": []
    },
    {
      "cell_type": "code",
      "source": [
        "df_card = pd.read_csv(card_path)"
      ],
      "metadata": {
        "id": "tR5WkGaH14F7"
      },
      "execution_count": null,
      "outputs": []
    },
    {
      "cell_type": "code",
      "source": [
        "df_card.head(n=10)"
      ],
      "metadata": {
        "id": "7bselXP12E4C"
      },
      "execution_count": null,
      "outputs": []
    },
    {
      "cell_type": "code",
      "source": [
        "df2 = df_card.copy()"
      ],
      "metadata": {
        "id": "3pBYpXce2K_t"
      },
      "execution_count": null,
      "outputs": []
    },
    {
      "cell_type": "code",
      "source": [
        "#count plot\n",
        "sns.countplot(df2, x='Class')\n",
        "plt.title(\"Countplot for Class\")\n",
        "plt.show()"
      ],
      "metadata": {
        "id": "kMJC4ZDl2YNz"
      },
      "execution_count": null,
      "outputs": []
    },
    {
      "cell_type": "code",
      "source": [
        "# count each component value\n",
        "df2['Class'].value_counts()"
      ],
      "metadata": {
        "id": "fkxD0aIx2x3c"
      },
      "execution_count": null,
      "outputs": []
    },
    {
      "cell_type": "code",
      "source": [
        "# information about the columns\n",
        "df2.info()"
      ],
      "metadata": {
        "id": "PorPeQTJ3gfx"
      },
      "execution_count": null,
      "outputs": []
    },
    {
      "cell_type": "code",
      "source": [
        "sns.boxplot(df2,x='Amount')\n",
        "plt.title(\"Amount Box plot\")\n",
        "plt.show()"
      ],
      "metadata": {
        "id": "8z8hVNwV3yg0"
      },
      "execution_count": null,
      "outputs": []
    },
    {
      "cell_type": "code",
      "source": [
        "# distribution of time and Amount\n",
        "fig, ax = plt.subplots(1,2,figsize=(18,4))\n",
        "amount_val = df2['Amount'].values\n",
        "time_val = df2['Time'].values\n",
        "\n",
        "sns.distplot(amount_val,ax=ax[0],color='r')\n",
        "ax[0].set_title('Distribution of Transaction amount')\n",
        "ax[0].set_xlim([min(amount_val), max(amount_val)])\n",
        "\n",
        "sns.distplot(time_val, ax=ax[1], color='b')\n",
        "ax[1].set_title('Distibution of Transaction time')\n",
        "ax[1].set_xlim([min(time_val), max(time_val)])\n",
        "\n",
        "plt.show()"
      ],
      "metadata": {
        "id": "_NFYBB_84TVs"
      },
      "execution_count": null,
      "outputs": []
    },
    {
      "cell_type": "code",
      "source": [
        "# Robust scaler we are usung for normalization because the data which is to be transfromed contains outliers\n",
        "rob_scaler = RobustScaler()\n",
        "df2['scaled_amount'] = rob_scaler.fit_transform(df2['Amount'].values.reshape(-1,1))\n",
        "df2['scaled_time'] = rob_scaler.fit_transform(df2['Time'].values.reshape(-1,1))"
      ],
      "metadata": {
        "id": "gX7-W2FX6Vua"
      },
      "execution_count": null,
      "outputs": []
    },
    {
      "cell_type": "code",
      "source": [
        "df3 = df2.sample(frac=1)"
      ],
      "metadata": {
        "id": "IbsRiu3H7g6P"
      },
      "execution_count": null,
      "outputs": []
    },
    {
      "cell_type": "code",
      "source": [
        "df2.Class.value_counts()"
      ],
      "metadata": {
        "id": "CtL27E9v7sG2"
      },
      "execution_count": null,
      "outputs": []
    },
    {
      "cell_type": "code",
      "source": [
        "# as value of Class 1 are too low. so we could use SMOTE Strategy\n",
        "# related to class 1\n",
        "smote = SMOTE()\n",
        "X = df3.drop('Class', axis=1)\n",
        "y = df3['Class']\n",
        "x_smote,y_smote = smote.fit_resample(X,y)\n",
        "print(x_smote.shape)\n",
        "print(y_smote.shape)"
      ],
      "metadata": {
        "id": "43N2CwJT8BaS"
      },
      "execution_count": null,
      "outputs": []
    },
    {
      "cell_type": "code",
      "source": [
        "# explore the value of y_smote\n",
        "y_smote.value_counts().plot(kind='bar', color=['red','blue'])"
      ],
      "metadata": {
        "id": "OCwDyJCJ9ulO"
      },
      "execution_count": null,
      "outputs": []
    },
    {
      "cell_type": "code",
      "source": [
        "# Train the model\n",
        "X_train, X_test, y_train,y_test = train_test_split(x_smote,y_smote,test_size=0.2)"
      ],
      "metadata": {
        "id": "e1v5d9NY-NSJ"
      },
      "execution_count": null,
      "outputs": []
    },
    {
      "cell_type": "code",
      "source": [
        "# Train the model\n",
        "model_lg = LogisticRegression()\n",
        "hist1 = model_lg.fit(X_train,y_train)"
      ],
      "metadata": {
        "id": "69ifW_NF-f0w"
      },
      "execution_count": null,
      "outputs": []
    },
    {
      "cell_type": "code",
      "source": [
        "# Evaluate the model\n",
        "predictions = model_lg.predict(X_test)\n",
        "accuracy = accuracy_score(y_test, predictions)\n",
        "print(\"Accuracy score is %d\", accuracy)"
      ],
      "metadata": {
        "id": "1w4iU4-Y-6N7"
      },
      "execution_count": null,
      "outputs": []
    },
    {
      "cell_type": "code",
      "source": [
        "# Generate the classification report\n",
        "report = classification_report(y_test,predictions)\n",
        "print(\"the classification report is %d\",report)"
      ],
      "metadata": {
        "id": "H66tUq-n__VE"
      },
      "execution_count": null,
      "outputs": []
    },
    {
      "cell_type": "code",
      "source": [
        "# Random Forest for binary classification of credit card fraud detection\n",
        "model_rf = RandomForestClassifier(n_estimators=10)\n",
        "# fit the random forest\n",
        "model_rf.fit(X_train,y_train)"
      ],
      "metadata": {
        "id": "bo5tos2lAuDq"
      },
      "execution_count": null,
      "outputs": []
    },
    {
      "cell_type": "code",
      "source": [
        "# Evaluation of the model on the basis of Random Forest\n",
        "prediction_rf = model_rf.predict(X_test)\n",
        "accuracy_rf = accuracy_score(y_test,prediction_rf)\n",
        "print(\"Test Accuracy\",accuracy_rf)"
      ],
      "metadata": {
        "id": "W23M2qsbEKfL"
      },
      "execution_count": null,
      "outputs": []
    },
    {
      "cell_type": "code",
      "source": [
        "# Decision tree classifier\n",
        "dct = DecisionTreeClassifier()\n",
        "dct.fit(X_train, y_train)"
      ],
      "metadata": {
        "id": "BVy3FdxGFPNN"
      },
      "execution_count": null,
      "outputs": []
    },
    {
      "cell_type": "code",
      "source": [
        "pred_y_dtc = dct.predict(X_test)"
      ],
      "metadata": {
        "id": "ikDKy-PJFo7d"
      },
      "execution_count": null,
      "outputs": []
    },
    {
      "cell_type": "code",
      "source": [
        "#classification report\n",
        "clf_report = classification_report(y_test,pred_y_dtc)\n",
        "print(clf_report)"
      ],
      "metadata": {
        "id": "D0uPkwpSGrBK"
      },
      "execution_count": null,
      "outputs": []
    },
    {
      "cell_type": "markdown",
      "source": [
        "Support Vector Machines: Support Vector Classifier\n"
      ],
      "metadata": {
        "id": "z_BtYiC5HGR_"
      }
    },
    {
      "cell_type": "code",
      "source": [
        "svc_kernel_rbf = SVC(kernel='rbf')"
      ],
      "metadata": {
        "id": "rCEjkRQ2IE6t"
      },
      "execution_count": null,
      "outputs": []
    },
    {
      "cell_type": "code",
      "source": [
        "# fitting the support vector classifier\n",
        "model_svc_rbf = svc_kernel.fit(X_train,y_train)"
      ],
      "metadata": {
        "id": "i4J7msAmIlx7"
      },
      "execution_count": null,
      "outputs": []
    },
    {
      "cell_type": "code",
      "source": [
        "svc_kernel_rbf = SVC(kernel='linear')"
      ],
      "metadata": {
        "id": "kj2aTAeZKc2U"
      },
      "execution_count": null,
      "outputs": []
    },
    {
      "cell_type": "code",
      "source": [
        "# fitting the support vector classifier\n",
        "model_svc_rbf = svc_kernel.fit(X_train,y_train)"
      ],
      "metadata": {
        "id": "dmCM4nB-LUOo"
      },
      "execution_count": null,
      "outputs": []
    },
    {
      "cell_type": "code",
      "source": [
        "# Roc curve implementation\n",
        "pred_prob_log = model_lg.predict_proba(X_test)\n",
        "pred_prob_rnd = model_rf.predict_proba(X_test)\n",
        "pred_prob_dtc = dct.predict_proba(X_test)"
      ],
      "metadata": {
        "id": "xyF5bcxGLU76"
      },
      "execution_count": null,
      "outputs": []
    },
    {
      "cell_type": "code",
      "source": [
        "# draw the ROC curve for different models\n",
        "# logisitc regression estimators\n",
        "fpr1, tpr1,thresh1 = roc_curve(y_test,predictions)\n",
        "# random forest classifier estimator\n",
        "fpr2, tpr2,thresh2 = roc_curve(y_test,prediction_rf)\n",
        "# decision tree estimator\n",
        "fpr3, tpr3,thresh3 = roc_curve(y_test,pred_y_dtc)\n",
        "\n"
      ],
      "metadata": {
        "id": "-lMe6IlUPpAX"
      },
      "execution_count": null,
      "outputs": []
    },
    {
      "cell_type": "code",
      "source": [
        "# roc curve for TPR = FPR\n",
        "random_probs = [0 for i in range(len(y_test))]\n",
        "p_fpr, p_tpr,_ = roc_curve(y_test,random_probs,pos_label=1)"
      ],
      "metadata": {
        "id": "S9GD_B5PQ35Y"
      },
      "execution_count": null,
      "outputs": []
    },
    {
      "cell_type": "code",
      "source": [
        "# AUC Score\n",
        "auc_score_log = roc_auc_score(y_test,pred_prob_log[:,1] )\n",
        "auc_score_rnd = roc_auc_score(y_test,pred_prob_rnd[:,1] )\n",
        "auc_score_dtc = roc_auc_score(y_test,pred_prob_dtc[:,1] )\n",
        "print(auc_score_log,auc_score_rnd,auc_score_dtc)"
      ],
      "metadata": {
        "colab": {
          "base_uri": "https://localhost:8080/"
        },
        "id": "rELgZRSoRuNI",
        "outputId": "5bdf9105-9a65-4977-e4c3-3f3621179cc0"
      },
      "execution_count": null,
      "outputs": [
        {
          "output_type": "stream",
          "name": "stdout",
          "text": [
            "0.9952018839903699 0.9999821468018482 0.9988046217389747\n"
          ]
        }
      ]
    },
    {
      "cell_type": "code",
      "source": [
        "# matplotlib for plotting the curve\n",
        "import matplotlib.pyplot as plt\n",
        "plt.style.use('seaborn')\n",
        "\n",
        "# lot the roc curves\n",
        "plt.plot(fpr1, tpr1, linestyle='--', color='orange', label='Logistic Regression')\n",
        "plt.plot(fpr2, tpr2, linestyle='--', color='red', label='Random Forest Classifier')\n",
        "plt.plot(fpr3, tpr3, linestyle='--', color='green', label='Decision tree classifier')\n",
        "plt.plot(p_fpr, p_tpr, linestyle='--', color='blue')\n",
        "\n",
        "# title\n",
        "plt.title(\"ROC Curve\")\n",
        "\n",
        "# x label\n",
        "plt.xlabel(\"False Positive rate\")\n",
        "\n",
        "#y label\n",
        "plt.ylabel(\"True Positive Rate\")\n",
        "\n",
        "# plt.show()"
      ],
      "metadata": {
        "id": "gQ9mbYi5SFLJ"
      },
      "execution_count": null,
      "outputs": []
    }
  ],
  "metadata": {
    "colab": {
      "provenance": [],
      "authorship_tag": "ABX9TyMgqZmyYA2e1OaRgEztxlP6",
      "include_colab_link": true
    },
    "kernelspec": {
      "display_name": "Python 3",
      "name": "python3"
    },
    "language_info": {
      "name": "python"
    }
  },
  "nbformat": 4,
  "nbformat_minor": 0
}